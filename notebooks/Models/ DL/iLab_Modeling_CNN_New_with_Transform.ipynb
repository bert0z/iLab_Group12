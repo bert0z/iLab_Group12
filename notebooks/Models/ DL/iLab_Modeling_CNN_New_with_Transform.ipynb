{
  "nbformat": 4,
  "nbformat_minor": 0,
  "metadata": {
    "colab": {
      "provenance": []
    },
    "kernelspec": {
      "name": "python3",
      "display_name": "Python 3"
    },
    "language_info": {
      "name": "python"
    }
  },
  "cells": [
    {
      "cell_type": "markdown",
      "source": [
        "## Importing the libraries"
      ],
      "metadata": {
        "id": "Ji3dMWAu54Sj"
      }
    },
    {
      "cell_type": "code",
      "execution_count": null,
      "metadata": {
        "id": "lJbT3Cs4cj-6"
      },
      "outputs": [],
      "source": [
        "import pandas as pd\n",
        "import numpy as np\n",
        "from sklearn.model_selection import train_test_split\n",
        "import seaborn as sns\n",
        "import matplotlib.pyplot as plt"
      ]
    },
    {
      "cell_type": "code",
      "source": [
        "import tensorflow as tf\n",
        "from tensorflow.keras.models import Sequential\n",
        "from tensorflow.keras.layers import Dense"
      ],
      "metadata": {
        "id": "JirKbIGyegK4"
      },
      "execution_count": null,
      "outputs": []
    },
    {
      "cell_type": "markdown",
      "source": [
        "## Connecting drive and importing data"
      ],
      "metadata": {
        "id": "1saArfw557Hu"
      }
    },
    {
      "cell_type": "code",
      "source": [
        "from google.colab import drive\n",
        "drive.mount('/content/drive')"
      ],
      "metadata": {
        "colab": {
          "base_uri": "https://localhost:8080/"
        },
        "id": "so-SL8eCcmq-",
        "outputId": "a9648ca0-845a-4ffd-d782-0e888a1a9201"
      },
      "execution_count": null,
      "outputs": [
        {
          "output_type": "stream",
          "name": "stdout",
          "text": [
            "Drive already mounted at /content/drive; to attempt to forcibly remount, call drive.mount(\"/content/drive\", force_remount=True).\n"
          ]
        }
      ]
    },
    {
      "cell_type": "code",
      "source": [
        "df = pd.read_csv(\"/content/drive/MyDrive/ilab/dataset/pd_speech_features.csv\")"
      ],
      "metadata": {
        "id": "YIC2hdqTcw3N"
      },
      "execution_count": null,
      "outputs": []
    },
    {
      "cell_type": "code",
      "source": [
        "df['class'].value_counts()"
      ],
      "metadata": {
        "colab": {
          "base_uri": "https://localhost:8080/",
          "height": 176
        },
        "id": "5GIEc-AghMEM",
        "outputId": "58d7ae28-fdff-485a-a76a-2a06ad8c50cc"
      },
      "execution_count": null,
      "outputs": [
        {
          "output_type": "execute_result",
          "data": {
            "text/plain": [
              "class\n",
              "1    564\n",
              "0    192\n",
              "Name: count, dtype: int64"
            ],
            "text/html": [
              "<div>\n",
              "<style scoped>\n",
              "    .dataframe tbody tr th:only-of-type {\n",
              "        vertical-align: middle;\n",
              "    }\n",
              "\n",
              "    .dataframe tbody tr th {\n",
              "        vertical-align: top;\n",
              "    }\n",
              "\n",
              "    .dataframe thead th {\n",
              "        text-align: right;\n",
              "    }\n",
              "</style>\n",
              "<table border=\"1\" class=\"dataframe\">\n",
              "  <thead>\n",
              "    <tr style=\"text-align: right;\">\n",
              "      <th></th>\n",
              "      <th>count</th>\n",
              "    </tr>\n",
              "    <tr>\n",
              "      <th>class</th>\n",
              "      <th></th>\n",
              "    </tr>\n",
              "  </thead>\n",
              "  <tbody>\n",
              "    <tr>\n",
              "      <th>1</th>\n",
              "      <td>564</td>\n",
              "    </tr>\n",
              "    <tr>\n",
              "      <th>0</th>\n",
              "      <td>192</td>\n",
              "    </tr>\n",
              "  </tbody>\n",
              "</table>\n",
              "</div><br><label><b>dtype:</b> int64</label>"
            ]
          },
          "metadata": {},
          "execution_count": 5
        }
      ]
    },
    {
      "cell_type": "code",
      "source": [
        "df.shape"
      ],
      "metadata": {
        "colab": {
          "base_uri": "https://localhost:8080/"
        },
        "id": "e_JaFyqxhMwT",
        "outputId": "ce9ce717-62c8-4e57-8000-7fb8ef887a76"
      },
      "execution_count": null,
      "outputs": [
        {
          "output_type": "execute_result",
          "data": {
            "text/plain": [
              "(756, 755)"
            ]
          },
          "metadata": {},
          "execution_count": 6
        }
      ]
    },
    {
      "cell_type": "code",
      "source": [
        "updated_df = df.copy().drop(columns=['id', 'gender', 'class'], axis=1)\n",
        "updated_df.shape"
      ],
      "metadata": {
        "colab": {
          "base_uri": "https://localhost:8080/"
        },
        "id": "w3L4kgCyhQfM",
        "outputId": "369dc2c5-068e-4ccf-a4b4-c6b913ba8da5"
      },
      "execution_count": null,
      "outputs": [
        {
          "output_type": "execute_result",
          "data": {
            "text/plain": [
              "(756, 752)"
            ]
          },
          "metadata": {},
          "execution_count": 7
        }
      ]
    },
    {
      "cell_type": "markdown",
      "source": [
        "## Getting the target variable and important features\n"
      ],
      "metadata": {
        "id": "PYp9YzQ_6CtK"
      }
    },
    {
      "cell_type": "code",
      "source": [
        "y = df['class']"
      ],
      "metadata": {
        "id": "ZXxx8bufcxV8"
      },
      "execution_count": null,
      "outputs": []
    },
    {
      "cell_type": "code",
      "source": [
        "X = df[['mean_MFCC_11th_coef', 'tqwt_TKEO_mean_dec_19', 'mean_12th_delta_delta', 'tqwt_entropy_shannon_dec_3', 'locPctJitter',\n",
        "        'tqwt_TKEO_mean_dec_1', 'IMF_SNR_entropy', 'app_LT_TKEO_std_9_coef', 'tqwt_energy_dec_8', 'tqwt_TKEO_mean_dec_26',\n",
        "        'tqwt_entropy_shannon_dec_11', 'Ed2_10_coef', 'tqwt_TKEO_mean_dec_36', 'tqwt_energy_dec_19', 'tqwt_TKEO_std_dec_20',\n",
        "        'tqwt_medianValue_dec_12', 'f4', 'tqwt_skewnessValue_dec_5', 'tqwt_medianValue_dec_10', 'det_TKEO_mean_6_coef', 'det_LT_TKEO_std_7_coef',\n",
        "        'tqwt_stdValue_dec_3', 'tqwt_medianValue_dec_11', 'det_LT_entropy_log_9_coef', 'GNE_NSR_SEO', 'tqwt_medianValue_dec_22',\n",
        "        'mean_11th_delta_delta', 'tqwt_stdValue_dec_21', 'tqwt_skewnessValue_dec_8', 'det_LT_entropy_shannon_6_coef', 'tqwt_TKEO_std_dec_26',\n",
        "        'tqwt_medianValue_dec_35', 'tqwt_medianValue_dec_32', 'tqwt_kurtosisValue_dec_34', 'tqwt_entropy_shannon_dec_2', 'tqwt_skewnessValue_dec_12',\n",
        "        'app_det_TKEO_mean_3_coef', 'tqwt_minValue_dec_22', 'tqwt_meanValue_dec_31', 'mean_MFCC_6th_coef', 'std_4th_delta', 'tqwt_meanValue_dec_22',\n",
        "        'tqwt_meanValue_dec_25', 'tqwt_energy_dec_23', 'tqwt_TKEO_std_dec_23', 'tqwt_skewnessValue_dec_30', 'tqwt_entropy_shannon_dec_33',\n",
        "        'det_TKEO_mean_10_coef', 'mean_MFCC_12th_coef', 'mean_MFCC_8th_coef', 'tqwt_medianValue_dec_26', 'app_LT_TKEO_std_10_coef', 'VFER_std',\n",
        "        'VFER_NSR_TKEO', 'mean_MFCC_10th_coef', 'tqwt_meanValue_dec_18', 'tqwt_meanValue_dec_16', 'mean_10th_delta', 'tqwt_entropy_shannon_dec_26',\n",
        "        'mean_delta_delta_0th', 'minIntensity', 'rapJitter', 'b1', 'tqwt_TKEO_std_dec_29', 'tqwt_maxValue_dec_19', 'tqwt_TKEO_std_dec_27',\n",
        "        'Ed_6_coef', 'tqwt_meanValue_dec_1', 'det_LT_entropy_shannon_9_coef', 'tqwt_entropy_shannon_dec_29', 'mean_4th_delta_delta',\n",
        "        'tqwt_skewnessValue_dec_20', 'app_LT_TKEO_mean_10_coef', 'tqwt_entropy_shannon_dec_36', 'tqwt_energy_dec_32', 'tqwt_maxValue_dec_21',\n",
        "        'std_4th_delta_delta', 'tqwt_stdValue_dec_34', 'tqwt_TKEO_std_dec_8', 'tqwt_TKEO_std_dec_11', 'tqwt_skewnessValue_dec_16',\n",
        "        'Ed_1_coef', 'tqwt_skewnessValue_dec_10', 'tqwt_meanValue_dec_4', 'tqwt_meanValue_dec_5', 'tqwt_meanValue_dec_29', 'tqwt_entropy_shannon_dec_21',\n",
        "        'tqwt_meanValue_dec_20', 'IMF_NSR_TKEO', 'mean_6th_delta', 'tqwt_entropy_shannon_dec_32', 'det_LT_TKEO_mean_7_coef', 'tqwt_kurtosisValue_dec_17',\n",
        "        'tqwt_kurtosisValue_dec_30', 'tqwt_maxValue_dec_22', 'mean_delta_delta_log_energy', 'std_MFCC_5th_coef', 'mean_9th_delta_delta',\n",
        "        'tqwt_stdValue_dec_27', 'tqwt_TKEO_mean_dec_29', 'mean_10th_delta_delta', 'tqwt_TKEO_mean_dec_2', 'tqwt_entropy_shannon_dec_34',\n",
        "        'tqwt_energy_dec_28', 'tqwt_meanValue_dec_32', 'tqwt_kurtosisValue_dec_27', 'tqwt_medianValue_dec_19', 'tqwt_minValue_dec_31',\n",
        "        'det_LT_entropy_shannon_4_coef', 'GNE_SNR_TKEO', 'det_LT_entropy_log_10_coef', 'tqwt_medianValue_dec_2', 'tqwt_minValue_dec_29',\n",
        "        'mean_7th_delta', 'Ed_9_coef', 'tqwt_maxValue_dec_31', 'std_5th_delta_delta', 'tqwt_meanValue_dec_30', 'std_5th_delta', 'tqwt_energy_dec_22',\n",
        "        'tqwt_entropy_shannon_dec_18', 'tqwt_energy_dec_24', 'mean_1st_delta_delta', 'tqwt_entropy_shannon_dec_4', 'mean_5th_delta_delta',\n",
        "        'b2', 'tqwt_kurtosisValue_dec_28', 'mean_4th_delta', 'tqwt_skewnessValue_dec_1', 'tqwt_energy_dec_26', 'tqwt_entropy_shannon_dec_23',\n",
        "        'app_LT_entropy_log_1_coef', 'tqwt_energy_dec_11', 'std_6th_delta_delta', 'Ed2_7_coef', 'IMF_SNR_SEO', 'ddpJitter', 'mean_delta_log_energy',\n",
        "        'tqwt_meanValue_dec_24', 'app_LT_entropy_log_2_coef', 'tqwt_kurtosisValue_dec_8', 'tqwt_TKEO_std_dec_30', 'tqwt_skewnessValue_dec_34',\n",
        "        'mean_MFCC_1st_coef', 'b4', 'tqwt_meanValue_dec_19', 'det_TKEO_std_10_coef', 'tqwt_minValue_dec_28', 'tqwt_maxValue_dec_27', 'f3', 'Ea',\n",
        "        'tqwt_skewnessValue_dec_13', 'det_LT_TKEO_std_6_coef', 'det_TKEO_std_3_coef', 'mean_11th_delta', 'Ed2_2_coef', 'tqwt_skewnessValue_dec_21',\n",
        "        'tqwt_TKEO_mean_dec_18', 'tqwt_kurtosisValue_dec_29', 'tqwt_entropy_log_dec_26', 'app_LT_entropy_shannon_7_coef', 'tqwt_energy_dec_21',\n",
        "        'Ed2_3_coef', 'tqwt_kurtosisValue_dec_12', 'tqwt_medianValue_dec_5', 'tqwt_skewnessValue_dec_19', 'tqwt_TKEO_std_dec_34', 'mean_MFCC_9th_coef',\n",
        "        'mean_12th_delta', 'tqwt_medianValue_dec_30', 'tqwt_stdValue_dec_29', 'tqwt_skewnessValue_dec_9', 'tqwt_meanValue_dec_11',\n",
        "        'det_TKEO_std_4_coef', 'tqwt_skewnessValue_dec_33', 'mean_2nd_delta_delta', 'det_TKEO_mean_7_coef', 'tqwt_medianValue_dec_8',\n",
        "        'det_LT_TKEO_mean_2_coef', 'tqwt_skewnessValue_dec_31', 'tqwt_meanValue_dec_6', 'tqwt_skewnessValue_dec_22', 'app_LT_TKEO_mean_1_coef',\n",
        "        'tqwt_kurtosisValue_dec_14', 'b3', 'tqwt_kurtosisValue_dec_31', 'det_entropy_shannon_4_coef', 'tqwt_medianValue_dec_25',\n",
        "        'app_LT_entropy_log_4_coef', 'tqwt_kurtosisValue_dec_33', 'tqwt_kurtosisValue_dec_7', 'det_LT_TKEO_mean_10_coef', 'tqwt_meanValue_dec_26',\n",
        "        'tqwt_skewnessValue_dec_7', 'tqwt_TKEO_std_dec_32', 'tqwt_entropy_shannon_dec_30', 'tqwt_meanValue_dec_35', 'tqwt_TKEO_mean_dec_22',\n",
        "        'tqwt_meanValue_dec_14', 'tqwt_TKEO_mean_dec_8', 'GNE_std', 'tqwt_medianValue_dec_34', 'GQ_std_cycle_closed', 'tqwt_skewnessValue_dec_25',\n",
        "        'tqwt_TKEO_std_dec_3', 'ddaShimmer', 'tqwt_skewnessValue_dec_14', 'det_LT_TKEO_std_4_coef', 'tqwt_meanValue_dec_10', 'tqwt_TKEO_std_dec_19',\n",
        "        'tqwt_entropy_log_dec_25', 'tqwt_kurtosisValue_dec_13', 'tqwt_medianValue_dec_15', 'app_LT_TKEO_mean_9_coef', 'tqwt_skewnessValue_dec_2',\n",
        "        'tqwt_medianValue_dec_3', 'mean_8th_delta', 'tqwt_medianValue_dec_1', 'tqwt_kurtosisValue_dec_18', 'tqwt_TKEO_mean_dec_34',\n",
        "        'tqwt_stdValue_dec_31', 'tqwt_kurtosisValue_dec_10', 'tqwt_TKEO_mean_dec_28', 'locDbShimmer', 'mean_3rd_delta',\n",
        "        'app_LT_entropy_shannon_8_coef', 'tqwt_skewnessValue_dec_32', 'tqwt_meanValue_dec_15', 'tqwt_meanValue_dec_8', 'det_LT_TKEO_std_10_coef',\n",
        "        'tqwt_skewnessValue_dec_35', 'stdDevPeriodPulses', 'tqwt_meanValue_dec_9', 'tqwt_meanValue_dec_33', 'tqwt_meanValue_dec_34',\n",
        "        'tqwt_TKEO_std_dec_22', 'tqwt_TKEO_mean_dec_11', 'tqwt_kurtosisValue_dec_19', 'tqwt_skewnessValue_dec_24', 'tqwt_medianValue_dec_24',\n",
        "        'tqwt_skewnessValue_dec_26', 'tqwt_entropy_shannon_dec_22', 'tqwt_TKEO_mean_dec_21', 'mean_8th_delta_delta', 'tqwt_medianValue_dec_4',\n",
        "        'app_LT_entropy_shannon_6_coef', 'tqwt_maxValue_dec_8', 'tqwt_skewnessValue_dec_28', 'std_delta_log_energy', 'tqwt_maxValue_dec_28',\n",
        "        'tqwt_TKEO_std_dec_36', 'tqwt_meanValue_dec_17', 'tqwt_entropy_shannon_dec_25', 'GNE_mean', 'tqwt_stdValue_dec_2',\n",
        "        'tqwt_medianValue_dec_17', 'locShimmer', 'IMF_SNR_TKEO', 'tqwt_TKEO_std_dec_33', 'tqwt_entropy_log_dec_23', 'tqwt_skewnessValue_dec_18',\n",
        "        'tqwt_medianValue_dec_18', 'det_LT_entropy_shannon_5_coef', 'tqwt_TKEO_mean_dec_24', 'tqwt_maxValue_dec_36', 'tqwt_TKEO_std_dec_4',\n",
        "        'tqwt_TKEO_std_dec_2', 'tqwt_medianValue_dec_20', 'tqwt_maxValue_dec_29', 'tqwt_medianValue_dec_9', 'VFER_SNR_TKEO',\n",
        "        'tqwt_entropy_log_dec_36', 'app_TKEO_std_4_coef', 'tqwt_skewnessValue_dec_11', 'tqwt_stdValue_dec_33', 'det_TKEO_mean_4_coef',\n",
        "        'tqwt_skewnessValue_dec_29', 'VFER_SNR_SEO', 'tqwt_TKEO_mean_dec_3', 'tqwt_meanValue_dec_2', 'tqwt_minValue_dec_27', 'tqwt_skewnessValue_dec_23',\n",
        "        'tqwt_TKEO_mean_dec_25', 'tqwt_medianValue_dec_13', 'tqwt_kurtosisValue_dec_15', 'tqwt_meanValue_dec_13', 'tqwt_meanValue_dec_23',\n",
        "        'tqwt_meanValue_dec_21', 'tqwt_stdValue_dec_28', 'tqwt_minValue_dec_23', 'tqwt_TKEO_std_dec_5', 'det_LT_TKEO_std_2_coef', 'tqwt_meanValue_dec_7',\n",
        "        'tqwt_skewnessValue_dec_15', 'det_LT_entropy_shannon_7_coef', 'tqwt_minValue_dec_8', 'GQ_prc5_95', 'tqwt_stdValue_dec_23', 'tqwt_meanValue_dec_28',\n",
        "        'tqwt_kurtosisValue_dec_32', 'tqwt_kurtosisValue_dec_26', 'tqwt_minValue_dec_21', 'apq5Shimmer', 'app_LT_entropy_log_3_coef',\n",
        "        'det_LT_entropy_shannon_10_coef', 'app_LT_TKEO_mean_8_coef', 'tqwt_energy_dec_2', 'tqwt_energy_dec_6', 'tqwt_skewnessValue_dec_6',\n",
        "        'tqwt_skewnessValue_dec_3', 'det_TKEO_std_7_coef', 'mean_7th_delta_delta', 'mean_3rd_delta_delta', 'Ed2_6_coef', 'tqwt_medianValue_dec_6',\n",
        "        'det_entropy_shannon_10_coef', 'locAbsJitter', 'tqwt_TKEO_mean_dec_32', 'det_entropy_log_1_coef', 'app_LT_entropy_shannon_5_coef',\n",
        "        'tqwt_kurtosisValue_dec_20', 'tqwt_entropy_shannon_dec_24', 'tqwt_energy_dec_3', 'Ed_7_coef', 'tqwt_entropy_shannon_dec_1', 'tqwt_energy_dec_18',\n",
        "        'tqwt_kurtosisValue_dec_16', 'ppq5Jitter', 'apq3Shimmer', 'det_LT_TKEO_std_3_coef', 'mean_1st_delta', 'tqwt_kurtosisValue_dec_21',\n",
        "        'tqwt_medianValue_dec_23', 'mean_0th_delta', 'tqwt_kurtosisValue_dec_9', 'tqwt_medianValue_dec_27', 'tqwt_skewnessValue_dec_36',\n",
        "        'tqwt_TKEO_std_dec_24', 'tqwt_stdValue_dec_22', 'tqwt_entropy_shannon_dec_8', 'tqwt_medianValue_dec_33', 'tqwt_medianValue_dec_29',\n",
        "        'tqwt_energy_dec_31', 'tqwt_entropy_shannon_dec_27', 'std_6th_delta', 'det_entropy_shannon_7_coef', 'tqwt_TKEO_mean_dec_27',\n",
        "        'tqwt_medianValue_dec_16', 'GNE_NSR_TKEO', 'tqwt_energy_dec_20', 'tqwt_TKEO_mean_dec_23', 'tqwt_minValue_dec_9', 'tqwt_stdValue_dec_19',\n",
        "        'tqwt_TKEO_mean_dec_33', 'tqwt_skewnessValue_dec_4', 'mean_5th_delta', 'mean_2nd_delta', 'tqwt_entropy_shannon_dec_28', 'std_2nd_delta',\n",
        "        'tqwt_energy_dec_27', 'tqwt_TKEO_mean_dec_4', 'tqwt_medianValue_dec_7', 'tqwt_kurtosisValue_dec_24', 'Ed2_9_coef', 'tqwt_skewnessValue_dec_17',\n",
        "        'tqwt_meanValue_dec_3', 'tqwt_stdValue_dec_4', 'tqwt_medianValue_dec_21', 'mean_6th_delta_delta', 'tqwt_kurtosisValue_dec_25',\n",
        "        'tqwt_skewnessValue_dec_27', 'tqwt_medianValue_dec_31', 'tqwt_kurtosisValue_dec_35', 'tqwt_maxValue_dec_23', 'det_LT_entropy_shannon_3_coef',\n",
        "        'tqwt_meanValue_dec_27', 'mean_9th_delta', 'GNE_SNR_SEO', 'tqwt_energy_dec_34', 'tqwt_meanValue_dec_12', 'tqwt_medianValue_dec_14',\n",
        "        'tqwt_minValue_dec_19', 'app_LT_entropy_shannon_10_coef', 'tqwt_medianValue_dec_28', 'tqwt_kurtosisValue_dec_11', 'std_2nd_delta_delta',\n",
        "        'tqwt_TKEO_mean_dec_30']]"
      ],
      "metadata": {
        "id": "-vN3D7x-czG0"
      },
      "execution_count": null,
      "outputs": []
    },
    {
      "cell_type": "code",
      "source": [
        "X.head()"
      ],
      "metadata": {
        "colab": {
          "base_uri": "https://localhost:8080/",
          "height": 253
        },
        "id": "bB4ssc-phmGO",
        "outputId": "495ebb52-2443-4aab-a397-e8d23957aba5"
      },
      "execution_count": null,
      "outputs": [
        {
          "output_type": "execute_result",
          "data": {
            "text/plain": [
              "   mean_MFCC_11th_coef  tqwt_TKEO_mean_dec_19  mean_12th_delta_delta  \\\n",
              "0            -0.006825               0.064414               0.000027   \n",
              "1             0.057552               0.068347              -0.000109   \n",
              "2             0.286980               0.035857              -0.000298   \n",
              "3            -0.754270               0.033062              -0.000080   \n",
              "4            -0.880070               0.033136               0.000035   \n",
              "\n",
              "   tqwt_entropy_shannon_dec_3  locPctJitter  tqwt_TKEO_mean_dec_1  \\\n",
              "0                    0.091515       0.00218          1.610000e-07   \n",
              "1                    0.122710       0.00195          3.050000e-07   \n",
              "2                    0.055977       0.00176          1.790000e-07   \n",
              "3                    2.709800       0.00419          2.580000e-06   \n",
              "4                    3.948500       0.00535          2.440000e-06   \n",
              "\n",
              "   IMF_SNR_entropy  app_LT_TKEO_std_9_coef  tqwt_energy_dec_8  \\\n",
              "0          23.2610               4188.2456           0.000376   \n",
              "1          21.8851               4148.9889           0.000276   \n",
              "2          41.7310               4127.0967           0.000352   \n",
              "3          35.8179               3910.7029           0.000132   \n",
              "4          31.5211               4297.4639           0.000136   \n",
              "\n",
              "   tqwt_TKEO_mean_dec_26  ...  GNE_SNR_SEO  tqwt_energy_dec_34  \\\n",
              "0               0.077560  ...  1200445.612            0.000002   \n",
              "1               0.043337  ...  1298455.445            0.000003   \n",
              "2               0.019365  ...  1272869.841            0.000006   \n",
              "3               0.432670  ...  1932289.206            0.000069   \n",
              "4               0.498140  ...  1861807.802            0.000041   \n",
              "\n",
              "   tqwt_meanValue_dec_12  tqwt_medianValue_dec_14  tqwt_minValue_dec_19  \\\n",
              "0          -2.630000e-21                 0.000560              -0.59600   \n",
              "1          -3.770000e-20                -0.000146              -0.47909   \n",
              "2           2.580000e-21                 0.000045              -0.43444   \n",
              "3          -3.160000e-20                 0.000644              -0.52657   \n",
              "4          -3.590000e-20                -0.000317              -0.45541   \n",
              "\n",
              "   app_LT_entropy_shannon_10_coef  tqwt_medianValue_dec_28  \\\n",
              "0                    -3601122.613                 0.056236   \n",
              "1                    -3563560.603                 0.004587   \n",
              "2                    -3539902.400                -0.004803   \n",
              "3                    -3271399.011                 0.000873   \n",
              "4                    -3367165.736                -0.000449   \n",
              "\n",
              "   tqwt_kurtosisValue_dec_11  std_2nd_delta_delta  tqwt_TKEO_mean_dec_30  \n",
              "0                     4.6068             0.066410               0.000044  \n",
              "1                    13.6965             0.077256               0.000081  \n",
              "2                     4.0864             0.068545               0.000072  \n",
              "3                   100.3649             0.030155               0.018764  \n",
              "4                    34.0835             0.030160               0.008679  \n",
              "\n",
              "[5 rows x 387 columns]"
            ],
            "text/html": [
              "\n",
              "  <div id=\"df-052fe9d8-58af-4a4e-93ed-0ed085ebbd1a\" class=\"colab-df-container\">\n",
              "    <div>\n",
              "<style scoped>\n",
              "    .dataframe tbody tr th:only-of-type {\n",
              "        vertical-align: middle;\n",
              "    }\n",
              "\n",
              "    .dataframe tbody tr th {\n",
              "        vertical-align: top;\n",
              "    }\n",
              "\n",
              "    .dataframe thead th {\n",
              "        text-align: right;\n",
              "    }\n",
              "</style>\n",
              "<table border=\"1\" class=\"dataframe\">\n",
              "  <thead>\n",
              "    <tr style=\"text-align: right;\">\n",
              "      <th></th>\n",
              "      <th>mean_MFCC_11th_coef</th>\n",
              "      <th>tqwt_TKEO_mean_dec_19</th>\n",
              "      <th>mean_12th_delta_delta</th>\n",
              "      <th>tqwt_entropy_shannon_dec_3</th>\n",
              "      <th>locPctJitter</th>\n",
              "      <th>tqwt_TKEO_mean_dec_1</th>\n",
              "      <th>IMF_SNR_entropy</th>\n",
              "      <th>app_LT_TKEO_std_9_coef</th>\n",
              "      <th>tqwt_energy_dec_8</th>\n",
              "      <th>tqwt_TKEO_mean_dec_26</th>\n",
              "      <th>...</th>\n",
              "      <th>GNE_SNR_SEO</th>\n",
              "      <th>tqwt_energy_dec_34</th>\n",
              "      <th>tqwt_meanValue_dec_12</th>\n",
              "      <th>tqwt_medianValue_dec_14</th>\n",
              "      <th>tqwt_minValue_dec_19</th>\n",
              "      <th>app_LT_entropy_shannon_10_coef</th>\n",
              "      <th>tqwt_medianValue_dec_28</th>\n",
              "      <th>tqwt_kurtosisValue_dec_11</th>\n",
              "      <th>std_2nd_delta_delta</th>\n",
              "      <th>tqwt_TKEO_mean_dec_30</th>\n",
              "    </tr>\n",
              "  </thead>\n",
              "  <tbody>\n",
              "    <tr>\n",
              "      <th>0</th>\n",
              "      <td>-0.006825</td>\n",
              "      <td>0.064414</td>\n",
              "      <td>0.000027</td>\n",
              "      <td>0.091515</td>\n",
              "      <td>0.00218</td>\n",
              "      <td>1.610000e-07</td>\n",
              "      <td>23.2610</td>\n",
              "      <td>4188.2456</td>\n",
              "      <td>0.000376</td>\n",
              "      <td>0.077560</td>\n",
              "      <td>...</td>\n",
              "      <td>1200445.612</td>\n",
              "      <td>0.000002</td>\n",
              "      <td>-2.630000e-21</td>\n",
              "      <td>0.000560</td>\n",
              "      <td>-0.59600</td>\n",
              "      <td>-3601122.613</td>\n",
              "      <td>0.056236</td>\n",
              "      <td>4.6068</td>\n",
              "      <td>0.066410</td>\n",
              "      <td>0.000044</td>\n",
              "    </tr>\n",
              "    <tr>\n",
              "      <th>1</th>\n",
              "      <td>0.057552</td>\n",
              "      <td>0.068347</td>\n",
              "      <td>-0.000109</td>\n",
              "      <td>0.122710</td>\n",
              "      <td>0.00195</td>\n",
              "      <td>3.050000e-07</td>\n",
              "      <td>21.8851</td>\n",
              "      <td>4148.9889</td>\n",
              "      <td>0.000276</td>\n",
              "      <td>0.043337</td>\n",
              "      <td>...</td>\n",
              "      <td>1298455.445</td>\n",
              "      <td>0.000003</td>\n",
              "      <td>-3.770000e-20</td>\n",
              "      <td>-0.000146</td>\n",
              "      <td>-0.47909</td>\n",
              "      <td>-3563560.603</td>\n",
              "      <td>0.004587</td>\n",
              "      <td>13.6965</td>\n",
              "      <td>0.077256</td>\n",
              "      <td>0.000081</td>\n",
              "    </tr>\n",
              "    <tr>\n",
              "      <th>2</th>\n",
              "      <td>0.286980</td>\n",
              "      <td>0.035857</td>\n",
              "      <td>-0.000298</td>\n",
              "      <td>0.055977</td>\n",
              "      <td>0.00176</td>\n",
              "      <td>1.790000e-07</td>\n",
              "      <td>41.7310</td>\n",
              "      <td>4127.0967</td>\n",
              "      <td>0.000352</td>\n",
              "      <td>0.019365</td>\n",
              "      <td>...</td>\n",
              "      <td>1272869.841</td>\n",
              "      <td>0.000006</td>\n",
              "      <td>2.580000e-21</td>\n",
              "      <td>0.000045</td>\n",
              "      <td>-0.43444</td>\n",
              "      <td>-3539902.400</td>\n",
              "      <td>-0.004803</td>\n",
              "      <td>4.0864</td>\n",
              "      <td>0.068545</td>\n",
              "      <td>0.000072</td>\n",
              "    </tr>\n",
              "    <tr>\n",
              "      <th>3</th>\n",
              "      <td>-0.754270</td>\n",
              "      <td>0.033062</td>\n",
              "      <td>-0.000080</td>\n",
              "      <td>2.709800</td>\n",
              "      <td>0.00419</td>\n",
              "      <td>2.580000e-06</td>\n",
              "      <td>35.8179</td>\n",
              "      <td>3910.7029</td>\n",
              "      <td>0.000132</td>\n",
              "      <td>0.432670</td>\n",
              "      <td>...</td>\n",
              "      <td>1932289.206</td>\n",
              "      <td>0.000069</td>\n",
              "      <td>-3.160000e-20</td>\n",
              "      <td>0.000644</td>\n",
              "      <td>-0.52657</td>\n",
              "      <td>-3271399.011</td>\n",
              "      <td>0.000873</td>\n",
              "      <td>100.3649</td>\n",
              "      <td>0.030155</td>\n",
              "      <td>0.018764</td>\n",
              "    </tr>\n",
              "    <tr>\n",
              "      <th>4</th>\n",
              "      <td>-0.880070</td>\n",
              "      <td>0.033136</td>\n",
              "      <td>0.000035</td>\n",
              "      <td>3.948500</td>\n",
              "      <td>0.00535</td>\n",
              "      <td>2.440000e-06</td>\n",
              "      <td>31.5211</td>\n",
              "      <td>4297.4639</td>\n",
              "      <td>0.000136</td>\n",
              "      <td>0.498140</td>\n",
              "      <td>...</td>\n",
              "      <td>1861807.802</td>\n",
              "      <td>0.000041</td>\n",
              "      <td>-3.590000e-20</td>\n",
              "      <td>-0.000317</td>\n",
              "      <td>-0.45541</td>\n",
              "      <td>-3367165.736</td>\n",
              "      <td>-0.000449</td>\n",
              "      <td>34.0835</td>\n",
              "      <td>0.030160</td>\n",
              "      <td>0.008679</td>\n",
              "    </tr>\n",
              "  </tbody>\n",
              "</table>\n",
              "<p>5 rows × 387 columns</p>\n",
              "</div>\n",
              "    <div class=\"colab-df-buttons\">\n",
              "\n",
              "  <div class=\"colab-df-container\">\n",
              "    <button class=\"colab-df-convert\" onclick=\"convertToInteractive('df-052fe9d8-58af-4a4e-93ed-0ed085ebbd1a')\"\n",
              "            title=\"Convert this dataframe to an interactive table.\"\n",
              "            style=\"display:none;\">\n",
              "\n",
              "  <svg xmlns=\"http://www.w3.org/2000/svg\" height=\"24px\" viewBox=\"0 -960 960 960\">\n",
              "    <path d=\"M120-120v-720h720v720H120Zm60-500h600v-160H180v160Zm220 220h160v-160H400v160Zm0 220h160v-160H400v160ZM180-400h160v-160H180v160Zm440 0h160v-160H620v160ZM180-180h160v-160H180v160Zm440 0h160v-160H620v160Z\"/>\n",
              "  </svg>\n",
              "    </button>\n",
              "\n",
              "  <style>\n",
              "    .colab-df-container {\n",
              "      display:flex;\n",
              "      gap: 12px;\n",
              "    }\n",
              "\n",
              "    .colab-df-convert {\n",
              "      background-color: #E8F0FE;\n",
              "      border: none;\n",
              "      border-radius: 50%;\n",
              "      cursor: pointer;\n",
              "      display: none;\n",
              "      fill: #1967D2;\n",
              "      height: 32px;\n",
              "      padding: 0 0 0 0;\n",
              "      width: 32px;\n",
              "    }\n",
              "\n",
              "    .colab-df-convert:hover {\n",
              "      background-color: #E2EBFA;\n",
              "      box-shadow: 0px 1px 2px rgba(60, 64, 67, 0.3), 0px 1px 3px 1px rgba(60, 64, 67, 0.15);\n",
              "      fill: #174EA6;\n",
              "    }\n",
              "\n",
              "    .colab-df-buttons div {\n",
              "      margin-bottom: 4px;\n",
              "    }\n",
              "\n",
              "    [theme=dark] .colab-df-convert {\n",
              "      background-color: #3B4455;\n",
              "      fill: #D2E3FC;\n",
              "    }\n",
              "\n",
              "    [theme=dark] .colab-df-convert:hover {\n",
              "      background-color: #434B5C;\n",
              "      box-shadow: 0px 1px 3px 1px rgba(0, 0, 0, 0.15);\n",
              "      filter: drop-shadow(0px 1px 2px rgba(0, 0, 0, 0.3));\n",
              "      fill: #FFFFFF;\n",
              "    }\n",
              "  </style>\n",
              "\n",
              "    <script>\n",
              "      const buttonEl =\n",
              "        document.querySelector('#df-052fe9d8-58af-4a4e-93ed-0ed085ebbd1a button.colab-df-convert');\n",
              "      buttonEl.style.display =\n",
              "        google.colab.kernel.accessAllowed ? 'block' : 'none';\n",
              "\n",
              "      async function convertToInteractive(key) {\n",
              "        const element = document.querySelector('#df-052fe9d8-58af-4a4e-93ed-0ed085ebbd1a');\n",
              "        const dataTable =\n",
              "          await google.colab.kernel.invokeFunction('convertToInteractive',\n",
              "                                                    [key], {});\n",
              "        if (!dataTable) return;\n",
              "\n",
              "        const docLinkHtml = 'Like what you see? Visit the ' +\n",
              "          '<a target=\"_blank\" href=https://colab.research.google.com/notebooks/data_table.ipynb>data table notebook</a>'\n",
              "          + ' to learn more about interactive tables.';\n",
              "        element.innerHTML = '';\n",
              "        dataTable['output_type'] = 'display_data';\n",
              "        await google.colab.output.renderOutput(dataTable, element);\n",
              "        const docLink = document.createElement('div');\n",
              "        docLink.innerHTML = docLinkHtml;\n",
              "        element.appendChild(docLink);\n",
              "      }\n",
              "    </script>\n",
              "  </div>\n",
              "\n",
              "\n",
              "<div id=\"df-ad71cd59-cc9d-4a9e-af9d-b8f0a8326949\">\n",
              "  <button class=\"colab-df-quickchart\" onclick=\"quickchart('df-ad71cd59-cc9d-4a9e-af9d-b8f0a8326949')\"\n",
              "            title=\"Suggest charts\"\n",
              "            style=\"display:none;\">\n",
              "\n",
              "<svg xmlns=\"http://www.w3.org/2000/svg\" height=\"24px\"viewBox=\"0 0 24 24\"\n",
              "     width=\"24px\">\n",
              "    <g>\n",
              "        <path d=\"M19 3H5c-1.1 0-2 .9-2 2v14c0 1.1.9 2 2 2h14c1.1 0 2-.9 2-2V5c0-1.1-.9-2-2-2zM9 17H7v-7h2v7zm4 0h-2V7h2v10zm4 0h-2v-4h2v4z\"/>\n",
              "    </g>\n",
              "</svg>\n",
              "  </button>\n",
              "\n",
              "<style>\n",
              "  .colab-df-quickchart {\n",
              "      --bg-color: #E8F0FE;\n",
              "      --fill-color: #1967D2;\n",
              "      --hover-bg-color: #E2EBFA;\n",
              "      --hover-fill-color: #174EA6;\n",
              "      --disabled-fill-color: #AAA;\n",
              "      --disabled-bg-color: #DDD;\n",
              "  }\n",
              "\n",
              "  [theme=dark] .colab-df-quickchart {\n",
              "      --bg-color: #3B4455;\n",
              "      --fill-color: #D2E3FC;\n",
              "      --hover-bg-color: #434B5C;\n",
              "      --hover-fill-color: #FFFFFF;\n",
              "      --disabled-bg-color: #3B4455;\n",
              "      --disabled-fill-color: #666;\n",
              "  }\n",
              "\n",
              "  .colab-df-quickchart {\n",
              "    background-color: var(--bg-color);\n",
              "    border: none;\n",
              "    border-radius: 50%;\n",
              "    cursor: pointer;\n",
              "    display: none;\n",
              "    fill: var(--fill-color);\n",
              "    height: 32px;\n",
              "    padding: 0;\n",
              "    width: 32px;\n",
              "  }\n",
              "\n",
              "  .colab-df-quickchart:hover {\n",
              "    background-color: var(--hover-bg-color);\n",
              "    box-shadow: 0 1px 2px rgba(60, 64, 67, 0.3), 0 1px 3px 1px rgba(60, 64, 67, 0.15);\n",
              "    fill: var(--button-hover-fill-color);\n",
              "  }\n",
              "\n",
              "  .colab-df-quickchart-complete:disabled,\n",
              "  .colab-df-quickchart-complete:disabled:hover {\n",
              "    background-color: var(--disabled-bg-color);\n",
              "    fill: var(--disabled-fill-color);\n",
              "    box-shadow: none;\n",
              "  }\n",
              "\n",
              "  .colab-df-spinner {\n",
              "    border: 2px solid var(--fill-color);\n",
              "    border-color: transparent;\n",
              "    border-bottom-color: var(--fill-color);\n",
              "    animation:\n",
              "      spin 1s steps(1) infinite;\n",
              "  }\n",
              "\n",
              "  @keyframes spin {\n",
              "    0% {\n",
              "      border-color: transparent;\n",
              "      border-bottom-color: var(--fill-color);\n",
              "      border-left-color: var(--fill-color);\n",
              "    }\n",
              "    20% {\n",
              "      border-color: transparent;\n",
              "      border-left-color: var(--fill-color);\n",
              "      border-top-color: var(--fill-color);\n",
              "    }\n",
              "    30% {\n",
              "      border-color: transparent;\n",
              "      border-left-color: var(--fill-color);\n",
              "      border-top-color: var(--fill-color);\n",
              "      border-right-color: var(--fill-color);\n",
              "    }\n",
              "    40% {\n",
              "      border-color: transparent;\n",
              "      border-right-color: var(--fill-color);\n",
              "      border-top-color: var(--fill-color);\n",
              "    }\n",
              "    60% {\n",
              "      border-color: transparent;\n",
              "      border-right-color: var(--fill-color);\n",
              "    }\n",
              "    80% {\n",
              "      border-color: transparent;\n",
              "      border-right-color: var(--fill-color);\n",
              "      border-bottom-color: var(--fill-color);\n",
              "    }\n",
              "    90% {\n",
              "      border-color: transparent;\n",
              "      border-bottom-color: var(--fill-color);\n",
              "    }\n",
              "  }\n",
              "</style>\n",
              "\n",
              "  <script>\n",
              "    async function quickchart(key) {\n",
              "      const quickchartButtonEl =\n",
              "        document.querySelector('#' + key + ' button');\n",
              "      quickchartButtonEl.disabled = true;  // To prevent multiple clicks.\n",
              "      quickchartButtonEl.classList.add('colab-df-spinner');\n",
              "      try {\n",
              "        const charts = await google.colab.kernel.invokeFunction(\n",
              "            'suggestCharts', [key], {});\n",
              "      } catch (error) {\n",
              "        console.error('Error during call to suggestCharts:', error);\n",
              "      }\n",
              "      quickchartButtonEl.classList.remove('colab-df-spinner');\n",
              "      quickchartButtonEl.classList.add('colab-df-quickchart-complete');\n",
              "    }\n",
              "    (() => {\n",
              "      let quickchartButtonEl =\n",
              "        document.querySelector('#df-ad71cd59-cc9d-4a9e-af9d-b8f0a8326949 button');\n",
              "      quickchartButtonEl.style.display =\n",
              "        google.colab.kernel.accessAllowed ? 'block' : 'none';\n",
              "    })();\n",
              "  </script>\n",
              "</div>\n",
              "\n",
              "    </div>\n",
              "  </div>\n"
            ],
            "application/vnd.google.colaboratory.intrinsic+json": {
              "type": "dataframe",
              "variable_name": "X"
            }
          },
          "metadata": {},
          "execution_count": 10
        }
      ]
    },
    {
      "cell_type": "code",
      "source": [
        "X.shape"
      ],
      "metadata": {
        "colab": {
          "base_uri": "https://localhost:8080/"
        },
        "id": "gLjPPvKzhodD",
        "outputId": "b7d1ac87-ca58-4f47-f0f3-fe6f43e753e7"
      },
      "execution_count": null,
      "outputs": [
        {
          "output_type": "execute_result",
          "data": {
            "text/plain": [
              "(756, 387)"
            ]
          },
          "metadata": {},
          "execution_count": 11
        }
      ]
    },
    {
      "cell_type": "markdown",
      "source": [
        "## Transforming data"
      ],
      "metadata": {
        "id": "aXJ5yUM32ywI"
      }
    },
    {
      "cell_type": "code",
      "source": [
        "from sklearn.preprocessing import StandardScaler\n",
        "scaler = StandardScaler()"
      ],
      "metadata": {
        "id": "z76ak7G5Gscl"
      },
      "execution_count": null,
      "outputs": []
    },
    {
      "cell_type": "code",
      "source": [
        "X=scaler.fit_transform(X)"
      ],
      "metadata": {
        "id": "zbGwighVVAfC"
      },
      "execution_count": null,
      "outputs": []
    },
    {
      "cell_type": "markdown",
      "source": [
        "## Splitting dataset into test and train\n"
      ],
      "metadata": {
        "id": "T8cKXMfM6H8O"
      }
    },
    {
      "cell_type": "code",
      "source": [
        "X_train, X_test, y_train, y_test = train_test_split(X,y, test_size=0.2, random_state=44)"
      ],
      "metadata": {
        "id": "n3OVRj1Lc9Wt"
      },
      "execution_count": null,
      "outputs": []
    },
    {
      "cell_type": "code",
      "source": [
        "X_train, X_val, y_train, y_val = train_test_split(X_train,y_train, test_size=0.2, random_state=44)"
      ],
      "metadata": {
        "id": "v7K6TnykhtVI"
      },
      "execution_count": null,
      "outputs": []
    },
    {
      "cell_type": "markdown",
      "source": [
        "The train, validation and test data is split in 80-20 ratio for each as there are 756 records. Since the number of records is enough with 759 features to train the model we use the validation set to test the model performance after training a baseline model."
      ],
      "metadata": {
        "id": "4TaZ4TZYp7rv"
      }
    },
    {
      "cell_type": "code",
      "source": [
        "print(\"Training data: \", X_train.shape)\n",
        "print(\"Validation data: \", X_val.shape)\n",
        "print(\"Test data: \", X_test.shape)"
      ],
      "metadata": {
        "colab": {
          "base_uri": "https://localhost:8080/"
        },
        "id": "IyPB1SA_hwRS",
        "outputId": "6d310eac-4c82-4654-dad5-2a8880274a12"
      },
      "execution_count": null,
      "outputs": [
        {
          "output_type": "stream",
          "name": "stdout",
          "text": [
            "Training data:  (483, 387)\n",
            "Validation data:  (121, 387)\n",
            "Test data:  (152, 387)\n"
          ]
        }
      ]
    },
    {
      "cell_type": "markdown",
      "source": [
        "## Training and testing Random Forest Classifier"
      ],
      "metadata": {
        "id": "Tq0iho5u6MSS"
      }
    },
    {
      "cell_type": "code",
      "source": [
        "model = Sequential()\n",
        "model.add(Dense(128, input_dim=387, activation='relu'))\n",
        "model.add(Dense(64, activation='relu'))\n",
        "model.add(Dense(32, activation='relu'))\n",
        "model.add(Dense(1, activation='sigmoid'))"
      ],
      "metadata": {
        "id": "6NW1ZpPFdBNp",
        "colab": {
          "base_uri": "https://localhost:8080/"
        },
        "outputId": "d693b23f-74a0-48e1-febc-ad2d0e9eb410"
      },
      "execution_count": null,
      "outputs": [
        {
          "output_type": "stream",
          "name": "stderr",
          "text": [
            "/usr/local/lib/python3.10/dist-packages/keras/src/layers/core/dense.py:87: UserWarning: Do not pass an `input_shape`/`input_dim` argument to a layer. When using Sequential models, prefer using an `Input(shape)` object as the first layer in the model instead.\n",
            "  super().__init__(activity_regularizer=activity_regularizer, **kwargs)\n"
          ]
        }
      ]
    },
    {
      "cell_type": "code",
      "source": [
        "model.compile(optimizer='adam', loss='binary_crossentropy', metrics=['accuracy'])"
      ],
      "metadata": {
        "id": "xkzdxikYdyWO"
      },
      "execution_count": null,
      "outputs": []
    },
    {
      "cell_type": "code",
      "source": [
        "model.fit(X_train, y_train, epochs=50, batch_size=32, validation_data=(X_val, y_val))"
      ],
      "metadata": {
        "id": "rPOMV-5ad0i9",
        "colab": {
          "base_uri": "https://localhost:8080/"
        },
        "outputId": "e0f26d17-e097-417c-8bd2-93f9c6fb41a5"
      },
      "execution_count": null,
      "outputs": [
        {
          "output_type": "stream",
          "name": "stdout",
          "text": [
            "Epoch 1/50\n",
            "\u001b[1m16/16\u001b[0m \u001b[32m━━━━━━━━━━━━━━━━━━━━\u001b[0m\u001b[37m\u001b[0m \u001b[1m2s\u001b[0m 24ms/step - accuracy: 0.6804 - loss: 0.6022 - val_accuracy: 0.7851 - val_loss: 0.4922\n",
            "Epoch 2/50\n",
            "\u001b[1m16/16\u001b[0m \u001b[32m━━━━━━━━━━━━━━━━━━━━\u001b[0m\u001b[37m\u001b[0m \u001b[1m0s\u001b[0m 6ms/step - accuracy: 0.8823 - loss: 0.3170 - val_accuracy: 0.8017 - val_loss: 0.4274\n",
            "Epoch 3/50\n",
            "\u001b[1m16/16\u001b[0m \u001b[32m━━━━━━━━━━━━━━━━━━━━\u001b[0m\u001b[37m\u001b[0m \u001b[1m0s\u001b[0m 9ms/step - accuracy: 0.9255 - loss: 0.2308 - val_accuracy: 0.7934 - val_loss: 0.4084\n",
            "Epoch 4/50\n",
            "\u001b[1m16/16\u001b[0m \u001b[32m━━━━━━━━━━━━━━━━━━━━\u001b[0m\u001b[37m\u001b[0m \u001b[1m0s\u001b[0m 7ms/step - accuracy: 0.9601 - loss: 0.1414 - val_accuracy: 0.8099 - val_loss: 0.4392\n",
            "Epoch 5/50\n",
            "\u001b[1m16/16\u001b[0m \u001b[32m━━━━━━━━━━━━━━━━━━━━\u001b[0m\u001b[37m\u001b[0m \u001b[1m0s\u001b[0m 7ms/step - accuracy: 0.9769 - loss: 0.0830 - val_accuracy: 0.8099 - val_loss: 0.5060\n",
            "Epoch 6/50\n",
            "\u001b[1m16/16\u001b[0m \u001b[32m━━━━━━━━━━━━━━━━━━━━\u001b[0m\u001b[37m\u001b[0m \u001b[1m0s\u001b[0m 6ms/step - accuracy: 0.9984 - loss: 0.0476 - val_accuracy: 0.8182 - val_loss: 0.5712\n",
            "Epoch 7/50\n",
            "\u001b[1m16/16\u001b[0m \u001b[32m━━━━━━━━━━━━━━━━━━━━\u001b[0m\u001b[37m\u001b[0m \u001b[1m0s\u001b[0m 8ms/step - accuracy: 1.0000 - loss: 0.0305 - val_accuracy: 0.8182 - val_loss: 0.6342\n",
            "Epoch 8/50\n",
            "\u001b[1m16/16\u001b[0m \u001b[32m━━━━━━━━━━━━━━━━━━━━\u001b[0m\u001b[37m\u001b[0m \u001b[1m0s\u001b[0m 8ms/step - accuracy: 1.0000 - loss: 0.0156 - val_accuracy: 0.8182 - val_loss: 0.6864\n",
            "Epoch 9/50\n",
            "\u001b[1m16/16\u001b[0m \u001b[32m━━━━━━━━━━━━━━━━━━━━\u001b[0m\u001b[37m\u001b[0m \u001b[1m0s\u001b[0m 6ms/step - accuracy: 1.0000 - loss: 0.0103 - val_accuracy: 0.8017 - val_loss: 0.7483\n",
            "Epoch 10/50\n",
            "\u001b[1m16/16\u001b[0m \u001b[32m━━━━━━━━━━━━━━━━━━━━\u001b[0m\u001b[37m\u001b[0m \u001b[1m0s\u001b[0m 7ms/step - accuracy: 1.0000 - loss: 0.0054 - val_accuracy: 0.8099 - val_loss: 0.7774\n",
            "Epoch 11/50\n",
            "\u001b[1m16/16\u001b[0m \u001b[32m━━━━━━━━━━━━━━━━━━━━\u001b[0m\u001b[37m\u001b[0m \u001b[1m0s\u001b[0m 8ms/step - accuracy: 1.0000 - loss: 0.0049 - val_accuracy: 0.8099 - val_loss: 0.8223\n",
            "Epoch 12/50\n",
            "\u001b[1m16/16\u001b[0m \u001b[32m━━━━━━━━━━━━━━━━━━━━\u001b[0m\u001b[37m\u001b[0m \u001b[1m0s\u001b[0m 7ms/step - accuracy: 1.0000 - loss: 0.0028 - val_accuracy: 0.8182 - val_loss: 0.8438\n",
            "Epoch 13/50\n",
            "\u001b[1m16/16\u001b[0m \u001b[32m━━━━━━━━━━━━━━━━━━━━\u001b[0m\u001b[37m\u001b[0m \u001b[1m0s\u001b[0m 7ms/step - accuracy: 1.0000 - loss: 0.0025 - val_accuracy: 0.8182 - val_loss: 0.8616\n",
            "Epoch 14/50\n",
            "\u001b[1m16/16\u001b[0m \u001b[32m━━━━━━━━━━━━━━━━━━━━\u001b[0m\u001b[37m\u001b[0m \u001b[1m0s\u001b[0m 9ms/step - accuracy: 1.0000 - loss: 0.0019 - val_accuracy: 0.8182 - val_loss: 0.8784\n",
            "Epoch 15/50\n",
            "\u001b[1m16/16\u001b[0m \u001b[32m━━━━━━━━━━━━━━━━━━━━\u001b[0m\u001b[37m\u001b[0m \u001b[1m0s\u001b[0m 8ms/step - accuracy: 1.0000 - loss: 0.0014 - val_accuracy: 0.8182 - val_loss: 0.8940\n",
            "Epoch 16/50\n",
            "\u001b[1m16/16\u001b[0m \u001b[32m━━━━━━━━━━━━━━━━━━━━\u001b[0m\u001b[37m\u001b[0m \u001b[1m0s\u001b[0m 5ms/step - accuracy: 1.0000 - loss: 0.0012 - val_accuracy: 0.8182 - val_loss: 0.9087\n",
            "Epoch 17/50\n",
            "\u001b[1m16/16\u001b[0m \u001b[32m━━━━━━━━━━━━━━━━━━━━\u001b[0m\u001b[37m\u001b[0m \u001b[1m0s\u001b[0m 6ms/step - accuracy: 1.0000 - loss: 0.0011 - val_accuracy: 0.8182 - val_loss: 0.9215\n",
            "Epoch 18/50\n",
            "\u001b[1m16/16\u001b[0m \u001b[32m━━━━━━━━━━━━━━━━━━━━\u001b[0m\u001b[37m\u001b[0m \u001b[1m0s\u001b[0m 5ms/step - accuracy: 1.0000 - loss: 9.1275e-04 - val_accuracy: 0.8182 - val_loss: 0.9323\n",
            "Epoch 19/50\n",
            "\u001b[1m16/16\u001b[0m \u001b[32m━━━━━━━━━━━━━━━━━━━━\u001b[0m\u001b[37m\u001b[0m \u001b[1m0s\u001b[0m 5ms/step - accuracy: 1.0000 - loss: 7.2522e-04 - val_accuracy: 0.8182 - val_loss: 0.9418\n",
            "Epoch 20/50\n",
            "\u001b[1m16/16\u001b[0m \u001b[32m━━━━━━━━━━━━━━━━━━━━\u001b[0m\u001b[37m\u001b[0m \u001b[1m0s\u001b[0m 6ms/step - accuracy: 1.0000 - loss: 7.3238e-04 - val_accuracy: 0.8182 - val_loss: 0.9545\n",
            "Epoch 21/50\n",
            "\u001b[1m16/16\u001b[0m \u001b[32m━━━━━━━━━━━━━━━━━━━━\u001b[0m\u001b[37m\u001b[0m \u001b[1m0s\u001b[0m 5ms/step - accuracy: 1.0000 - loss: 7.1268e-04 - val_accuracy: 0.8182 - val_loss: 0.9667\n",
            "Epoch 22/50\n",
            "\u001b[1m16/16\u001b[0m \u001b[32m━━━━━━━━━━━━━━━━━━━━\u001b[0m\u001b[37m\u001b[0m \u001b[1m0s\u001b[0m 5ms/step - accuracy: 1.0000 - loss: 5.1935e-04 - val_accuracy: 0.8182 - val_loss: 0.9763\n",
            "Epoch 23/50\n",
            "\u001b[1m16/16\u001b[0m \u001b[32m━━━━━━━━━━━━━━━━━━━━\u001b[0m\u001b[37m\u001b[0m \u001b[1m0s\u001b[0m 6ms/step - accuracy: 1.0000 - loss: 4.9254e-04 - val_accuracy: 0.8182 - val_loss: 0.9868\n",
            "Epoch 24/50\n",
            "\u001b[1m16/16\u001b[0m \u001b[32m━━━━━━━━━━━━━━━━━━━━\u001b[0m\u001b[37m\u001b[0m \u001b[1m0s\u001b[0m 5ms/step - accuracy: 1.0000 - loss: 4.4122e-04 - val_accuracy: 0.8182 - val_loss: 0.9947\n",
            "Epoch 25/50\n",
            "\u001b[1m16/16\u001b[0m \u001b[32m━━━━━━━━━━━━━━━━━━━━\u001b[0m\u001b[37m\u001b[0m \u001b[1m0s\u001b[0m 6ms/step - accuracy: 1.0000 - loss: 4.1333e-04 - val_accuracy: 0.8182 - val_loss: 1.0014\n",
            "Epoch 26/50\n",
            "\u001b[1m16/16\u001b[0m \u001b[32m━━━━━━━━━━━━━━━━━━━━\u001b[0m\u001b[37m\u001b[0m \u001b[1m0s\u001b[0m 5ms/step - accuracy: 1.0000 - loss: 3.9233e-04 - val_accuracy: 0.8182 - val_loss: 1.0113\n",
            "Epoch 27/50\n",
            "\u001b[1m16/16\u001b[0m \u001b[32m━━━━━━━━━━━━━━━━━━━━\u001b[0m\u001b[37m\u001b[0m \u001b[1m0s\u001b[0m 6ms/step - accuracy: 1.0000 - loss: 3.3899e-04 - val_accuracy: 0.8182 - val_loss: 1.0188\n",
            "Epoch 28/50\n",
            "\u001b[1m16/16\u001b[0m \u001b[32m━━━━━━━━━━━━━━━━━━━━\u001b[0m\u001b[37m\u001b[0m \u001b[1m0s\u001b[0m 7ms/step - accuracy: 1.0000 - loss: 3.3365e-04 - val_accuracy: 0.8182 - val_loss: 1.0265\n",
            "Epoch 29/50\n",
            "\u001b[1m16/16\u001b[0m \u001b[32m━━━━━━━━━━━━━━━━━━━━\u001b[0m\u001b[37m\u001b[0m \u001b[1m0s\u001b[0m 5ms/step - accuracy: 1.0000 - loss: 3.1558e-04 - val_accuracy: 0.8182 - val_loss: 1.0329\n",
            "Epoch 30/50\n",
            "\u001b[1m16/16\u001b[0m \u001b[32m━━━━━━━━━━━━━━━━━━━━\u001b[0m\u001b[37m\u001b[0m \u001b[1m0s\u001b[0m 5ms/step - accuracy: 1.0000 - loss: 3.0537e-04 - val_accuracy: 0.8182 - val_loss: 1.0397\n",
            "Epoch 31/50\n",
            "\u001b[1m16/16\u001b[0m \u001b[32m━━━━━━━━━━━━━━━━━━━━\u001b[0m\u001b[37m\u001b[0m \u001b[1m0s\u001b[0m 5ms/step - accuracy: 1.0000 - loss: 2.6609e-04 - val_accuracy: 0.8182 - val_loss: 1.0461\n",
            "Epoch 32/50\n",
            "\u001b[1m16/16\u001b[0m \u001b[32m━━━━━━━━━━━━━━━━━━━━\u001b[0m\u001b[37m\u001b[0m \u001b[1m0s\u001b[0m 5ms/step - accuracy: 1.0000 - loss: 2.2662e-04 - val_accuracy: 0.8099 - val_loss: 1.0543\n",
            "Epoch 33/50\n",
            "\u001b[1m16/16\u001b[0m \u001b[32m━━━━━━━━━━━━━━━━━━━━\u001b[0m\u001b[37m\u001b[0m \u001b[1m0s\u001b[0m 7ms/step - accuracy: 1.0000 - loss: 2.2919e-04 - val_accuracy: 0.8099 - val_loss: 1.0609\n",
            "Epoch 34/50\n",
            "\u001b[1m16/16\u001b[0m \u001b[32m━━━━━━━━━━━━━━━━━━━━\u001b[0m\u001b[37m\u001b[0m \u001b[1m0s\u001b[0m 5ms/step - accuracy: 1.0000 - loss: 2.3393e-04 - val_accuracy: 0.8099 - val_loss: 1.0661\n",
            "Epoch 35/50\n",
            "\u001b[1m16/16\u001b[0m \u001b[32m━━━━━━━━━━━━━━━━━━━━\u001b[0m\u001b[37m\u001b[0m \u001b[1m0s\u001b[0m 6ms/step - accuracy: 1.0000 - loss: 1.9963e-04 - val_accuracy: 0.8099 - val_loss: 1.0723\n",
            "Epoch 36/50\n",
            "\u001b[1m16/16\u001b[0m \u001b[32m━━━━━━━━━━━━━━━━━━━━\u001b[0m\u001b[37m\u001b[0m \u001b[1m0s\u001b[0m 6ms/step - accuracy: 1.0000 - loss: 1.8818e-04 - val_accuracy: 0.8182 - val_loss: 1.0808\n",
            "Epoch 37/50\n",
            "\u001b[1m16/16\u001b[0m \u001b[32m━━━━━━━━━━━━━━━━━━━━\u001b[0m\u001b[37m\u001b[0m \u001b[1m0s\u001b[0m 6ms/step - accuracy: 1.0000 - loss: 1.9026e-04 - val_accuracy: 0.8182 - val_loss: 1.0870\n",
            "Epoch 38/50\n",
            "\u001b[1m16/16\u001b[0m \u001b[32m━━━━━━━━━━━━━━━━━━━━\u001b[0m\u001b[37m\u001b[0m \u001b[1m0s\u001b[0m 5ms/step - accuracy: 1.0000 - loss: 1.6993e-04 - val_accuracy: 0.8182 - val_loss: 1.0923\n",
            "Epoch 39/50\n",
            "\u001b[1m16/16\u001b[0m \u001b[32m━━━━━━━━━━━━━━━━━━━━\u001b[0m\u001b[37m\u001b[0m \u001b[1m0s\u001b[0m 6ms/step - accuracy: 1.0000 - loss: 1.5864e-04 - val_accuracy: 0.8182 - val_loss: 1.0975\n",
            "Epoch 40/50\n",
            "\u001b[1m16/16\u001b[0m \u001b[32m━━━━━━━━━━━━━━━━━━━━\u001b[0m\u001b[37m\u001b[0m \u001b[1m0s\u001b[0m 5ms/step - accuracy: 1.0000 - loss: 1.4511e-04 - val_accuracy: 0.8182 - val_loss: 1.1028\n",
            "Epoch 41/50\n",
            "\u001b[1m16/16\u001b[0m \u001b[32m━━━━━━━━━━━━━━━━━━━━\u001b[0m\u001b[37m\u001b[0m \u001b[1m0s\u001b[0m 5ms/step - accuracy: 1.0000 - loss: 1.4851e-04 - val_accuracy: 0.8182 - val_loss: 1.1074\n",
            "Epoch 42/50\n",
            "\u001b[1m16/16\u001b[0m \u001b[32m━━━━━━━━━━━━━━━━━━━━\u001b[0m\u001b[37m\u001b[0m \u001b[1m0s\u001b[0m 4ms/step - accuracy: 1.0000 - loss: 1.2097e-04 - val_accuracy: 0.8182 - val_loss: 1.1133\n",
            "Epoch 43/50\n",
            "\u001b[1m16/16\u001b[0m \u001b[32m━━━━━━━━━━━━━━━━━━━━\u001b[0m\u001b[37m\u001b[0m \u001b[1m0s\u001b[0m 6ms/step - accuracy: 1.0000 - loss: 1.2959e-04 - val_accuracy: 0.8182 - val_loss: 1.1179\n",
            "Epoch 44/50\n",
            "\u001b[1m16/16\u001b[0m \u001b[32m━━━━━━━━━━━━━━━━━━━━\u001b[0m\u001b[37m\u001b[0m \u001b[1m0s\u001b[0m 6ms/step - accuracy: 1.0000 - loss: 1.2973e-04 - val_accuracy: 0.8182 - val_loss: 1.1218\n",
            "Epoch 45/50\n",
            "\u001b[1m16/16\u001b[0m \u001b[32m━━━━━━━━━━━━━━━━━━━━\u001b[0m\u001b[37m\u001b[0m \u001b[1m0s\u001b[0m 5ms/step - accuracy: 1.0000 - loss: 1.2454e-04 - val_accuracy: 0.8182 - val_loss: 1.1260\n",
            "Epoch 46/50\n",
            "\u001b[1m16/16\u001b[0m \u001b[32m━━━━━━━━━━━━━━━━━━━━\u001b[0m\u001b[37m\u001b[0m \u001b[1m0s\u001b[0m 6ms/step - accuracy: 1.0000 - loss: 1.0021e-04 - val_accuracy: 0.8182 - val_loss: 1.1297\n",
            "Epoch 47/50\n",
            "\u001b[1m16/16\u001b[0m \u001b[32m━━━━━━━━━━━━━━━━━━━━\u001b[0m\u001b[37m\u001b[0m \u001b[1m0s\u001b[0m 4ms/step - accuracy: 1.0000 - loss: 1.0614e-04 - val_accuracy: 0.8182 - val_loss: 1.1345\n",
            "Epoch 48/50\n",
            "\u001b[1m16/16\u001b[0m \u001b[32m━━━━━━━━━━━━━━━━━━━━\u001b[0m\u001b[37m\u001b[0m \u001b[1m0s\u001b[0m 6ms/step - accuracy: 1.0000 - loss: 1.1859e-04 - val_accuracy: 0.8182 - val_loss: 1.1385\n",
            "Epoch 49/50\n",
            "\u001b[1m16/16\u001b[0m \u001b[32m━━━━━━━━━━━━━━━━━━━━\u001b[0m\u001b[37m\u001b[0m \u001b[1m0s\u001b[0m 6ms/step - accuracy: 1.0000 - loss: 9.3171e-05 - val_accuracy: 0.8182 - val_loss: 1.1426\n",
            "Epoch 50/50\n",
            "\u001b[1m16/16\u001b[0m \u001b[32m━━━━━━━━━━━━━━━━━━━━\u001b[0m\u001b[37m\u001b[0m \u001b[1m0s\u001b[0m 4ms/step - accuracy: 1.0000 - loss: 9.0047e-05 - val_accuracy: 0.8264 - val_loss: 1.1463\n"
          ]
        },
        {
          "output_type": "execute_result",
          "data": {
            "text/plain": [
              "<keras.src.callbacks.history.History at 0x7cf19394d030>"
            ]
          },
          "metadata": {},
          "execution_count": 19
        }
      ]
    },
    {
      "cell_type": "code",
      "source": [
        "y_val_pred = model.predict(X_val)\n",
        "y_val_pred_classes = (y_val_pred > 0.5).astype(int)"
      ],
      "metadata": {
        "colab": {
          "base_uri": "https://localhost:8080/"
        },
        "id": "cpwYHCwGfxCf",
        "outputId": "027172e1-42a1-4b1a-8a57-661a3bb16f03"
      },
      "execution_count": null,
      "outputs": [
        {
          "output_type": "stream",
          "name": "stdout",
          "text": [
            "\u001b[1m4/4\u001b[0m \u001b[32m━━━━━━━━━━━━━━━━━━━━\u001b[0m\u001b[37m\u001b[0m \u001b[1m0s\u001b[0m 16ms/step\n"
          ]
        }
      ]
    },
    {
      "cell_type": "markdown",
      "source": [
        "Measuring baseline model accuracy and perfomance using Confusion Matrix"
      ],
      "metadata": {
        "id": "KMl60l2w6TxQ"
      }
    },
    {
      "cell_type": "code",
      "source": [
        "from sklearn.metrics import accuracy_score, f1_score, precision_recall_curve, roc_auc_score, roc_curve, recall_score, precision_score"
      ],
      "metadata": {
        "id": "5LZp6gpPd3LD"
      },
      "execution_count": null,
      "outputs": []
    },
    {
      "cell_type": "markdown",
      "source": [
        "# Predicting validation data on feature selected data"
      ],
      "metadata": {
        "id": "NyLy4D3P6cG8"
      }
    },
    {
      "cell_type": "code",
      "source": [
        "val_acc = accuracy_score(y_val, y_val_pred_classes)\n",
        "val_precision = precision_score(y_val, y_val_pred_classes)\n",
        "val_roc_auc_score = roc_auc_score(y_val, y_val_pred_classes)\n",
        "val_recall = recall_score(y_val, y_val_pred_classes)\n",
        "val_f1 = f1_score(y_val, y_val_pred_classes)\n",
        "val_roc_curve = roc_curve(y_val, y_val_pred_classes)"
      ],
      "metadata": {
        "id": "VEoQlQ4uxn5E"
      },
      "execution_count": null,
      "outputs": []
    },
    {
      "cell_type": "code",
      "source": [
        "print(f\"The test data accuracy is : {np.round(val_acc, 2)}\")\n",
        "print(f\"The test data precision is : {np.round(val_precision, 2)}\")\n",
        "print(f\"The test data recall is : {np.round(val_recall, 2)}\")\n",
        "print(f\"The test data f1-score is : {np.round(val_f1, 2)}\")\n",
        "print(f\"The test data ROC curve is : {np.round(val_roc_curve, 2)}\")\n",
        "print(f\"The test data ROC-AUC score is : {np.round(val_roc_auc_score, 2)}\")"
      ],
      "metadata": {
        "colab": {
          "base_uri": "https://localhost:8080/"
        },
        "id": "BjwFBDwEm4kz",
        "outputId": "25492616-5575-4977-e274-088c49f58170"
      },
      "execution_count": null,
      "outputs": [
        {
          "output_type": "stream",
          "name": "stdout",
          "text": [
            "The test data accuracy is : 0.83\n",
            "The test data precision is : 0.89\n",
            "The test data recall is : 0.88\n",
            "The test data f1-score is : 0.88\n",
            "The test data ROC curve is : [[0.   0.32 1.  ]\n",
            " [0.   0.88 1.  ]\n",
            " [ inf 1.   0.  ]]\n",
            "The test data ROC-AUC score is : 0.78\n"
          ]
        }
      ]
    },
    {
      "cell_type": "markdown",
      "source": [
        "The testing data ROC-AUC score is lower 0.73 which shows the model is not able to differentiate in positive and negative well on new data."
      ],
      "metadata": {
        "id": "sfxPTEGLrh0V"
      }
    },
    {
      "cell_type": "code",
      "source": [
        "from sklearn.metrics import confusion_matrix, ConfusionMatrixDisplay\n",
        "\n",
        "confusion_matrix_val_dt = confusion_matrix(y_val, y_val_pred_classes)\n",
        "cm_val_dt = ConfusionMatrixDisplay(confusion_matrix_val_dt)\n",
        "\n",
        "cm_val_dt.plot()\n",
        "plt.show()"
      ],
      "metadata": {
        "colab": {
          "base_uri": "https://localhost:8080/",
          "height": 449
        },
        "id": "KcoEWlvTxx9Z",
        "outputId": "30185f0c-582e-4fa0-d894-3e61e1fdd7e3"
      },
      "execution_count": null,
      "outputs": [
        {
          "output_type": "display_data",
          "data": {
            "text/plain": [
              "<Figure size 640x480 with 2 Axes>"
            ],
            "image/png": "[encoded data removed]"
          },
          "metadata": {}
        }
      ]
    },
    {
      "cell_type": "code",
      "source": [
        "fpr, tpr, thresholds = roc_curve(y_val, y_val_pred)\n",
        "\n",
        "plt.figure()\n",
        "plt.plot(fpr, tpr, color='blue', lw=2, label=f'ROC curve (area = {val_roc_auc_score:.2f})')\n",
        "plt.plot([0, 1], [0, 1], color='grey', lw=2, linestyle='--')\n",
        "plt.xlim([0.0, 1.0])\n",
        "plt.ylim([0.0, 1.05])\n",
        "plt.xlabel('False Positive Rate')\n",
        "plt.ylabel('True Positive Rate')\n",
        "plt.title('Receiver Operating Characteristic')\n",
        "plt.legend(loc=\"lower right\")\n",
        "plt.show()"
      ],
      "metadata": {
        "colab": {
          "base_uri": "https://localhost:8080/",
          "height": 472
        },
        "id": "RroSmOjGhS8f",
        "outputId": "b675a371-1961-45d4-836a-3aab31f024ba"
      },
      "execution_count": null,
      "outputs": [
        {
          "output_type": "display_data",
          "data": {
            "text/plain": [
              "<Figure size 640x480 with 1 Axes>"
            ],
            "image/png": "[encoded data removed]"
          },
          "metadata": {}
        }
      ]
    },
    {
      "cell_type": "code",
      "source": [],
      "metadata": {
        "id": "UwxKgF3chtI1"
      },
      "execution_count": null,
      "outputs": []
    }
  ]
}