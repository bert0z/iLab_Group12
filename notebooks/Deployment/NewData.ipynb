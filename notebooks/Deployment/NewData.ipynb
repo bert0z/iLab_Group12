{
 "cells": [
  {
   "cell_type": "code",
   "execution_count": 1,
   "metadata": {},
   "outputs": [],
   "source": [
    "#pip install antropy"
   ]
  },
  {
   "cell_type": "code",
   "execution_count": 2,
   "metadata": {},
   "outputs": [],
   "source": [
    "import parselmouth\n",
    "import numpy as np\n",
    "import librosa\n",
    "import nolds\n",
    "import pandas as pd\n",
    "import joblib\n",
    "import antropy as ant\n",
    "from scipy.stats import variation\n",
    "import os"
   ]
  },
  {
   "cell_type": "code",
   "execution_count": 3,
   "metadata": {},
   "outputs": [],
   "source": [
    "def extract_features(audio_path):\n",
    "    # Load audio\n",
    "    sound = parselmouth.Sound(audio_path)\n",
    "    y, sr = librosa.load(audio_path)\n",
    "\n",
    "    # 1. MDVP:Fo(Hz), MDVP:Fhi(Hz), MDVP:Flo(Hz)\n",
    "    pitch = sound.to_pitch()\n",
    "    fo = pitch.selected_array['frequency']\n",
    "    MDVP_Fo = np.mean(fo[fo > 0])  # Mean fundamental frequency\n",
    "    MDVP_Fhi = np.max(fo)           # Max fundamental frequency\n",
    "    MDVP_Flo = np.min(fo[fo > 0])   # Min fundamental frequency\n",
    "\n",
    "    # 2. NHR and HNR\n",
    "    harmonicity = sound.to_harmonicity()\n",
    "    HNR = harmonicity.values[harmonicity.values != -200].mean()\n",
    "    NHR = 1 / HNR if HNR != 0 else 0\n",
    "\n",
    "    # 3. RPDE (Recurrence Period Density Entropy)\n",
    "    RPDE = ant.perm_entropy(fo, normalize=True)    # or use a different signal for better accuracy\n",
    "\n",
    "    # 4. DFA (Detrended Fluctuation Analysis)\n",
    "    DFA = nolds.dfa(y)\n",
    "\n",
    "    # 5. Spread2\n",
    "    spread = librosa.feature.spectral_bandwidth(y=y, sr=sr)\n",
    "    Spread2 = spread.mean() / (sr / 2)\n",
    "\n",
    "    # 6. D2 (Correlation Dimension)\n",
    "    D2 = nolds.corr_dim(fo, emb_dim=25)  # Adjust emb_dim for accuracy, perhaps check paper\n",
    "\n",
    "    # 7. PPE (Pitch Period Entropy)\n",
    "    PPE = ant.app_entropy(fo)\n",
    "\n",
    "    # Consolidate into dictionary\n",
    "    features = {\n",
    "        \"MDVP:Fo(Hz)\": MDVP_Fo,\n",
    "        \"MDVP:Fhi(Hz)\": MDVP_Fhi,\n",
    "        \"MDVP:Flo(Hz)\": MDVP_Flo,\n",
    "        \"NHR\": NHR,\n",
    "        \"HNR\": HNR,\n",
    "        \"RPDE\": RPDE,\n",
    "        \"DFA\": DFA,\n",
    "        \"Spread2\": Spread2,\n",
    "        \"D2\": D2,\n",
    "        \"PPE\": PPE\n",
    "    }\n",
    "    \n",
    "    return features"
   ]
  },
  {
   "cell_type": "code",
   "execution_count": 4,
   "metadata": {},
   "outputs": [],
   "source": [
    "def process_directory(directory, output_csv):\n",
    "    # Define CSV headers\n",
    "    headers = [\"MDVP:Fo(Hz)\",\n",
    "        \"MDVP:Fhi(Hz)\",\n",
    "        \"MDVP:Flo(Hz)\",\n",
    "        \"NHR\",\n",
    "        \"HNR\",\n",
    "        \"RPDE\",\n",
    "        \"DFA\",\n",
    "        \"Spread2\",\n",
    "        \"D2\",\n",
    "        \"PPE\"]\n",
    "    \n",
    "    # Initialize CSV file with headers\n",
    "    with open(output_csv, mode='w', newline='') as f:\n",
    "        writer = pd.DataFrame(columns=headers).to_csv(f, index=False)\n",
    "\n",
    "    # Process each .wav file and append results directly to the CSV\n",
    "    for filename in os.listdir(directory):\n",
    "        if filename.endswith(\".wav\"):\n",
    "            filepath = os.path.join(directory, filename)\n",
    "            print(f\"Processing {filename}...\")\n",
    "            features = extract_features(filepath)\n",
    "            if features is not None:\n",
    "                # Convert features to a single-row DataFrame and append to CSV\n",
    "                pd.DataFrame([features]).to_csv(output_csv, mode='a', index=False, header=False)\n",
    "                print(f\"Features appended for {filename}.\")\n",
    "            else:\n",
    "                print(f\"Failed to extract features for {filename}.\")\n",
    "\n",
    "    print(f\"All features saved to {output_csv}.\")"
   ]
  },
  {
   "cell_type": "code",
   "execution_count": 5,
   "metadata": {},
   "outputs": [
    {
     "name": "stdout",
     "output_type": "stream",
     "text": [
      "Processing AH_064F_7AB034C9-72E4-438B-A9B3-AD7FDA1596C5.wav...\n",
      "Features appended for AH_064F_7AB034C9-72E4-438B-A9B3-AD7FDA1596C5.wav.\n",
      "Processing AH_114S_A89F3548-0B61-4770-B800-2E26AB3908B6.wav...\n"
     ]
    },
    {
     "name": "stderr",
     "output_type": "stream",
     "text": [
      "c:\\Users\\bert_\\Projects\\adv_mla_2024\\Test_for_iLab\\.venv\\Lib\\site-packages\\sklearn\\metrics\\_regression.py:1211: UndefinedMetricWarning: R^2 score is not well-defined with less than two samples.\n",
      "  warnings.warn(msg, UndefinedMetricWarning)\n"
     ]
    },
    {
     "name": "stdout",
     "output_type": "stream",
     "text": [
      "Features appended for AH_114S_A89F3548-0B61-4770-B800-2E26AB3908B6.wav.\n",
      "Processing AH_121A_BD5BA248-E807-4CB9-8B53-47E7FFE5F8E2.wav...\n",
      "Features appended for AH_121A_BD5BA248-E807-4CB9-8B53-47E7FFE5F8E2.wav.\n",
      "Processing AH_123G_559F0706-2238-447C-BA39-DB5933BA619D.wav...\n",
      "Features appended for AH_123G_559F0706-2238-447C-BA39-DB5933BA619D.wav.\n",
      "Processing AH_195B_39DA6A45-F4CC-492A-80D4-FB79049ACC22.wav...\n",
      "Features appended for AH_195B_39DA6A45-F4CC-492A-80D4-FB79049ACC22.wav.\n",
      "Processing AH_197T_7552379A-2310-46E1-9466-9D8045C990B8.wav...\n",
      "Features appended for AH_197T_7552379A-2310-46E1-9466-9D8045C990B8.wav.\n",
      "Processing AH_222K_FC9D2763-1836-460B-954F-37F23D6CD81D.wav...\n"
     ]
    },
    {
     "name": "stderr",
     "output_type": "stream",
     "text": [
      "c:\\Users\\bert_\\Projects\\adv_mla_2024\\Test_for_iLab\\.venv\\Lib\\site-packages\\sklearn\\metrics\\_regression.py:1211: UndefinedMetricWarning: R^2 score is not well-defined with less than two samples.\n",
      "  warnings.warn(msg, UndefinedMetricWarning)\n"
     ]
    },
    {
     "name": "stdout",
     "output_type": "stream",
     "text": [
      "Features appended for AH_222K_FC9D2763-1836-460B-954F-37F23D6CD81D.wav.\n",
      "Processing AH_264Z_593C20CD-0A54-4177-B031-26EE147080A3.wav...\n"
     ]
    },
    {
     "name": "stderr",
     "output_type": "stream",
     "text": [
      "c:\\Users\\bert_\\Projects\\adv_mla_2024\\Test_for_iLab\\.venv\\Lib\\site-packages\\sklearn\\metrics\\_regression.py:1211: UndefinedMetricWarning: R^2 score is not well-defined with less than two samples.\n",
      "  warnings.warn(msg, UndefinedMetricWarning)\n"
     ]
    },
    {
     "name": "stdout",
     "output_type": "stream",
     "text": [
      "Features appended for AH_264Z_593C20CD-0A54-4177-B031-26EE147080A3.wav.\n",
      "Processing AH_292J_201CB911-31C1-4CD0-BD73-4FBA4A16C21F.wav...\n",
      "Features appended for AH_292J_201CB911-31C1-4CD0-BD73-4FBA4A16C21F.wav.\n",
      "Processing AH_322A_C3BF5535-A11E-498E-94EB-BE7E74099FFB.wav...\n"
     ]
    },
    {
     "name": "stderr",
     "output_type": "stream",
     "text": [
      "c:\\Users\\bert_\\Projects\\adv_mla_2024\\Test_for_iLab\\.venv\\Lib\\site-packages\\sklearn\\metrics\\_regression.py:1211: UndefinedMetricWarning: R^2 score is not well-defined with less than two samples.\n",
      "  warnings.warn(msg, UndefinedMetricWarning)\n"
     ]
    },
    {
     "name": "stdout",
     "output_type": "stream",
     "text": [
      "Features appended for AH_322A_C3BF5535-A11E-498E-94EB-BE7E74099FFB.wav.\n",
      "Processing AH_325A_3EB21DC7-C340-4D0E-AC9E-0EABF217BBEE.wav...\n",
      "Features appended for AH_325A_3EB21DC7-C340-4D0E-AC9E-0EABF217BBEE.wav.\n",
      "Processing AH_325J_7F5F27AA-5A93-43CF-AB17-FC53940BF4B0.wav...\n",
      "Features appended for AH_325J_7F5F27AA-5A93-43CF-AB17-FC53940BF4B0.wav.\n",
      "Processing AH_333L_6C551A6E-CC47-410E-AA49-2DC0A86E6489.wav...\n",
      "Features appended for AH_333L_6C551A6E-CC47-410E-AA49-2DC0A86E6489.wav.\n",
      "Processing AH_378G_3C2A05CE-36E4-4956-8FC2-0494B27D3EA8.wav...\n",
      "Features appended for AH_378G_3C2A05CE-36E4-4956-8FC2-0494B27D3EA8.wav.\n",
      "Processing AH_420J_07C96C2C-6E96-4A2F-BEC9-5CB71DB309B6.wav...\n",
      "Features appended for AH_420J_07C96C2C-6E96-4A2F-BEC9-5CB71DB309B6.wav.\n",
      "Processing AH_444B_E1586F09-1BF5-408D-A55E-96D9E8B76A43.wav...\n",
      "Features appended for AH_444B_E1586F09-1BF5-408D-A55E-96D9E8B76A43.wav.\n",
      "Processing AH_456K_CBF60DD0-82AA-430E-A5E9-E1D3AE175CCB.wav...\n",
      "Features appended for AH_456K_CBF60DD0-82AA-430E-A5E9-E1D3AE175CCB.wav.\n",
      "Processing AH_469Z_5BB05B2C-39C4-434D-9445-244E7580F840.wav...\n",
      "Features appended for AH_469Z_5BB05B2C-39C4-434D-9445-244E7580F840.wav.\n",
      "Processing AH_473R_E4947FD3-23C1-44F1-BCE4-DC59D8269FDE.wav...\n",
      "Features appended for AH_473R_E4947FD3-23C1-44F1-BCE4-DC59D8269FDE.wav.\n",
      "Processing AH_501F_4BDDBB93-EA99-4B1C-AD7F-4D874F39FB0C.wav...\n",
      "Features appended for AH_501F_4BDDBB93-EA99-4B1C-AD7F-4D874F39FB0C.wav.\n",
      "Processing AH_511K_DDC6D065-56B3-436B-9D08-73326C791B69.wav...\n"
     ]
    },
    {
     "name": "stderr",
     "output_type": "stream",
     "text": [
      "c:\\Users\\bert_\\Projects\\adv_mla_2024\\Test_for_iLab\\.venv\\Lib\\site-packages\\sklearn\\metrics\\_regression.py:1211: UndefinedMetricWarning: R^2 score is not well-defined with less than two samples.\n",
      "  warnings.warn(msg, UndefinedMetricWarning)\n"
     ]
    },
    {
     "name": "stdout",
     "output_type": "stream",
     "text": [
      "Features appended for AH_511K_DDC6D065-56B3-436B-9D08-73326C791B69.wav.\n",
      "Processing AH_523T_66147C3C-938A-4CF9-913E-5D49D72BD8B6.wav...\n",
      "Features appended for AH_523T_66147C3C-938A-4CF9-913E-5D49D72BD8B6.wav.\n",
      "Processing AH_528T_6A746E6E-FB60-4363-842F-A7368A1E5B2C.wav...\n",
      "Features appended for AH_528T_6A746E6E-FB60-4363-842F-A7368A1E5B2C.wav.\n",
      "Processing AH_538M_AE709CB7-1123-47F8-8BD2-000158BDBC01.wav...\n",
      "Features appended for AH_538M_AE709CB7-1123-47F8-8BD2-000158BDBC01.wav.\n",
      "Processing AH_562E_151814F5-BB0F-44EF-9A22-FE2862FC3411.wav...\n",
      "Features appended for AH_562E_151814F5-BB0F-44EF-9A22-FE2862FC3411.wav.\n",
      "Processing AH_569E_B26CCA1E-29AD-48DD-9947-48DB8A56CA31.wav...\n",
      "Features appended for AH_569E_B26CCA1E-29AD-48DD-9947-48DB8A56CA31.wav.\n",
      "Processing AH_596S_BBE9779F-C440-42D3-9C96-4CD6121D1F7E.wav...\n",
      "Features appended for AH_596S_BBE9779F-C440-42D3-9C96-4CD6121D1F7E.wav.\n",
      "Processing AH_619B_5CF9C4CA-31AA-4F22-8E57-8E53618CC224.wav...\n"
     ]
    },
    {
     "name": "stderr",
     "output_type": "stream",
     "text": [
      "c:\\Users\\bert_\\Projects\\adv_mla_2024\\Test_for_iLab\\.venv\\Lib\\site-packages\\sklearn\\metrics\\_regression.py:1211: UndefinedMetricWarning: R^2 score is not well-defined with less than two samples.\n",
      "  warnings.warn(msg, UndefinedMetricWarning)\n"
     ]
    },
    {
     "name": "stdout",
     "output_type": "stream",
     "text": [
      "Features appended for AH_619B_5CF9C4CA-31AA-4F22-8E57-8E53618CC224.wav.\n",
      "Processing AH_621N_204CF3E2-1DA0-4908-A47F-78997B1BAFC2.wav...\n",
      "Features appended for AH_621N_204CF3E2-1DA0-4908-A47F-78997B1BAFC2.wav.\n",
      "Processing AH_667J_605FB4D5-E0DB-4B9B-8F58-784561C51693.wav...\n",
      "Features appended for AH_667J_605FB4D5-E0DB-4B9B-8F58-784561C51693.wav.\n",
      "Processing AH_678A_2E7AFA48-34C1-4DAD-A73C-95F7ABF6B138.wav...\n",
      "Features appended for AH_678A_2E7AFA48-34C1-4DAD-A73C-95F7ABF6B138.wav.\n",
      "Processing AH_743R_66BD23F9-D685-4315-86F8-7697B5084F7B.wav...\n",
      "Features appended for AH_743R_66BD23F9-D685-4315-86F8-7697B5084F7B.wav.\n",
      "Processing AH_753G_073DCC32-4397-4719-A019-DDD41F30F5F1.wav...\n",
      "Features appended for AH_753G_073DCC32-4397-4719-A019-DDD41F30F5F1.wav.\n",
      "Processing AH_777G_4C8ACC89-7FE2-4174-AE3A-B21B39A0C869.wav...\n",
      "Features appended for AH_777G_4C8ACC89-7FE2-4174-AE3A-B21B39A0C869.wav.\n",
      "Processing AH_777R_A36CF7FA-37FD-483E-98FE-040942B1DF49.wav...\n",
      "Features appended for AH_777R_A36CF7FA-37FD-483E-98FE-040942B1DF49.wav.\n",
      "Processing AH_789Y_20CB672C-5F66-425E-8707-BE5B7FF807E2.wav...\n"
     ]
    },
    {
     "name": "stderr",
     "output_type": "stream",
     "text": [
      "c:\\Users\\bert_\\Projects\\adv_mla_2024\\Test_for_iLab\\.venv\\Lib\\site-packages\\sklearn\\metrics\\_regression.py:1211: UndefinedMetricWarning: R^2 score is not well-defined with less than two samples.\n",
      "  warnings.warn(msg, UndefinedMetricWarning)\n"
     ]
    },
    {
     "name": "stdout",
     "output_type": "stream",
     "text": [
      "Features appended for AH_789Y_20CB672C-5F66-425E-8707-BE5B7FF807E2.wav.\n",
      "Processing AH_803T_66094C40-AE64-4AD3-AA97-B052C69DA3EF.wav...\n",
      "Features appended for AH_803T_66094C40-AE64-4AD3-AA97-B052C69DA3EF.wav.\n",
      "Processing AH_821C_8F9D5EF0-18B2-4967-B36D-82E014792BC3.wav...\n",
      "Features appended for AH_821C_8F9D5EF0-18B2-4967-B36D-82E014792BC3.wav.\n",
      "Processing AH_888A_7F1444B0-B12C-4B55-AF2A-463395DCAF3C.wav...\n",
      "Features appended for AH_888A_7F1444B0-B12C-4B55-AF2A-463395DCAF3C.wav.\n",
      "Processing AH_904H_85B22FC1-BA09-4A17-A374-B00B2445CD27.wav...\n",
      "Features appended for AH_904H_85B22FC1-BA09-4A17-A374-B00B2445CD27.wav.\n",
      "Processing AH_942A_3F7867F3-1AE2-4BE6-B5EC-AC3157D310CF.wav...\n",
      "Features appended for AH_942A_3F7867F3-1AE2-4BE6-B5EC-AC3157D310CF.wav.\n",
      "All features saved to extracted_features.csv.\n"
     ]
    },
    {
     "name": "stderr",
     "output_type": "stream",
     "text": [
      "c:\\Users\\bert_\\Projects\\adv_mla_2024\\Test_for_iLab\\.venv\\Lib\\site-packages\\sklearn\\metrics\\_regression.py:1211: UndefinedMetricWarning: R^2 score is not well-defined with less than two samples.\n",
      "  warnings.warn(msg, UndefinedMetricWarning)\n"
     ]
    }
   ],
   "source": [
    "# Specify directory of .wav files and output CSV filename\n",
    "directory = '../data/raw/HC_AH/HC_AH'\n",
    "output_csv = 'extracted_features.csv'\n",
    "process_directory(directory, output_csv)"
   ]
  }
 ],
 "metadata": {
  "kernelspec": {
   "display_name": ".venv",
   "language": "python",
   "name": "python3"
  },
  "language_info": {
   "codemirror_mode": {
    "name": "ipython",
    "version": 3
   },
   "file_extension": ".py",
   "mimetype": "text/x-python",
   "name": "python",
   "nbconvert_exporter": "python",
   "pygments_lexer": "ipython3",
   "version": "3.11.4"
  }
 },
 "nbformat": 4,
 "nbformat_minor": 2
}
