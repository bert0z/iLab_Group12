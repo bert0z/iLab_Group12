{
 "cells": [
  {
   "cell_type": "code",
   "execution_count": null,
   "metadata": {},
   "outputs": [],
   "source": [
    "#pip install antropy"
   ]
  },
  {
   "cell_type": "code",
   "execution_count": 2,
   "metadata": {},
   "outputs": [],
   "source": [
    "import parselmouth\n",
    "import numpy as np\n",
    "import librosa\n",
    "import nolds\n",
    "import pandas as pd\n",
    "import joblib\n",
    "import antropy as ant"
   ]
  },
  {
   "cell_type": "code",
   "execution_count": 30,
   "metadata": {},
   "outputs": [],
   "source": [
    "def extract_features(audio_path):\n",
    "    # Load audio\n",
    "    sound = parselmouth.Sound(audio_path)\n",
    "    y, sr = librosa.load(audio_path)\n",
    "\n",
    "    # 1. MDVP:Fo(Hz), MDVP:Fhi(Hz), MDVP:Flo(Hz)\n",
    "    pitch = sound.to_pitch()\n",
    "    fo = pitch.selected_array['frequency']\n",
    "    MDVP_Fo = np.mean(fo[fo > 0])  # Mean fundamental frequency\n",
    "    MDVP_Fhi = np.max(fo)           # Max fundamental frequency\n",
    "    MDVP_Flo = np.min(fo[fo > 0])   # Min fundamental frequency\n",
    "\n",
    "    # 2. NHR and HNR\n",
    "    harmonicity = sound.to_harmonicity()\n",
    "    HNR = harmonicity.values[harmonicity.values != -200].mean()\n",
    "    NHR = 1 / HNR if HNR != 0 else 0\n",
    "\n",
    "    # 3. RPDE (Recurrence Period Density Entropy)\n",
    "    RPDE = ant.perm_entropy(fo, normalize=True)    # or use a different signal for better accuracy\n",
    "\n",
    "    # 4. DFA (Detrended Fluctuation Analysis)\n",
    "    DFA = nolds.dfa(y)\n",
    "\n",
    "    # 5. Spread2\n",
    "    spread = librosa.feature.spectral_bandwidth(y=y, sr=sr)\n",
    "    Spread2 = spread.mean() / (sr / 2)\n",
    "\n",
    "    # 6. D2 (Correlation Dimension)\n",
    "    D2 = nolds.corr_dim(fo, emb_dim=25)  # Adjust emb_dim for accuracy, perhaps check paper\n",
    "\n",
    "    # 7. PPE (Pitch Period Entropy)\n",
    "    PPE = ant.app_entropy(fo)\n",
    "\n",
    "    # Consolidate into dictionary\n",
    "    features = {\n",
    "        \"MDVP:Fo(Hz)\": MDVP_Fo,\n",
    "        \"MDVP:Fhi(Hz)\": MDVP_Fhi,\n",
    "        \"MDVP:Flo(Hz)\": MDVP_Flo,\n",
    "        \"NHR\": NHR,\n",
    "        \"HNR\": HNR,\n",
    "        \"RPDE\": RPDE,\n",
    "        \"DFA\": DFA,\n",
    "        \"Spread2\": Spread2,\n",
    "        \"D2\": D2,\n",
    "        \"PPE\": PPE\n",
    "    }\n",
    "    \n",
    "    return features"
   ]
  },
  {
   "cell_type": "code",
   "execution_count": 31,
   "metadata": {},
   "outputs": [
    {
     "name": "stdout",
     "output_type": "stream",
     "text": [
      "{'MDVP:Fo(Hz)': 170.6526896754848, 'MDVP:Fhi(Hz)': 212.21061983952993, 'MDVP:Flo(Hz)': 164.8448531704857, 'NHR': 0.05662130007900399, 'HNR': 17.661198146363557, 'RPDE': 0.8160944289032286, 'DFA': 0.019018089128222004, 'Spread2': 0.1589928748264482, 'D2': 1.5470174175686484, 'PPE': 0.023943007147128936}\n"
     ]
    }
   ],
   "source": [
    "audio_file = '../data/raw/Mum.wav'\n",
    "features = extract_features(audio_file)\n",
    "print(features)"
   ]
  },
  {
   "cell_type": "code",
   "execution_count": 32,
   "metadata": {},
   "outputs": [],
   "source": [
    "feature_df = pd.DataFrame(columns=[\n",
    "    \"MDVP:Fo(Hz)\", \"MDVP:Fhi(Hz)\", \"MDVP:Flo(Hz)\", \"NHR\", \"HNR\", \n",
    "    \"RPDE\", \"DFA\", \"Spread2\", \"D2\", \"PPE\"\n",
    "])"
   ]
  },
  {
   "cell_type": "code",
   "execution_count": 33,
   "metadata": {},
   "outputs": [
    {
     "name": "stderr",
     "output_type": "stream",
     "text": [
      "C:\\Users\\bert_\\AppData\\Local\\Temp\\ipykernel_32752\\1364591689.py:1: FutureWarning: The behavior of DataFrame concatenation with empty or all-NA entries is deprecated. In a future version, this will no longer exclude empty or all-NA columns when determining the result dtypes. To retain the old behavior, exclude the relevant entries before the concat operation.\n",
      "  feature_df = pd.concat([feature_df, pd.DataFrame([features])], ignore_index=True)\n"
     ]
    }
   ],
   "source": [
    "feature_df = pd.concat([feature_df, pd.DataFrame([features])], ignore_index=True)"
   ]
  },
  {
   "cell_type": "code",
   "execution_count": 34,
   "metadata": {},
   "outputs": [
    {
     "data": {
      "text/html": [
       "<div>\n",
       "<style scoped>\n",
       "    .dataframe tbody tr th:only-of-type {\n",
       "        vertical-align: middle;\n",
       "    }\n",
       "\n",
       "    .dataframe tbody tr th {\n",
       "        vertical-align: top;\n",
       "    }\n",
       "\n",
       "    .dataframe thead th {\n",
       "        text-align: right;\n",
       "    }\n",
       "</style>\n",
       "<table border=\"1\" class=\"dataframe\">\n",
       "  <thead>\n",
       "    <tr style=\"text-align: right;\">\n",
       "      <th></th>\n",
       "      <th>MDVP:Fo(Hz)</th>\n",
       "      <th>MDVP:Fhi(Hz)</th>\n",
       "      <th>MDVP:Flo(Hz)</th>\n",
       "      <th>NHR</th>\n",
       "      <th>HNR</th>\n",
       "      <th>RPDE</th>\n",
       "      <th>DFA</th>\n",
       "      <th>Spread2</th>\n",
       "      <th>D2</th>\n",
       "      <th>PPE</th>\n",
       "    </tr>\n",
       "  </thead>\n",
       "  <tbody>\n",
       "    <tr>\n",
       "      <th>0</th>\n",
       "      <td>170.65269</td>\n",
       "      <td>212.21062</td>\n",
       "      <td>164.844853</td>\n",
       "      <td>0.056621</td>\n",
       "      <td>17.661198</td>\n",
       "      <td>0.816094</td>\n",
       "      <td>0.019018</td>\n",
       "      <td>0.158993</td>\n",
       "      <td>1.547017</td>\n",
       "      <td>0.023943</td>\n",
       "    </tr>\n",
       "  </tbody>\n",
       "</table>\n",
       "</div>"
      ],
      "text/plain": [
       "   MDVP:Fo(Hz)  MDVP:Fhi(Hz)  MDVP:Flo(Hz)       NHR        HNR      RPDE  \\\n",
       "0    170.65269     212.21062    164.844853  0.056621  17.661198  0.816094   \n",
       "\n",
       "        DFA   Spread2        D2       PPE  \n",
       "0  0.019018  0.158993  1.547017  0.023943  "
      ]
     },
     "execution_count": 34,
     "metadata": {},
     "output_type": "execute_result"
    }
   ],
   "source": [
    "feature_df.head()"
   ]
  },
  {
   "cell_type": "code",
   "execution_count": 35,
   "metadata": {},
   "outputs": [],
   "source": [
    "from sklearn.preprocessing import StandardScaler\n",
    "scaler = StandardScaler()\n",
    "df_scaled = scaler.fit_transform(feature_df)"
   ]
  },
  {
   "cell_type": "code",
   "execution_count": 36,
   "metadata": {},
   "outputs": [],
   "source": [
    "test_model = joblib.load(\"../models/Test3_model.joblib\")"
   ]
  },
  {
   "cell_type": "code",
   "execution_count": 37,
   "metadata": {},
   "outputs": [],
   "source": [
    "prediction = test_model.predict(df_scaled)"
   ]
  },
  {
   "cell_type": "code",
   "execution_count": 38,
   "metadata": {},
   "outputs": [
    {
     "name": "stdout",
     "output_type": "stream",
     "text": [
      "Predictions: [1]\n"
     ]
    }
   ],
   "source": [
    "print(\"Predictions:\", prediction)"
   ]
  }
 ],
 "metadata": {
  "kernelspec": {
   "display_name": ".venv",
   "language": "python",
   "name": "python3"
  },
  "language_info": {
   "codemirror_mode": {
    "name": "ipython",
    "version": 3
   },
   "file_extension": ".py",
   "mimetype": "text/x-python",
   "name": "python",
   "nbconvert_exporter": "python",
   "pygments_lexer": "ipython3",
   "version": "3.11.4"
  }
 },
 "nbformat": 4,
 "nbformat_minor": 2
}
