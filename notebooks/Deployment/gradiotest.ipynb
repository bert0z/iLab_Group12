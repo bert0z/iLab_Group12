{
 "cells": [
  {
   "cell_type": "code",
   "execution_count": 1,
   "metadata": {},
   "outputs": [
    {
     "name": "stdout",
     "output_type": "stream",
     "text": [
      "* Running on local URL:  http://127.0.0.1:7860\n",
      "\n",
      "To create a public link, set `share=True` in `launch()`.\n"
     ]
    },
    {
     "data": {
      "text/html": [
       "<div><iframe src=\"http://127.0.0.1:7860/\" width=\"100%\" height=\"500\" allow=\"autoplay; camera; microphone; clipboard-read; clipboard-write;\" frameborder=\"0\" allowfullscreen></iframe></div>"
      ],
      "text/plain": [
       "<IPython.core.display.HTML object>"
      ]
     },
     "metadata": {},
     "output_type": "display_data"
    },
    {
     "data": {
      "text/plain": []
     },
     "execution_count": 1,
     "metadata": {},
     "output_type": "execute_result"
    }
   ],
   "source": [
    "import gradio as gr\n",
    "import xgboost as xgb\n",
    "import librosa\n",
    "import parselmouth\n",
    "import numpy as np\n",
    "import pandas as pd\n",
    "from joblib import load\n",
    "import nolds\n",
    "import antropy as ant\n",
    "from pathlib import Path\n",
    "\n",
    "# Load the pre-trained Parkinson's prediction model\n",
    "pd_model = load('../models/Custom_model.joblib')\n",
    "\n",
    "def extract_features(audio_path):\n",
    "    sound = parselmouth.Sound(audio_path)\n",
    "    y, sr = librosa.load(audio_path)\n",
    "\n",
    "    pitch = sound.to_pitch()\n",
    "    fo = pitch.selected_array['frequency']\n",
    "    MDVP_Fo = np.mean(fo[fo > 0])  # Mean fundamental frequency\n",
    "    MDVP_Fhi = np.max(fo)           # Max fundamental frequency\n",
    "    MDVP_Flo = np.min(fo[fo > 0])   # Min fundamental frequency\n",
    "\n",
    "    harmonicity = sound.to_harmonicity()\n",
    "    HNR = harmonicity.values[harmonicity.values != -200].mean()\n",
    "    NHR = 1 / HNR if HNR != 0 else 0\n",
    "\n",
    "    RPDE = ant.perm_entropy(fo, normalize=True)\n",
    "    DFA = nolds.dfa(y)\n",
    "\n",
    "    spread = librosa.feature.spectral_bandwidth(y=y, sr=sr)\n",
    "    Spread2 = spread.mean() / (sr / 2)\n",
    "\n",
    "    D2 = nolds.corr_dim(fo, emb_dim=25)\n",
    "    PPE = ant.app_entropy(fo)\n",
    "\n",
    "    return {\n",
    "        \"MDVP:Fo(Hz)\": MDVP_Fo,\n",
    "        \"MDVP:Fhi(Hz)\": MDVP_Fhi,\n",
    "        \"MDVP:Flo(Hz)\": MDVP_Flo,\n",
    "        \"NHR\": NHR,\n",
    "        \"HNR\": HNR,\n",
    "        \"RPDE\": RPDE,\n",
    "        \"DFA\": DFA,\n",
    "        \"Spread2\": Spread2,\n",
    "        \"D2\": D2,\n",
    "        \"PPE\": PPE\n",
    "    }\n",
    "\n",
    "def predict_parkinsons(audio_file):\n",
    "    # The audio_file will be the path to the uploaded file\n",
    "    features = extract_features(audio_file)\n",
    "    feature_df = pd.DataFrame([features])\n",
    "\n",
    "    prediction = pd_model.predict(feature_df)\n",
    "    prediction_text = \"Signs of Parkinson's\" if prediction[0] == 1 else \"Healthy\"\n",
    "    \n",
    "    return prediction_text\n",
    "\n",
    "# Create Gradio interface\n",
    "gr_interface = gr.Interface(\n",
    "    fn=predict_parkinsons,  # Function to call\n",
    "    inputs=gr.Audio(type=\"filepath\"),  # Upload audio file as file path\n",
    "    outputs=\"text\",  # Output will be a text label (prediction result)\n",
    "    title=\"Parkinson's Prediction from Voice\",  # Title of the app\n",
    "    description=\"Upload a .wav file to predict signs of Parkinson's disease based on voice features.\"\n",
    ")\n",
    "\n",
    "# Launch the Gradio app\n",
    "gr_interface.launch()"
   ]
  }
 ],
 "metadata": {
  "kernelspec": {
   "display_name": ".venv",
   "language": "python",
   "name": "python3"
  },
  "language_info": {
   "codemirror_mode": {
    "name": "ipython",
    "version": 3
   },
   "file_extension": ".py",
   "mimetype": "text/x-python",
   "name": "python",
   "nbconvert_exporter": "python",
   "pygments_lexer": "ipython3",
   "version": "3.11.4"
  }
 },
 "nbformat": 4,
 "nbformat_minor": 2
}
