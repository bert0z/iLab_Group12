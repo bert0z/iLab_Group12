{
 "cells": [
  {
   "cell_type": "code",
   "execution_count": 9,
   "metadata": {},
   "outputs": [
    {
     "data": {
      "application/vnd.jupyter.widget-view+json": {
       "model_id": "9d0388ae4d594cddb219d076e2353d0a",
       "version_major": 2,
       "version_minor": 0
      },
      "text/plain": [
       "HTML(value=\"<h1>Parkinson's Prediction from Voice</h1>\")"
      ]
     },
     "metadata": {},
     "output_type": "display_data"
    },
    {
     "data": {
      "application/vnd.jupyter.widget-view+json": {
       "model_id": "88daca5a80874049bb9cf017117763e9",
       "version_major": 2,
       "version_minor": 0
      },
      "text/plain": [
       "FileUpload(value=(), accept='.wav', description='Upload')"
      ]
     },
     "metadata": {},
     "output_type": "display_data"
    },
    {
     "data": {
      "application/vnd.jupyter.widget-view+json": {
       "model_id": "745cc86deafb4174a09c041bb2f353dc",
       "version_major": 2,
       "version_minor": 0
      },
      "text/plain": [
       "Button(description=\"Predict Parkinson's\", style=ButtonStyle())"
      ]
     },
     "metadata": {},
     "output_type": "display_data"
    },
    {
     "data": {
      "application/vnd.jupyter.widget-view+json": {
       "model_id": "bddcdfcc91e74601a0242b3bf8a3afd9",
       "version_major": 2,
       "version_minor": 0
      },
      "text/plain": [
       "Output()"
      ]
     },
     "metadata": {},
     "output_type": "display_data"
    }
   ],
   "source": [
    "import ipywidgets as widgets\n",
    "from IPython.display import display\n",
    "import xgboost as xgb\n",
    "import librosa\n",
    "import parselmouth\n",
    "import numpy as np\n",
    "import pandas as pd\n",
    "from joblib import load\n",
    "import nolds\n",
    "import antropy as ant\n",
    "from pathlib import Path\n",
    "\n",
    "# Load pre-trained Parkinson's prediction model\n",
    "pd_model = load('../models/Custom_model.joblib')\n",
    "\n",
    "# Define the GUI components\n",
    "file_upload = widgets.FileUpload(accept='.wav', multiple=False)\n",
    "predict_button = widgets.Button(description=\"Predict Parkinson's\")\n",
    "output_widget = widgets.Output()\n",
    "\n",
    "# Display the Title\n",
    "display(widgets.HTML(\"<h1>Parkinson's Prediction from Voice</h1>\"))\n",
    "\n",
    "# Display widgets in the notebook\n",
    "display(file_upload)\n",
    "display(predict_button)\n",
    "display(output_widget)\n",
    "\n",
    "# Define the function to extract features from the audio file\n",
    "def extract_features(audio_path):\n",
    "    sound = parselmouth.Sound(audio_path)\n",
    "    y, sr = librosa.load(audio_path)\n",
    "\n",
    "    pitch = sound.to_pitch()\n",
    "    fo = pitch.selected_array['frequency']\n",
    "    MDVP_Fo = np.mean(fo[fo > 0])  # Mean fundamental frequency\n",
    "    MDVP_Fhi = np.max(fo)           # Max fundamental frequency\n",
    "    MDVP_Flo = np.min(fo[fo > 0])   # Min fundamental frequency\n",
    "\n",
    "    harmonicity = sound.to_harmonicity()\n",
    "    HNR = harmonicity.values[harmonicity.values != -200].mean()\n",
    "    NHR = 1 / HNR if HNR != 0 else 0\n",
    "\n",
    "    RPDE = ant.perm_entropy(fo, normalize=True)\n",
    "    DFA = nolds.dfa(y)\n",
    "\n",
    "    spread = librosa.feature.spectral_bandwidth(y=y, sr=sr)\n",
    "    Spread2 = spread.mean() / (sr / 2)\n",
    "\n",
    "    D2 = nolds.corr_dim(fo, emb_dim=25)\n",
    "    PPE = ant.app_entropy(fo)\n",
    "\n",
    "    return {\n",
    "        \"MDVP:Fo(Hz)\": MDVP_Fo,\n",
    "        \"MDVP:Fhi(Hz)\": MDVP_Fhi,\n",
    "        \"MDVP:Flo(Hz)\": MDVP_Flo,\n",
    "        \"NHR\": NHR,\n",
    "        \"HNR\": HNR,\n",
    "        \"RPDE\": RPDE,\n",
    "        \"DFA\": DFA,\n",
    "        \"Spread2\": Spread2,\n",
    "        \"D2\": D2,\n",
    "        \"PPE\": PPE\n",
    "    }\n",
    "\n",
    "# Function to handle the prediction when button is clicked\n",
    "def on_predict_clicked(b):\n",
    "    with output_widget:\n",
    "        output_widget.clear_output()\n",
    "\n",
    "        if file_upload.value:\n",
    "            # Access the first uploaded file from the tuple\n",
    "            uploaded_file = file_upload.value[0]\n",
    "            \n",
    "            # Get file content (bytes)\n",
    "            file_content = uploaded_file['content']\n",
    "\n",
    "            file_path = Path(\"temp.wav\")\n",
    "            \n",
    "            # Save the file locally\n",
    "            with open(file_path, \"wb\") as f:\n",
    "                f.write(file_content)\n",
    "\n",
    "            # Extract features from the file, convert Path to string\n",
    "            features = extract_features(str(file_path))\n",
    "            feature_df = pd.DataFrame([features])\n",
    "            \n",
    "            # Predict Parkinson's disease\n",
    "            prediction = pd_model.predict(feature_df)\n",
    "            prediction_text = \"Signs of Parkinson's\" if prediction[0] == 1 else \"Healthy\"\n",
    "            \n",
    "            # Display the result\n",
    "            print(f\"Prediction: {prediction_text}\")\n",
    "        else:\n",
    "            print(\"Please upload a .wav file\")\n",
    "\n",
    "\n",
    "# Assign the function to button's click event\n",
    "predict_button.on_click(on_predict_clicked)\n"
   ]
  }
 ],
 "metadata": {
  "kernelspec": {
   "display_name": ".venv",
   "language": "python",
   "name": "python3"
  },
  "language_info": {
   "codemirror_mode": {
    "name": "ipython",
    "version": 3
   },
   "file_extension": ".py",
   "mimetype": "text/x-python",
   "name": "python",
   "nbconvert_exporter": "python",
   "pygments_lexer": "ipython3",
   "version": "3.11.4"
  }
 },
 "nbformat": 4,
 "nbformat_minor": 2
}
