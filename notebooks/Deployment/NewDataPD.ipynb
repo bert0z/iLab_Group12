{
 "cells": [
  {
   "cell_type": "code",
   "execution_count": 1,
   "metadata": {},
   "outputs": [],
   "source": [
    "#pip install antropy"
   ]
  },
  {
   "cell_type": "code",
   "execution_count": 2,
   "metadata": {},
   "outputs": [],
   "source": [
    "import parselmouth\n",
    "import numpy as np\n",
    "import librosa\n",
    "import nolds\n",
    "import pandas as pd\n",
    "import joblib\n",
    "import antropy as ant\n",
    "from scipy.stats import variation\n",
    "import os"
   ]
  },
  {
   "cell_type": "code",
   "execution_count": 3,
   "metadata": {},
   "outputs": [],
   "source": [
    "def extract_features(audio_path):\n",
    "    # Load audio\n",
    "    sound = parselmouth.Sound(audio_path)\n",
    "    y, sr = librosa.load(audio_path)\n",
    "\n",
    "    # 1. MDVP:Fo(Hz), MDVP:Fhi(Hz), MDVP:Flo(Hz)\n",
    "    pitch = sound.to_pitch()\n",
    "    fo = pitch.selected_array['frequency']\n",
    "    MDVP_Fo = np.mean(fo[fo > 0])  # Mean fundamental frequency\n",
    "    MDVP_Fhi = np.max(fo)           # Max fundamental frequency\n",
    "    MDVP_Flo = np.min(fo[fo > 0])   # Min fundamental frequency\n",
    "\n",
    "    # 2. NHR and HNR\n",
    "    harmonicity = sound.to_harmonicity()\n",
    "    HNR = harmonicity.values[harmonicity.values != -200].mean()\n",
    "    NHR = 1 / HNR if HNR != 0 else 0\n",
    "\n",
    "    # 3. RPDE (Recurrence Period Density Entropy)\n",
    "    RPDE = ant.perm_entropy(fo, normalize=True)    # or use a different signal for better accuracy\n",
    "\n",
    "    # 4. DFA (Detrended Fluctuation Analysis)\n",
    "    DFA = nolds.dfa(y)\n",
    "\n",
    "    # 5. Spread2\n",
    "    spread = librosa.feature.spectral_bandwidth(y=y, sr=sr)\n",
    "    Spread2 = spread.mean() / (sr / 2)\n",
    "\n",
    "    # 6. D2 (Correlation Dimension)\n",
    "    D2 = nolds.corr_dim(fo, emb_dim=25)  # Adjust emb_dim for accuracy, perhaps check paper\n",
    "\n",
    "    # 7. PPE (Pitch Period Entropy)\n",
    "    PPE = ant.app_entropy(fo)\n",
    "\n",
    "    # Consolidate into dictionary\n",
    "    features = {\n",
    "        \"MDVP:Fo(Hz)\": MDVP_Fo,\n",
    "        \"MDVP:Fhi(Hz)\": MDVP_Fhi,\n",
    "        \"MDVP:Flo(Hz)\": MDVP_Flo,\n",
    "        \"NHR\": NHR,\n",
    "        \"HNR\": HNR,\n",
    "        \"RPDE\": RPDE,\n",
    "        \"DFA\": DFA,\n",
    "        \"Spread2\": Spread2,\n",
    "        \"D2\": D2,\n",
    "        \"PPE\": PPE\n",
    "    }\n",
    "    \n",
    "    return features"
   ]
  },
  {
   "cell_type": "code",
   "execution_count": 4,
   "metadata": {},
   "outputs": [],
   "source": [
    "def process_directory(directory, output_csv):\n",
    "    # Define CSV headers\n",
    "    headers = [\"MDVP:Fo(Hz)\",\n",
    "        \"MDVP:Fhi(Hz)\",\n",
    "        \"MDVP:Flo(Hz)\",\n",
    "        \"NHR\",\n",
    "        \"HNR\",\n",
    "        \"RPDE\",\n",
    "        \"DFA\",\n",
    "        \"Spread2\",\n",
    "        \"D2\",\n",
    "        \"PPE\"]\n",
    "    \n",
    "    # Initialize CSV file with headers\n",
    "    with open(output_csv, mode='w', newline='') as f:\n",
    "        writer = pd.DataFrame(columns=headers).to_csv(f, index=False)\n",
    "\n",
    "    # Process each .wav file and append results directly to the CSV\n",
    "    for filename in os.listdir(directory):\n",
    "        if filename.endswith(\".wav\"):\n",
    "            filepath = os.path.join(directory, filename)\n",
    "            print(f\"Processing {filename}...\")\n",
    "            features = extract_features(filepath)\n",
    "            if features is not None:\n",
    "                # Convert features to a single-row DataFrame and append to CSV\n",
    "                pd.DataFrame([features]).to_csv(output_csv, mode='a', index=False, header=False)\n",
    "                print(f\"Features appended for {filename}.\")\n",
    "            else:\n",
    "                print(f\"Failed to extract features for {filename}.\")\n",
    "\n",
    "    print(f\"All features saved to {output_csv}.\")"
   ]
  },
  {
   "cell_type": "code",
   "execution_count": 5,
   "metadata": {},
   "outputs": [
    {
     "name": "stdout",
     "output_type": "stream",
     "text": [
      "Processing AH_545616858-3A749CBC-3FEB-4D35-820E-E45C3E5B9B6A.wav...\n",
      "Features appended for AH_545616858-3A749CBC-3FEB-4D35-820E-E45C3E5B9B6A.wav.\n",
      "Processing AH_545622717-461DFFFE-54AF-42AF-BA78-528BD505D624.wav...\n",
      "Features appended for AH_545622717-461DFFFE-54AF-42AF-BA78-528BD505D624.wav.\n",
      "Processing AH_545622718-C052AD58-5E6B-4ADC-855C-F76B66BAFA6E.wav...\n",
      "Features appended for AH_545622718-C052AD58-5E6B-4ADC-855C-F76B66BAFA6E.wav.\n",
      "Processing AH_545622719-52C23861-6E0D-41E0-A3D8-9358C28C019B.wav...\n",
      "Features appended for AH_545622719-52C23861-6E0D-41E0-A3D8-9358C28C019B.wav.\n",
      "Processing AH_545622720-E1486AF6-8C95-47EB-829B-4D62698C987A.wav...\n",
      "Features appended for AH_545622720-E1486AF6-8C95-47EB-829B-4D62698C987A.wav.\n",
      "Processing AH_545622722-3C79DA68-36BB-43A2-B29C-61AEF480E07E.wav...\n",
      "Features appended for AH_545622722-3C79DA68-36BB-43A2-B29C-61AEF480E07E.wav.\n",
      "Processing AH_545629296-C2C009C6-8C17-42EA-B6BE-362942FC4692.wav...\n",
      "Features appended for AH_545629296-C2C009C6-8C17-42EA-B6BE-362942FC4692.wav.\n",
      "Processing AH_545643618-82A143AC-B643-4273-A923-C42A83AEEC5F.wav...\n",
      "Features appended for AH_545643618-82A143AC-B643-4273-A923-C42A83AEEC5F.wav.\n",
      "Processing AH_545648867-CB17D873-1CEA-492A-B5B0-93C7463F516C.wav...\n"
     ]
    },
    {
     "name": "stderr",
     "output_type": "stream",
     "text": [
      "c:\\Users\\bert_\\Projects\\adv_mla_2024\\Test_for_iLab\\.venv\\Lib\\site-packages\\sklearn\\metrics\\_regression.py:1211: UndefinedMetricWarning: R^2 score is not well-defined with less than two samples.\n",
      "  warnings.warn(msg, UndefinedMetricWarning)\n"
     ]
    },
    {
     "name": "stdout",
     "output_type": "stream",
     "text": [
      "Features appended for AH_545648867-CB17D873-1CEA-492A-B5B0-93C7463F516C.wav.\n",
      "Processing AH_545692309-EA8C4DC0-9B2A-4CC7-A490-851A2129A733.wav...\n",
      "Features appended for AH_545692309-EA8C4DC0-9B2A-4CC7-A490-851A2129A733.wav.\n",
      "Processing AH_545692315-C2972597-9AEC-4060-A186-F1F59340640C.wav...\n"
     ]
    },
    {
     "name": "stderr",
     "output_type": "stream",
     "text": [
      "c:\\Users\\bert_\\Projects\\adv_mla_2024\\Test_for_iLab\\.venv\\Lib\\site-packages\\sklearn\\metrics\\_regression.py:1211: UndefinedMetricWarning: R^2 score is not well-defined with less than two samples.\n",
      "  warnings.warn(msg, UndefinedMetricWarning)\n"
     ]
    },
    {
     "name": "stdout",
     "output_type": "stream",
     "text": [
      "Features appended for AH_545692315-C2972597-9AEC-4060-A186-F1F59340640C.wav.\n",
      "Processing AH_545713221-1E77C030-4558-4A88-B1A2-6AB777ACAE61.wav...\n",
      "Features appended for AH_545713221-1E77C030-4558-4A88-B1A2-6AB777ACAE61.wav.\n",
      "Processing AH_545713222-DA13DC3A-F24B-454E-984F-19DF19328D39.wav...\n",
      "Features appended for AH_545713222-DA13DC3A-F24B-454E-984F-19DF19328D39.wav.\n",
      "Processing AH_545713223-E6D59EE5-4C3F-4B40-AE8F-0657EF94DB66.wav...\n",
      "Features appended for AH_545713223-E6D59EE5-4C3F-4B40-AE8F-0657EF94DB66.wav.\n",
      "Processing AH_545713224-1B3708B0-8792-4FEE-B03B-C7CB9CB03D58.wav...\n",
      "Features appended for AH_545713224-1B3708B0-8792-4FEE-B03B-C7CB9CB03D58.wav.\n",
      "Processing AH_545743929-E2EAE1A3-7E46-4DCF-8DB7-37A5CA47DB9D.wav...\n",
      "Features appended for AH_545743929-E2EAE1A3-7E46-4DCF-8DB7-37A5CA47DB9D.wav.\n",
      "Processing AH_545753013-FCFF8F46-08FF-4C87-B443-D2039E5DA945.wav...\n",
      "Features appended for AH_545753013-FCFF8F46-08FF-4C87-B443-D2039E5DA945.wav.\n",
      "Processing AH_545753014-C68926CC-AB91-49AF-90A6-BB5C434283DB.wav...\n"
     ]
    },
    {
     "name": "stderr",
     "output_type": "stream",
     "text": [
      "c:\\Users\\bert_\\Projects\\adv_mla_2024\\Test_for_iLab\\.venv\\Lib\\site-packages\\nolds\\measures.py:51: RuntimeWarning: RANSAC did not reach consensus, using numpy's polyfit\n",
      "  warnings.warn(\n"
     ]
    },
    {
     "name": "stdout",
     "output_type": "stream",
     "text": [
      "Features appended for AH_545753014-C68926CC-AB91-49AF-90A6-BB5C434283DB.wav.\n",
      "Processing AH_545753015-58CAA743-BA9A-47E0-B9EF-CC35E9EFB839.wav...\n",
      "Features appended for AH_545753015-58CAA743-BA9A-47E0-B9EF-CC35E9EFB839.wav.\n",
      "Processing AH_545789668-A4F6069C-5E1A-49F5-9EDC-59C6EB833E42.wav...\n",
      "Features appended for AH_545789668-A4F6069C-5E1A-49F5-9EDC-59C6EB833E42.wav.\n",
      "Processing AH_545789670-C297FD53-BF71-4183-86A0-58E5E1EB0DF8.wav...\n",
      "Features appended for AH_545789670-C297FD53-BF71-4183-86A0-58E5E1EB0DF8.wav.\n",
      "Processing AH_545789671-794D2256-DDFF-4009-8BA8-8A306C8FA14F.wav...\n",
      "Features appended for AH_545789671-794D2256-DDFF-4009-8BA8-8A306C8FA14F.wav.\n",
      "Processing AH_545789674-53885025-35F1-48C1-9826-BAAEB8BEAF58.wav...\n"
     ]
    },
    {
     "name": "stderr",
     "output_type": "stream",
     "text": [
      "c:\\Users\\bert_\\Projects\\adv_mla_2024\\Test_for_iLab\\.venv\\Lib\\site-packages\\sklearn\\metrics\\_regression.py:1211: UndefinedMetricWarning: R^2 score is not well-defined with less than two samples.\n",
      "  warnings.warn(msg, UndefinedMetricWarning)\n"
     ]
    },
    {
     "name": "stdout",
     "output_type": "stream",
     "text": [
      "Features appended for AH_545789674-53885025-35F1-48C1-9826-BAAEB8BEAF58.wav.\n",
      "Processing AH_545789675-243F18DB-4432-4C87-B12C-6EEC2D2D30D6.wav...\n",
      "Features appended for AH_545789675-243F18DB-4432-4C87-B12C-6EEC2D2D30D6.wav.\n",
      "Processing AH_545789677-D381D801-B073-4945-BE0D-E250126EA6B1.wav...\n",
      "Features appended for AH_545789677-D381D801-B073-4945-BE0D-E250126EA6B1.wav.\n",
      "Processing AH_545789680-7FF9D4F1-DDCC-4CB6-8668-76530D670FA5.wav...\n"
     ]
    },
    {
     "name": "stderr",
     "output_type": "stream",
     "text": [
      "c:\\Users\\bert_\\Projects\\adv_mla_2024\\Test_for_iLab\\.venv\\Lib\\site-packages\\sklearn\\metrics\\_regression.py:1211: UndefinedMetricWarning: R^2 score is not well-defined with less than two samples.\n",
      "  warnings.warn(msg, UndefinedMetricWarning)\n"
     ]
    },
    {
     "name": "stdout",
     "output_type": "stream",
     "text": [
      "Features appended for AH_545789680-7FF9D4F1-DDCC-4CB6-8668-76530D670FA5.wav.\n",
      "Processing AH_545789682-7554E0C7-4E25-49C3-9E6C-04D525455E28.wav...\n",
      "Features appended for AH_545789682-7554E0C7-4E25-49C3-9E6C-04D525455E28.wav.\n",
      "Processing AH_545789690-DA26461A-AF40-4A43-9662-3A93EE872359.wav...\n",
      "Features appended for AH_545789690-DA26461A-AF40-4A43-9662-3A93EE872359.wav.\n",
      "Processing AH_545806325-8A17002B-CFD3-4DCF-8854-04F0F2BFF21B.wav...\n",
      "Features appended for AH_545806325-8A17002B-CFD3-4DCF-8854-04F0F2BFF21B.wav.\n",
      "Processing AH_545806326-BD0FE665-1AD5-4F55-8342-0FAB8B15680B.wav...\n",
      "Features appended for AH_545806326-BD0FE665-1AD5-4F55-8342-0FAB8B15680B.wav.\n",
      "Processing AH_545812844-DFBCDA22-CADB-444A-9623-16A39D45E9E7.wav...\n",
      "Features appended for AH_545812844-DFBCDA22-CADB-444A-9623-16A39D45E9E7.wav.\n",
      "Processing AH_545812846-0C14B32A-6C50-4B62-BC89-0A815C2DEEFA.wav...\n",
      "Features appended for AH_545812846-0C14B32A-6C50-4B62-BC89-0A815C2DEEFA.wav.\n",
      "Processing AH_545834603-857E007F-1CCF-4249-8160-3A0F3F5AB58D.wav...\n"
     ]
    },
    {
     "name": "stderr",
     "output_type": "stream",
     "text": [
      "c:\\Users\\bert_\\Projects\\adv_mla_2024\\Test_for_iLab\\.venv\\Lib\\site-packages\\sklearn\\metrics\\_regression.py:1211: UndefinedMetricWarning: R^2 score is not well-defined with less than two samples.\n",
      "  warnings.warn(msg, UndefinedMetricWarning)\n"
     ]
    },
    {
     "name": "stdout",
     "output_type": "stream",
     "text": [
      "Features appended for AH_545834603-857E007F-1CCF-4249-8160-3A0F3F5AB58D.wav.\n",
      "Processing AH_545841221-6FC57E6E-65B6-4859-A15A-55856D7E75C0.wav...\n",
      "Features appended for AH_545841221-6FC57E6E-65B6-4859-A15A-55856D7E75C0.wav.\n",
      "Processing AH_545841222-DE5AEF27-7F4E-45A4-BF7D-9E87E7A786AE.wav...\n",
      "Features appended for AH_545841222-DE5AEF27-7F4E-45A4-BF7D-9E87E7A786AE.wav.\n",
      "Processing AH_545841223-24FB0419-5BAE-4F9C-8EBC-CD62DA6590D2.wav...\n",
      "Features appended for AH_545841223-24FB0419-5BAE-4F9C-8EBC-CD62DA6590D2.wav.\n",
      "Processing AH_545841226-C699FC9E-1E0C-474D-A12A-936DD92B8980.wav...\n",
      "Features appended for AH_545841226-C699FC9E-1E0C-474D-A12A-936DD92B8980.wav.\n",
      "Processing AH_545841227-5C77713A-66F1-49D0-BC8A-702C152E668D.wav...\n",
      "Features appended for AH_545841227-5C77713A-66F1-49D0-BC8A-702C152E668D.wav.\n",
      "Processing AH_545847410-D1BA3BB4-1F61-44CA-ACDE-455A8E97E04B.wav...\n",
      "Features appended for AH_545847410-D1BA3BB4-1F61-44CA-ACDE-455A8E97E04B.wav.\n",
      "Processing AH_545880204-EE87D3E2-0D4C-4EAA-ACD7-C3F177AFF62F.wav...\n",
      "Features appended for AH_545880204-EE87D3E2-0D4C-4EAA-ACD7-C3F177AFF62F.wav.\n",
      "All features saved to extracted_featuresPD.csv.\n"
     ]
    }
   ],
   "source": [
    "# Specify directory of .wav files and output CSV filename\n",
    "directory = '../data/raw/PD_AH/PD_AH'\n",
    "output_csv = 'extracted_featuresPD.csv'\n",
    "process_directory(directory, output_csv)"
   ]
  }
 ],
 "metadata": {
  "kernelspec": {
   "display_name": ".venv",
   "language": "python",
   "name": "python3"
  },
  "language_info": {
   "codemirror_mode": {
    "name": "ipython",
    "version": 3
   },
   "file_extension": ".py",
   "mimetype": "text/x-python",
   "name": "python",
   "nbconvert_exporter": "python",
   "pygments_lexer": "ipython3",
   "version": "3.11.4"
  }
 },
 "nbformat": 4,
 "nbformat_minor": 2
}
