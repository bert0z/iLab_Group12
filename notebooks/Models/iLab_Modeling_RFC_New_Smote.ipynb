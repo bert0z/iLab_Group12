{
  "nbformat": 4,
  "nbformat_minor": 0,
  "metadata": {
    "colab": {
      "provenance": []
    },
    "kernelspec": {
      "name": "python3",
      "display_name": "Python 3"
    },
    "language_info": {
      "name": "python"
    }
  },
  "cells": [
    {
      "cell_type": "markdown",
      "source": [
        "## Importing the libraries"
      ],
      "metadata": {
        "id": "Ji3dMWAu54Sj"
      }
    },
    {
      "cell_type": "code",
      "execution_count": 1,
      "metadata": {
        "id": "lJbT3Cs4cj-6"
      },
      "outputs": [],
      "source": [
        "import pandas as pd\n",
        "import numpy as np\n",
        "from sklearn.model_selection import train_test_split\n",
        "import seaborn as sns\n",
        "import matplotlib.pyplot as plt"
      ]
    },
    {
      "cell_type": "markdown",
      "source": [
        "## Connecting drive and importing data"
      ],
      "metadata": {
        "id": "1saArfw557Hu"
      }
    },
    {
      "cell_type": "code",
      "source": [
        "from google.colab import drive\n",
        "drive.mount('/content/drive')"
      ],
      "metadata": {
        "colab": {
          "base_uri": "https://localhost:8080/"
        },
        "id": "so-SL8eCcmq-",
        "outputId": "24e51fa0-f85e-4fd7-d1ee-71494af71a55"
      },
      "execution_count": 2,
      "outputs": [
        {
          "output_type": "stream",
          "name": "stdout",
          "text": [
            "Drive already mounted at /content/drive; to attempt to forcibly remount, call drive.mount(\"/content/drive\", force_remount=True).\n"
          ]
        }
      ]
    },
    {
      "cell_type": "code",
      "source": [
        "df = pd.read_csv(\"/content/drive/MyDrive/ilab/dataset/pd_speech_features.csv\")"
      ],
      "metadata": {
        "id": "YIC2hdqTcw3N"
      },
      "execution_count": 3,
      "outputs": []
    },
    {
      "cell_type": "code",
      "source": [
        "df['class'].value_counts()"
      ],
      "metadata": {
        "id": "5GIEc-AghMEM",
        "colab": {
          "base_uri": "https://localhost:8080/",
          "height": 176
        },
        "outputId": "69570c43-7222-410b-8334-3d0dc829a408"
      },
      "execution_count": 4,
      "outputs": [
        {
          "output_type": "execute_result",
          "data": {
            "text/plain": [
              "class\n",
              "1    564\n",
              "0    192\n",
              "Name: count, dtype: int64"
            ],
            "text/html": [
              "<div>\n",
              "<style scoped>\n",
              "    .dataframe tbody tr th:only-of-type {\n",
              "        vertical-align: middle;\n",
              "    }\n",
              "\n",
              "    .dataframe tbody tr th {\n",
              "        vertical-align: top;\n",
              "    }\n",
              "\n",
              "    .dataframe thead th {\n",
              "        text-align: right;\n",
              "    }\n",
              "</style>\n",
              "<table border=\"1\" class=\"dataframe\">\n",
              "  <thead>\n",
              "    <tr style=\"text-align: right;\">\n",
              "      <th></th>\n",
              "      <th>count</th>\n",
              "    </tr>\n",
              "    <tr>\n",
              "      <th>class</th>\n",
              "      <th></th>\n",
              "    </tr>\n",
              "  </thead>\n",
              "  <tbody>\n",
              "    <tr>\n",
              "      <th>1</th>\n",
              "      <td>564</td>\n",
              "    </tr>\n",
              "    <tr>\n",
              "      <th>0</th>\n",
              "      <td>192</td>\n",
              "    </tr>\n",
              "  </tbody>\n",
              "</table>\n",
              "</div><br><label><b>dtype:</b> int64</label>"
            ]
          },
          "metadata": {},
          "execution_count": 4
        }
      ]
    },
    {
      "cell_type": "code",
      "source": [
        "df.shape"
      ],
      "metadata": {
        "id": "e_JaFyqxhMwT",
        "colab": {
          "base_uri": "https://localhost:8080/"
        },
        "outputId": "1d57be57-cc4b-4950-9ad1-80c664d6e4fe"
      },
      "execution_count": 5,
      "outputs": [
        {
          "output_type": "execute_result",
          "data": {
            "text/plain": [
              "(756, 755)"
            ]
          },
          "metadata": {},
          "execution_count": 5
        }
      ]
    },
    {
      "cell_type": "code",
      "source": [
        "updated_df = df.copy().drop(columns=['id', 'gender', 'class'], axis=1)\n",
        "updated_df.shape"
      ],
      "metadata": {
        "id": "w3L4kgCyhQfM",
        "colab": {
          "base_uri": "https://localhost:8080/"
        },
        "outputId": "ac98c20e-87b7-4443-e7e6-5d387b4738ce"
      },
      "execution_count": 6,
      "outputs": [
        {
          "output_type": "execute_result",
          "data": {
            "text/plain": [
              "(756, 752)"
            ]
          },
          "metadata": {},
          "execution_count": 6
        }
      ]
    },
    {
      "cell_type": "markdown",
      "source": [
        "## Getting the target variable and important features\n"
      ],
      "metadata": {
        "id": "PYp9YzQ_6CtK"
      }
    },
    {
      "cell_type": "code",
      "source": [
        "y = df['class']"
      ],
      "metadata": {
        "id": "ZXxx8bufcxV8"
      },
      "execution_count": 7,
      "outputs": []
    },
    {
      "cell_type": "code",
      "source": [
        "X = df[['mean_MFCC_11th_coef', 'tqwt_TKEO_mean_dec_19', 'mean_12th_delta_delta', 'tqwt_entropy_shannon_dec_3', 'locPctJitter',\n",
        "        'tqwt_TKEO_mean_dec_1', 'IMF_SNR_entropy', 'app_LT_TKEO_std_9_coef', 'tqwt_energy_dec_8', 'tqwt_TKEO_mean_dec_26',\n",
        "        'tqwt_entropy_shannon_dec_11', 'Ed2_10_coef', 'tqwt_TKEO_mean_dec_36', 'tqwt_energy_dec_19', 'tqwt_TKEO_std_dec_20',\n",
        "        'tqwt_medianValue_dec_12', 'f4', 'tqwt_skewnessValue_dec_5', 'tqwt_medianValue_dec_10', 'det_TKEO_mean_6_coef', 'det_LT_TKEO_std_7_coef',\n",
        "        'tqwt_stdValue_dec_3', 'tqwt_medianValue_dec_11', 'det_LT_entropy_log_9_coef', 'GNE_NSR_SEO', 'tqwt_medianValue_dec_22',\n",
        "        'mean_11th_delta_delta', 'tqwt_stdValue_dec_21', 'tqwt_skewnessValue_dec_8', 'det_LT_entropy_shannon_6_coef', 'tqwt_TKEO_std_dec_26',\n",
        "        'tqwt_medianValue_dec_35', 'tqwt_medianValue_dec_32', 'tqwt_kurtosisValue_dec_34', 'tqwt_entropy_shannon_dec_2', 'tqwt_skewnessValue_dec_12',\n",
        "        'app_det_TKEO_mean_3_coef', 'tqwt_minValue_dec_22', 'tqwt_meanValue_dec_31', 'mean_MFCC_6th_coef', 'std_4th_delta', 'tqwt_meanValue_dec_22',\n",
        "        'tqwt_meanValue_dec_25', 'tqwt_energy_dec_23', 'tqwt_TKEO_std_dec_23', 'tqwt_skewnessValue_dec_30', 'tqwt_entropy_shannon_dec_33',\n",
        "        'det_TKEO_mean_10_coef', 'mean_MFCC_12th_coef', 'mean_MFCC_8th_coef', 'tqwt_medianValue_dec_26', 'app_LT_TKEO_std_10_coef', 'VFER_std',\n",
        "        'VFER_NSR_TKEO', 'mean_MFCC_10th_coef', 'tqwt_meanValue_dec_18', 'tqwt_meanValue_dec_16', 'mean_10th_delta', 'tqwt_entropy_shannon_dec_26',\n",
        "        'mean_delta_delta_0th', 'minIntensity', 'rapJitter', 'b1', 'tqwt_TKEO_std_dec_29', 'tqwt_maxValue_dec_19', 'tqwt_TKEO_std_dec_27',\n",
        "        'Ed_6_coef', 'tqwt_meanValue_dec_1', 'det_LT_entropy_shannon_9_coef', 'tqwt_entropy_shannon_dec_29', 'mean_4th_delta_delta',\n",
        "        'tqwt_skewnessValue_dec_20', 'app_LT_TKEO_mean_10_coef', 'tqwt_entropy_shannon_dec_36', 'tqwt_energy_dec_32', 'tqwt_maxValue_dec_21',\n",
        "        'std_4th_delta_delta', 'tqwt_stdValue_dec_34', 'tqwt_TKEO_std_dec_8', 'tqwt_TKEO_std_dec_11', 'tqwt_skewnessValue_dec_16',\n",
        "        'Ed_1_coef', 'tqwt_skewnessValue_dec_10', 'tqwt_meanValue_dec_4', 'tqwt_meanValue_dec_5', 'tqwt_meanValue_dec_29', 'tqwt_entropy_shannon_dec_21',\n",
        "        'tqwt_meanValue_dec_20', 'IMF_NSR_TKEO', 'mean_6th_delta', 'tqwt_entropy_shannon_dec_32', 'det_LT_TKEO_mean_7_coef', 'tqwt_kurtosisValue_dec_17',\n",
        "        'tqwt_kurtosisValue_dec_30', 'tqwt_maxValue_dec_22', 'mean_delta_delta_log_energy', 'std_MFCC_5th_coef', 'mean_9th_delta_delta',\n",
        "        'tqwt_stdValue_dec_27', 'tqwt_TKEO_mean_dec_29', 'mean_10th_delta_delta', 'tqwt_TKEO_mean_dec_2', 'tqwt_entropy_shannon_dec_34',\n",
        "        'tqwt_energy_dec_28', 'tqwt_meanValue_dec_32', 'tqwt_kurtosisValue_dec_27', 'tqwt_medianValue_dec_19', 'tqwt_minValue_dec_31',\n",
        "        'det_LT_entropy_shannon_4_coef', 'GNE_SNR_TKEO', 'det_LT_entropy_log_10_coef', 'tqwt_medianValue_dec_2', 'tqwt_minValue_dec_29',\n",
        "        'mean_7th_delta', 'Ed_9_coef', 'tqwt_maxValue_dec_31', 'std_5th_delta_delta', 'tqwt_meanValue_dec_30', 'std_5th_delta', 'tqwt_energy_dec_22',\n",
        "        'tqwt_entropy_shannon_dec_18', 'tqwt_energy_dec_24', 'mean_1st_delta_delta', 'tqwt_entropy_shannon_dec_4', 'mean_5th_delta_delta',\n",
        "        'b2', 'tqwt_kurtosisValue_dec_28', 'mean_4th_delta', 'tqwt_skewnessValue_dec_1', 'tqwt_energy_dec_26', 'tqwt_entropy_shannon_dec_23',\n",
        "        'app_LT_entropy_log_1_coef', 'tqwt_energy_dec_11', 'std_6th_delta_delta', 'Ed2_7_coef', 'IMF_SNR_SEO', 'ddpJitter', 'mean_delta_log_energy',\n",
        "        'tqwt_meanValue_dec_24', 'app_LT_entropy_log_2_coef', 'tqwt_kurtosisValue_dec_8', 'tqwt_TKEO_std_dec_30', 'tqwt_skewnessValue_dec_34',\n",
        "        'mean_MFCC_1st_coef', 'b4', 'tqwt_meanValue_dec_19', 'det_TKEO_std_10_coef', 'tqwt_minValue_dec_28', 'tqwt_maxValue_dec_27', 'f3', 'Ea',\n",
        "        'tqwt_skewnessValue_dec_13', 'det_LT_TKEO_std_6_coef', 'det_TKEO_std_3_coef', 'mean_11th_delta', 'Ed2_2_coef', 'tqwt_skewnessValue_dec_21',\n",
        "        'tqwt_TKEO_mean_dec_18', 'tqwt_kurtosisValue_dec_29', 'tqwt_entropy_log_dec_26', 'app_LT_entropy_shannon_7_coef', 'tqwt_energy_dec_21',\n",
        "        'Ed2_3_coef', 'tqwt_kurtosisValue_dec_12', 'tqwt_medianValue_dec_5', 'tqwt_skewnessValue_dec_19', 'tqwt_TKEO_std_dec_34', 'mean_MFCC_9th_coef',\n",
        "        'mean_12th_delta', 'tqwt_medianValue_dec_30', 'tqwt_stdValue_dec_29', 'tqwt_skewnessValue_dec_9', 'tqwt_meanValue_dec_11',\n",
        "        'det_TKEO_std_4_coef', 'tqwt_skewnessValue_dec_33', 'mean_2nd_delta_delta', 'det_TKEO_mean_7_coef', 'tqwt_medianValue_dec_8',\n",
        "        'det_LT_TKEO_mean_2_coef', 'tqwt_skewnessValue_dec_31', 'tqwt_meanValue_dec_6', 'tqwt_skewnessValue_dec_22', 'app_LT_TKEO_mean_1_coef',\n",
        "        'tqwt_kurtosisValue_dec_14', 'b3', 'tqwt_kurtosisValue_dec_31', 'det_entropy_shannon_4_coef', 'tqwt_medianValue_dec_25',\n",
        "        'app_LT_entropy_log_4_coef', 'tqwt_kurtosisValue_dec_33', 'tqwt_kurtosisValue_dec_7', 'det_LT_TKEO_mean_10_coef', 'tqwt_meanValue_dec_26',\n",
        "        'tqwt_skewnessValue_dec_7', 'tqwt_TKEO_std_dec_32', 'tqwt_entropy_shannon_dec_30', 'tqwt_meanValue_dec_35', 'tqwt_TKEO_mean_dec_22',\n",
        "        'tqwt_meanValue_dec_14', 'tqwt_TKEO_mean_dec_8', 'GNE_std', 'tqwt_medianValue_dec_34', 'GQ_std_cycle_closed', 'tqwt_skewnessValue_dec_25',\n",
        "        'tqwt_TKEO_std_dec_3', 'ddaShimmer', 'tqwt_skewnessValue_dec_14', 'det_LT_TKEO_std_4_coef', 'tqwt_meanValue_dec_10', 'tqwt_TKEO_std_dec_19',\n",
        "        'tqwt_entropy_log_dec_25', 'tqwt_kurtosisValue_dec_13', 'tqwt_medianValue_dec_15', 'app_LT_TKEO_mean_9_coef', 'tqwt_skewnessValue_dec_2',\n",
        "        'tqwt_medianValue_dec_3', 'mean_8th_delta', 'tqwt_medianValue_dec_1', 'tqwt_kurtosisValue_dec_18', 'tqwt_TKEO_mean_dec_34',\n",
        "        'tqwt_stdValue_dec_31', 'tqwt_kurtosisValue_dec_10', 'tqwt_TKEO_mean_dec_28', 'locDbShimmer', 'mean_3rd_delta',\n",
        "        'app_LT_entropy_shannon_8_coef', 'tqwt_skewnessValue_dec_32', 'tqwt_meanValue_dec_15', 'tqwt_meanValue_dec_8', 'det_LT_TKEO_std_10_coef',\n",
        "        'tqwt_skewnessValue_dec_35', 'stdDevPeriodPulses', 'tqwt_meanValue_dec_9', 'tqwt_meanValue_dec_33', 'tqwt_meanValue_dec_34',\n",
        "        'tqwt_TKEO_std_dec_22', 'tqwt_TKEO_mean_dec_11', 'tqwt_kurtosisValue_dec_19', 'tqwt_skewnessValue_dec_24', 'tqwt_medianValue_dec_24',\n",
        "        'tqwt_skewnessValue_dec_26', 'tqwt_entropy_shannon_dec_22', 'tqwt_TKEO_mean_dec_21', 'mean_8th_delta_delta', 'tqwt_medianValue_dec_4',\n",
        "        'app_LT_entropy_shannon_6_coef', 'tqwt_maxValue_dec_8', 'tqwt_skewnessValue_dec_28', 'std_delta_log_energy', 'tqwt_maxValue_dec_28',\n",
        "        'tqwt_TKEO_std_dec_36', 'tqwt_meanValue_dec_17', 'tqwt_entropy_shannon_dec_25', 'GNE_mean', 'tqwt_stdValue_dec_2',\n",
        "        'tqwt_medianValue_dec_17', 'locShimmer', 'IMF_SNR_TKEO', 'tqwt_TKEO_std_dec_33', 'tqwt_entropy_log_dec_23', 'tqwt_skewnessValue_dec_18',\n",
        "        'tqwt_medianValue_dec_18', 'det_LT_entropy_shannon_5_coef', 'tqwt_TKEO_mean_dec_24', 'tqwt_maxValue_dec_36', 'tqwt_TKEO_std_dec_4',\n",
        "        'tqwt_TKEO_std_dec_2', 'tqwt_medianValue_dec_20', 'tqwt_maxValue_dec_29', 'tqwt_medianValue_dec_9', 'VFER_SNR_TKEO',\n",
        "        'tqwt_entropy_log_dec_36', 'app_TKEO_std_4_coef', 'tqwt_skewnessValue_dec_11', 'tqwt_stdValue_dec_33', 'det_TKEO_mean_4_coef',\n",
        "        'tqwt_skewnessValue_dec_29', 'VFER_SNR_SEO', 'tqwt_TKEO_mean_dec_3', 'tqwt_meanValue_dec_2', 'tqwt_minValue_dec_27', 'tqwt_skewnessValue_dec_23',\n",
        "        'tqwt_TKEO_mean_dec_25', 'tqwt_medianValue_dec_13', 'tqwt_kurtosisValue_dec_15', 'tqwt_meanValue_dec_13', 'tqwt_meanValue_dec_23',\n",
        "        'tqwt_meanValue_dec_21', 'tqwt_stdValue_dec_28', 'tqwt_minValue_dec_23', 'tqwt_TKEO_std_dec_5', 'det_LT_TKEO_std_2_coef', 'tqwt_meanValue_dec_7',\n",
        "        'tqwt_skewnessValue_dec_15', 'det_LT_entropy_shannon_7_coef', 'tqwt_minValue_dec_8', 'GQ_prc5_95', 'tqwt_stdValue_dec_23', 'tqwt_meanValue_dec_28',\n",
        "        'tqwt_kurtosisValue_dec_32', 'tqwt_kurtosisValue_dec_26', 'tqwt_minValue_dec_21', 'apq5Shimmer', 'app_LT_entropy_log_3_coef',\n",
        "        'det_LT_entropy_shannon_10_coef', 'app_LT_TKEO_mean_8_coef', 'tqwt_energy_dec_2', 'tqwt_energy_dec_6', 'tqwt_skewnessValue_dec_6',\n",
        "        'tqwt_skewnessValue_dec_3', 'det_TKEO_std_7_coef', 'mean_7th_delta_delta', 'mean_3rd_delta_delta', 'Ed2_6_coef', 'tqwt_medianValue_dec_6',\n",
        "        'det_entropy_shannon_10_coef', 'locAbsJitter', 'tqwt_TKEO_mean_dec_32', 'det_entropy_log_1_coef', 'app_LT_entropy_shannon_5_coef',\n",
        "        'tqwt_kurtosisValue_dec_20', 'tqwt_entropy_shannon_dec_24', 'tqwt_energy_dec_3', 'Ed_7_coef', 'tqwt_entropy_shannon_dec_1', 'tqwt_energy_dec_18',\n",
        "        'tqwt_kurtosisValue_dec_16', 'ppq5Jitter', 'apq3Shimmer', 'det_LT_TKEO_std_3_coef', 'mean_1st_delta', 'tqwt_kurtosisValue_dec_21',\n",
        "        'tqwt_medianValue_dec_23', 'mean_0th_delta', 'tqwt_kurtosisValue_dec_9', 'tqwt_medianValue_dec_27', 'tqwt_skewnessValue_dec_36',\n",
        "        'tqwt_TKEO_std_dec_24', 'tqwt_stdValue_dec_22', 'tqwt_entropy_shannon_dec_8', 'tqwt_medianValue_dec_33', 'tqwt_medianValue_dec_29',\n",
        "        'tqwt_energy_dec_31', 'tqwt_entropy_shannon_dec_27', 'std_6th_delta', 'det_entropy_shannon_7_coef', 'tqwt_TKEO_mean_dec_27',\n",
        "        'tqwt_medianValue_dec_16', 'GNE_NSR_TKEO', 'tqwt_energy_dec_20', 'tqwt_TKEO_mean_dec_23', 'tqwt_minValue_dec_9', 'tqwt_stdValue_dec_19',\n",
        "        'tqwt_TKEO_mean_dec_33', 'tqwt_skewnessValue_dec_4', 'mean_5th_delta', 'mean_2nd_delta', 'tqwt_entropy_shannon_dec_28', 'std_2nd_delta',\n",
        "        'tqwt_energy_dec_27', 'tqwt_TKEO_mean_dec_4', 'tqwt_medianValue_dec_7', 'tqwt_kurtosisValue_dec_24', 'Ed2_9_coef', 'tqwt_skewnessValue_dec_17',\n",
        "        'tqwt_meanValue_dec_3', 'tqwt_stdValue_dec_4', 'tqwt_medianValue_dec_21', 'mean_6th_delta_delta', 'tqwt_kurtosisValue_dec_25',\n",
        "        'tqwt_skewnessValue_dec_27', 'tqwt_medianValue_dec_31', 'tqwt_kurtosisValue_dec_35', 'tqwt_maxValue_dec_23', 'det_LT_entropy_shannon_3_coef',\n",
        "        'tqwt_meanValue_dec_27', 'mean_9th_delta', 'GNE_SNR_SEO', 'tqwt_energy_dec_34', 'tqwt_meanValue_dec_12', 'tqwt_medianValue_dec_14',\n",
        "        'tqwt_minValue_dec_19', 'app_LT_entropy_shannon_10_coef', 'tqwt_medianValue_dec_28', 'tqwt_kurtosisValue_dec_11', 'std_2nd_delta_delta',\n",
        "        'tqwt_TKEO_mean_dec_30']]"
      ],
      "metadata": {
        "id": "-vN3D7x-czG0"
      },
      "execution_count": 8,
      "outputs": []
    },
    {
      "cell_type": "code",
      "source": [
        "X.head()"
      ],
      "metadata": {
        "id": "bB4ssc-phmGO",
        "colab": {
          "base_uri": "https://localhost:8080/",
          "height": 253
        },
        "outputId": "f03d57a2-9699-4674-fb88-d5cf98e8e82b"
      },
      "execution_count": 9,
      "outputs": [
        {
          "output_type": "execute_result",
          "data": {
            "text/plain": [
              "   mean_MFCC_11th_coef  tqwt_TKEO_mean_dec_19  mean_12th_delta_delta  \\\n",
              "0            -0.006825               0.064414               0.000027   \n",
              "1             0.057552               0.068347              -0.000109   \n",
              "2             0.286980               0.035857              -0.000298   \n",
              "3            -0.754270               0.033062              -0.000080   \n",
              "4            -0.880070               0.033136               0.000035   \n",
              "\n",
              "   tqwt_entropy_shannon_dec_3  locPctJitter  tqwt_TKEO_mean_dec_1  \\\n",
              "0                    0.091515       0.00218          1.610000e-07   \n",
              "1                    0.122710       0.00195          3.050000e-07   \n",
              "2                    0.055977       0.00176          1.790000e-07   \n",
              "3                    2.709800       0.00419          2.580000e-06   \n",
              "4                    3.948500       0.00535          2.440000e-06   \n",
              "\n",
              "   IMF_SNR_entropy  app_LT_TKEO_std_9_coef  tqwt_energy_dec_8  \\\n",
              "0          23.2610               4188.2456           0.000376   \n",
              "1          21.8851               4148.9889           0.000276   \n",
              "2          41.7310               4127.0967           0.000352   \n",
              "3          35.8179               3910.7029           0.000132   \n",
              "4          31.5211               4297.4639           0.000136   \n",
              "\n",
              "   tqwt_TKEO_mean_dec_26  ...  GNE_SNR_SEO  tqwt_energy_dec_34  \\\n",
              "0               0.077560  ...  1200445.612            0.000002   \n",
              "1               0.043337  ...  1298455.445            0.000003   \n",
              "2               0.019365  ...  1272869.841            0.000006   \n",
              "3               0.432670  ...  1932289.206            0.000069   \n",
              "4               0.498140  ...  1861807.802            0.000041   \n",
              "\n",
              "   tqwt_meanValue_dec_12  tqwt_medianValue_dec_14  tqwt_minValue_dec_19  \\\n",
              "0          -2.630000e-21                 0.000560              -0.59600   \n",
              "1          -3.770000e-20                -0.000146              -0.47909   \n",
              "2           2.580000e-21                 0.000045              -0.43444   \n",
              "3          -3.160000e-20                 0.000644              -0.52657   \n",
              "4          -3.590000e-20                -0.000317              -0.45541   \n",
              "\n",
              "   app_LT_entropy_shannon_10_coef  tqwt_medianValue_dec_28  \\\n",
              "0                    -3601122.613                 0.056236   \n",
              "1                    -3563560.603                 0.004587   \n",
              "2                    -3539902.400                -0.004803   \n",
              "3                    -3271399.011                 0.000873   \n",
              "4                    -3367165.736                -0.000449   \n",
              "\n",
              "   tqwt_kurtosisValue_dec_11  std_2nd_delta_delta  tqwt_TKEO_mean_dec_30  \n",
              "0                     4.6068             0.066410               0.000044  \n",
              "1                    13.6965             0.077256               0.000081  \n",
              "2                     4.0864             0.068545               0.000072  \n",
              "3                   100.3649             0.030155               0.018764  \n",
              "4                    34.0835             0.030160               0.008679  \n",
              "\n",
              "[5 rows x 387 columns]"
            ],
            "text/html": [
              "\n",
              "  <div id=\"df-df22215b-e0f3-4023-aadd-5b6204030663\" class=\"colab-df-container\">\n",
              "    <div>\n",
              "<style scoped>\n",
              "    .dataframe tbody tr th:only-of-type {\n",
              "        vertical-align: middle;\n",
              "    }\n",
              "\n",
              "    .dataframe tbody tr th {\n",
              "        vertical-align: top;\n",
              "    }\n",
              "\n",
              "    .dataframe thead th {\n",
              "        text-align: right;\n",
              "    }\n",
              "</style>\n",
              "<table border=\"1\" class=\"dataframe\">\n",
              "  <thead>\n",
              "    <tr style=\"text-align: right;\">\n",
              "      <th></th>\n",
              "      <th>mean_MFCC_11th_coef</th>\n",
              "      <th>tqwt_TKEO_mean_dec_19</th>\n",
              "      <th>mean_12th_delta_delta</th>\n",
              "      <th>tqwt_entropy_shannon_dec_3</th>\n",
              "      <th>locPctJitter</th>\n",
              "      <th>tqwt_TKEO_mean_dec_1</th>\n",
              "      <th>IMF_SNR_entropy</th>\n",
              "      <th>app_LT_TKEO_std_9_coef</th>\n",
              "      <th>tqwt_energy_dec_8</th>\n",
              "      <th>tqwt_TKEO_mean_dec_26</th>\n",
              "      <th>...</th>\n",
              "      <th>GNE_SNR_SEO</th>\n",
              "      <th>tqwt_energy_dec_34</th>\n",
              "      <th>tqwt_meanValue_dec_12</th>\n",
              "      <th>tqwt_medianValue_dec_14</th>\n",
              "      <th>tqwt_minValue_dec_19</th>\n",
              "      <th>app_LT_entropy_shannon_10_coef</th>\n",
              "      <th>tqwt_medianValue_dec_28</th>\n",
              "      <th>tqwt_kurtosisValue_dec_11</th>\n",
              "      <th>std_2nd_delta_delta</th>\n",
              "      <th>tqwt_TKEO_mean_dec_30</th>\n",
              "    </tr>\n",
              "  </thead>\n",
              "  <tbody>\n",
              "    <tr>\n",
              "      <th>0</th>\n",
              "      <td>-0.006825</td>\n",
              "      <td>0.064414</td>\n",
              "      <td>0.000027</td>\n",
              "      <td>0.091515</td>\n",
              "      <td>0.00218</td>\n",
              "      <td>1.610000e-07</td>\n",
              "      <td>23.2610</td>\n",
              "      <td>4188.2456</td>\n",
              "      <td>0.000376</td>\n",
              "      <td>0.077560</td>\n",
              "      <td>...</td>\n",
              "      <td>1200445.612</td>\n",
              "      <td>0.000002</td>\n",
              "      <td>-2.630000e-21</td>\n",
              "      <td>0.000560</td>\n",
              "      <td>-0.59600</td>\n",
              "      <td>-3601122.613</td>\n",
              "      <td>0.056236</td>\n",
              "      <td>4.6068</td>\n",
              "      <td>0.066410</td>\n",
              "      <td>0.000044</td>\n",
              "    </tr>\n",
              "    <tr>\n",
              "      <th>1</th>\n",
              "      <td>0.057552</td>\n",
              "      <td>0.068347</td>\n",
              "      <td>-0.000109</td>\n",
              "      <td>0.122710</td>\n",
              "      <td>0.00195</td>\n",
              "      <td>3.050000e-07</td>\n",
              "      <td>21.8851</td>\n",
              "      <td>4148.9889</td>\n",
              "      <td>0.000276</td>\n",
              "      <td>0.043337</td>\n",
              "      <td>...</td>\n",
              "      <td>1298455.445</td>\n",
              "      <td>0.000003</td>\n",
              "      <td>-3.770000e-20</td>\n",
              "      <td>-0.000146</td>\n",
              "      <td>-0.47909</td>\n",
              "      <td>-3563560.603</td>\n",
              "      <td>0.004587</td>\n",
              "      <td>13.6965</td>\n",
              "      <td>0.077256</td>\n",
              "      <td>0.000081</td>\n",
              "    </tr>\n",
              "    <tr>\n",
              "      <th>2</th>\n",
              "      <td>0.286980</td>\n",
              "      <td>0.035857</td>\n",
              "      <td>-0.000298</td>\n",
              "      <td>0.055977</td>\n",
              "      <td>0.00176</td>\n",
              "      <td>1.790000e-07</td>\n",
              "      <td>41.7310</td>\n",
              "      <td>4127.0967</td>\n",
              "      <td>0.000352</td>\n",
              "      <td>0.019365</td>\n",
              "      <td>...</td>\n",
              "      <td>1272869.841</td>\n",
              "      <td>0.000006</td>\n",
              "      <td>2.580000e-21</td>\n",
              "      <td>0.000045</td>\n",
              "      <td>-0.43444</td>\n",
              "      <td>-3539902.400</td>\n",
              "      <td>-0.004803</td>\n",
              "      <td>4.0864</td>\n",
              "      <td>0.068545</td>\n",
              "      <td>0.000072</td>\n",
              "    </tr>\n",
              "    <tr>\n",
              "      <th>3</th>\n",
              "      <td>-0.754270</td>\n",
              "      <td>0.033062</td>\n",
              "      <td>-0.000080</td>\n",
              "      <td>2.709800</td>\n",
              "      <td>0.00419</td>\n",
              "      <td>2.580000e-06</td>\n",
              "      <td>35.8179</td>\n",
              "      <td>3910.7029</td>\n",
              "      <td>0.000132</td>\n",
              "      <td>0.432670</td>\n",
              "      <td>...</td>\n",
              "      <td>1932289.206</td>\n",
              "      <td>0.000069</td>\n",
              "      <td>-3.160000e-20</td>\n",
              "      <td>0.000644</td>\n",
              "      <td>-0.52657</td>\n",
              "      <td>-3271399.011</td>\n",
              "      <td>0.000873</td>\n",
              "      <td>100.3649</td>\n",
              "      <td>0.030155</td>\n",
              "      <td>0.018764</td>\n",
              "    </tr>\n",
              "    <tr>\n",
              "      <th>4</th>\n",
              "      <td>-0.880070</td>\n",
              "      <td>0.033136</td>\n",
              "      <td>0.000035</td>\n",
              "      <td>3.948500</td>\n",
              "      <td>0.00535</td>\n",
              "      <td>2.440000e-06</td>\n",
              "      <td>31.5211</td>\n",
              "      <td>4297.4639</td>\n",
              "      <td>0.000136</td>\n",
              "      <td>0.498140</td>\n",
              "      <td>...</td>\n",
              "      <td>1861807.802</td>\n",
              "      <td>0.000041</td>\n",
              "      <td>-3.590000e-20</td>\n",
              "      <td>-0.000317</td>\n",
              "      <td>-0.45541</td>\n",
              "      <td>-3367165.736</td>\n",
              "      <td>-0.000449</td>\n",
              "      <td>34.0835</td>\n",
              "      <td>0.030160</td>\n",
              "      <td>0.008679</td>\n",
              "    </tr>\n",
              "  </tbody>\n",
              "</table>\n",
              "<p>5 rows × 387 columns</p>\n",
              "</div>\n",
              "    <div class=\"colab-df-buttons\">\n",
              "\n",
              "  <div class=\"colab-df-container\">\n",
              "    <button class=\"colab-df-convert\" onclick=\"convertToInteractive('df-df22215b-e0f3-4023-aadd-5b6204030663')\"\n",
              "            title=\"Convert this dataframe to an interactive table.\"\n",
              "            style=\"display:none;\">\n",
              "\n",
              "  <svg xmlns=\"http://www.w3.org/2000/svg\" height=\"24px\" viewBox=\"0 -960 960 960\">\n",
              "    <path d=\"M120-120v-720h720v720H120Zm60-500h600v-160H180v160Zm220 220h160v-160H400v160Zm0 220h160v-160H400v160ZM180-400h160v-160H180v160Zm440 0h160v-160H620v160ZM180-180h160v-160H180v160Zm440 0h160v-160H620v160Z\"/>\n",
              "  </svg>\n",
              "    </button>\n",
              "\n",
              "  <style>\n",
              "    .colab-df-container {\n",
              "      display:flex;\n",
              "      gap: 12px;\n",
              "    }\n",
              "\n",
              "    .colab-df-convert {\n",
              "      background-color: #E8F0FE;\n",
              "      border: none;\n",
              "      border-radius: 50%;\n",
              "      cursor: pointer;\n",
              "      display: none;\n",
              "      fill: #1967D2;\n",
              "      height: 32px;\n",
              "      padding: 0 0 0 0;\n",
              "      width: 32px;\n",
              "    }\n",
              "\n",
              "    .colab-df-convert:hover {\n",
              "      background-color: #E2EBFA;\n",
              "      box-shadow: 0px 1px 2px rgba(60, 64, 67, 0.3), 0px 1px 3px 1px rgba(60, 64, 67, 0.15);\n",
              "      fill: #174EA6;\n",
              "    }\n",
              "\n",
              "    .colab-df-buttons div {\n",
              "      margin-bottom: 4px;\n",
              "    }\n",
              "\n",
              "    [theme=dark] .colab-df-convert {\n",
              "      background-color: #3B4455;\n",
              "      fill: #D2E3FC;\n",
              "    }\n",
              "\n",
              "    [theme=dark] .colab-df-convert:hover {\n",
              "      background-color: #434B5C;\n",
              "      box-shadow: 0px 1px 3px 1px rgba(0, 0, 0, 0.15);\n",
              "      filter: drop-shadow(0px 1px 2px rgba(0, 0, 0, 0.3));\n",
              "      fill: #FFFFFF;\n",
              "    }\n",
              "  </style>\n",
              "\n",
              "    <script>\n",
              "      const buttonEl =\n",
              "        document.querySelector('#df-df22215b-e0f3-4023-aadd-5b6204030663 button.colab-df-convert');\n",
              "      buttonEl.style.display =\n",
              "        google.colab.kernel.accessAllowed ? 'block' : 'none';\n",
              "\n",
              "      async function convertToInteractive(key) {\n",
              "        const element = document.querySelector('#df-df22215b-e0f3-4023-aadd-5b6204030663');\n",
              "        const dataTable =\n",
              "          await google.colab.kernel.invokeFunction('convertToInteractive',\n",
              "                                                    [key], {});\n",
              "        if (!dataTable) return;\n",
              "\n",
              "        const docLinkHtml = 'Like what you see? Visit the ' +\n",
              "          '<a target=\"_blank\" href=https://colab.research.google.com/notebooks/data_table.ipynb>data table notebook</a>'\n",
              "          + ' to learn more about interactive tables.';\n",
              "        element.innerHTML = '';\n",
              "        dataTable['output_type'] = 'display_data';\n",
              "        await google.colab.output.renderOutput(dataTable, element);\n",
              "        const docLink = document.createElement('div');\n",
              "        docLink.innerHTML = docLinkHtml;\n",
              "        element.appendChild(docLink);\n",
              "      }\n",
              "    </script>\n",
              "  </div>\n",
              "\n",
              "\n",
              "<div id=\"df-bbaf5442-651e-42fb-88fb-da98c37bf9df\">\n",
              "  <button class=\"colab-df-quickchart\" onclick=\"quickchart('df-bbaf5442-651e-42fb-88fb-da98c37bf9df')\"\n",
              "            title=\"Suggest charts\"\n",
              "            style=\"display:none;\">\n",
              "\n",
              "<svg xmlns=\"http://www.w3.org/2000/svg\" height=\"24px\"viewBox=\"0 0 24 24\"\n",
              "     width=\"24px\">\n",
              "    <g>\n",
              "        <path d=\"M19 3H5c-1.1 0-2 .9-2 2v14c0 1.1.9 2 2 2h14c1.1 0 2-.9 2-2V5c0-1.1-.9-2-2-2zM9 17H7v-7h2v7zm4 0h-2V7h2v10zm4 0h-2v-4h2v4z\"/>\n",
              "    </g>\n",
              "</svg>\n",
              "  </button>\n",
              "\n",
              "<style>\n",
              "  .colab-df-quickchart {\n",
              "      --bg-color: #E8F0FE;\n",
              "      --fill-color: #1967D2;\n",
              "      --hover-bg-color: #E2EBFA;\n",
              "      --hover-fill-color: #174EA6;\n",
              "      --disabled-fill-color: #AAA;\n",
              "      --disabled-bg-color: #DDD;\n",
              "  }\n",
              "\n",
              "  [theme=dark] .colab-df-quickchart {\n",
              "      --bg-color: #3B4455;\n",
              "      --fill-color: #D2E3FC;\n",
              "      --hover-bg-color: #434B5C;\n",
              "      --hover-fill-color: #FFFFFF;\n",
              "      --disabled-bg-color: #3B4455;\n",
              "      --disabled-fill-color: #666;\n",
              "  }\n",
              "\n",
              "  .colab-df-quickchart {\n",
              "    background-color: var(--bg-color);\n",
              "    border: none;\n",
              "    border-radius: 50%;\n",
              "    cursor: pointer;\n",
              "    display: none;\n",
              "    fill: var(--fill-color);\n",
              "    height: 32px;\n",
              "    padding: 0;\n",
              "    width: 32px;\n",
              "  }\n",
              "\n",
              "  .colab-df-quickchart:hover {\n",
              "    background-color: var(--hover-bg-color);\n",
              "    box-shadow: 0 1px 2px rgba(60, 64, 67, 0.3), 0 1px 3px 1px rgba(60, 64, 67, 0.15);\n",
              "    fill: var(--button-hover-fill-color);\n",
              "  }\n",
              "\n",
              "  .colab-df-quickchart-complete:disabled,\n",
              "  .colab-df-quickchart-complete:disabled:hover {\n",
              "    background-color: var(--disabled-bg-color);\n",
              "    fill: var(--disabled-fill-color);\n",
              "    box-shadow: none;\n",
              "  }\n",
              "\n",
              "  .colab-df-spinner {\n",
              "    border: 2px solid var(--fill-color);\n",
              "    border-color: transparent;\n",
              "    border-bottom-color: var(--fill-color);\n",
              "    animation:\n",
              "      spin 1s steps(1) infinite;\n",
              "  }\n",
              "\n",
              "  @keyframes spin {\n",
              "    0% {\n",
              "      border-color: transparent;\n",
              "      border-bottom-color: var(--fill-color);\n",
              "      border-left-color: var(--fill-color);\n",
              "    }\n",
              "    20% {\n",
              "      border-color: transparent;\n",
              "      border-left-color: var(--fill-color);\n",
              "      border-top-color: var(--fill-color);\n",
              "    }\n",
              "    30% {\n",
              "      border-color: transparent;\n",
              "      border-left-color: var(--fill-color);\n",
              "      border-top-color: var(--fill-color);\n",
              "      border-right-color: var(--fill-color);\n",
              "    }\n",
              "    40% {\n",
              "      border-color: transparent;\n",
              "      border-right-color: var(--fill-color);\n",
              "      border-top-color: var(--fill-color);\n",
              "    }\n",
              "    60% {\n",
              "      border-color: transparent;\n",
              "      border-right-color: var(--fill-color);\n",
              "    }\n",
              "    80% {\n",
              "      border-color: transparent;\n",
              "      border-right-color: var(--fill-color);\n",
              "      border-bottom-color: var(--fill-color);\n",
              "    }\n",
              "    90% {\n",
              "      border-color: transparent;\n",
              "      border-bottom-color: var(--fill-color);\n",
              "    }\n",
              "  }\n",
              "</style>\n",
              "\n",
              "  <script>\n",
              "    async function quickchart(key) {\n",
              "      const quickchartButtonEl =\n",
              "        document.querySelector('#' + key + ' button');\n",
              "      quickchartButtonEl.disabled = true;  // To prevent multiple clicks.\n",
              "      quickchartButtonEl.classList.add('colab-df-spinner');\n",
              "      try {\n",
              "        const charts = await google.colab.kernel.invokeFunction(\n",
              "            'suggestCharts', [key], {});\n",
              "      } catch (error) {\n",
              "        console.error('Error during call to suggestCharts:', error);\n",
              "      }\n",
              "      quickchartButtonEl.classList.remove('colab-df-spinner');\n",
              "      quickchartButtonEl.classList.add('colab-df-quickchart-complete');\n",
              "    }\n",
              "    (() => {\n",
              "      let quickchartButtonEl =\n",
              "        document.querySelector('#df-bbaf5442-651e-42fb-88fb-da98c37bf9df button');\n",
              "      quickchartButtonEl.style.display =\n",
              "        google.colab.kernel.accessAllowed ? 'block' : 'none';\n",
              "    })();\n",
              "  </script>\n",
              "</div>\n",
              "\n",
              "    </div>\n",
              "  </div>\n"
            ],
            "application/vnd.google.colaboratory.intrinsic+json": {
              "type": "dataframe",
              "variable_name": "X"
            }
          },
          "metadata": {},
          "execution_count": 9
        }
      ]
    },
    {
      "cell_type": "code",
      "source": [
        "X.shape"
      ],
      "metadata": {
        "id": "gLjPPvKzhodD",
        "colab": {
          "base_uri": "https://localhost:8080/"
        },
        "outputId": "f154556f-eb37-4f73-c0ae-8952ec3a7a42"
      },
      "execution_count": 10,
      "outputs": [
        {
          "output_type": "execute_result",
          "data": {
            "text/plain": [
              "(756, 387)"
            ]
          },
          "metadata": {},
          "execution_count": 10
        }
      ]
    },
    {
      "cell_type": "markdown",
      "source": [
        "## Handling target variable imbalance"
      ],
      "metadata": {
        "id": "jb2FSn35paq8"
      }
    },
    {
      "cell_type": "code",
      "source": [
        "from imblearn.over_sampling import SMOTE\n",
        "# Handle imbalanced class using SMOTE\n",
        "sm = SMOTE()\n",
        "X, y = sm.fit_resample(X, y)"
      ],
      "metadata": {
        "id": "HWI-xaNEpfA6"
      },
      "execution_count": 11,
      "outputs": []
    },
    {
      "cell_type": "markdown",
      "source": [
        "## Splitting dataset into test and train\n"
      ],
      "metadata": {
        "id": "T8cKXMfM6H8O"
      }
    },
    {
      "cell_type": "code",
      "source": [
        "X_train, X_test, y_train, y_test = train_test_split(X,y, test_size=0.2, random_state=44)"
      ],
      "metadata": {
        "id": "n3OVRj1Lc9Wt"
      },
      "execution_count": 12,
      "outputs": []
    },
    {
      "cell_type": "code",
      "source": [
        "X_train, X_val, y_train, y_val = train_test_split(X_train,y_train, test_size=0.2, random_state=44)"
      ],
      "metadata": {
        "id": "v7K6TnykhtVI"
      },
      "execution_count": 13,
      "outputs": []
    },
    {
      "cell_type": "markdown",
      "source": [
        "The train, validation and test data is split in 80-20 ratio for each as there are 756 records. Since the number of records is enough with 759 features to train the model we use the validation set to test the model performance after training a baseline model."
      ],
      "metadata": {
        "id": "4TaZ4TZYp7rv"
      }
    },
    {
      "cell_type": "code",
      "source": [
        "print(\"Training data: \", X_train.shape)\n",
        "print(\"Validation data: \", X_val.shape)\n",
        "print(\"Test data: \", X_test.shape)"
      ],
      "metadata": {
        "colab": {
          "base_uri": "https://localhost:8080/"
        },
        "id": "IyPB1SA_hwRS",
        "outputId": "8a37266a-517d-4cca-8574-7811d2164c58"
      },
      "execution_count": 14,
      "outputs": [
        {
          "output_type": "stream",
          "name": "stdout",
          "text": [
            "Training data:  (721, 387)\n",
            "Validation data:  (181, 387)\n",
            "Test data:  (226, 387)\n"
          ]
        }
      ]
    },
    {
      "cell_type": "markdown",
      "source": [
        "## Training and testing Random Forest Classifier"
      ],
      "metadata": {
        "id": "Tq0iho5u6MSS"
      }
    },
    {
      "cell_type": "code",
      "source": [
        "from sklearn.ensemble import RandomForestClassifier\n",
        "rfc = RandomForestClassifier()"
      ],
      "metadata": {
        "id": "6NW1ZpPFdBNp"
      },
      "execution_count": 15,
      "outputs": []
    },
    {
      "cell_type": "code",
      "source": [
        "rfc.fit(X_train, y_train)"
      ],
      "metadata": {
        "colab": {
          "base_uri": "https://localhost:8080/",
          "height": 80
        },
        "id": "xkzdxikYdyWO",
        "outputId": "a1641974-aeb7-44f5-b60c-afc0ea3fd06e"
      },
      "execution_count": 16,
      "outputs": [
        {
          "output_type": "execute_result",
          "data": {
            "text/plain": [
              "RandomForestClassifier()"
            ],
            "text/html": [
              "<style>#sk-container-id-1 {\n",
              "  /* Definition of color scheme common for light and dark mode */\n",
              "  --sklearn-color-text: black;\n",
              "  --sklearn-color-line: gray;\n",
              "  /* Definition of color scheme for unfitted estimators */\n",
              "  --sklearn-color-unfitted-level-0: #fff5e6;\n",
              "  --sklearn-color-unfitted-level-1: #f6e4d2;\n",
              "  --sklearn-color-unfitted-level-2: #ffe0b3;\n",
              "  --sklearn-color-unfitted-level-3: chocolate;\n",
              "  /* Definition of color scheme for fitted estimators */\n",
              "  --sklearn-color-fitted-level-0: #f0f8ff;\n",
              "  --sklearn-color-fitted-level-1: #d4ebff;\n",
              "  --sklearn-color-fitted-level-2: #b3dbfd;\n",
              "  --sklearn-color-fitted-level-3: cornflowerblue;\n",
              "\n",
              "  /* Specific color for light theme */\n",
              "  --sklearn-color-text-on-default-background: var(--sg-text-color, var(--theme-code-foreground, var(--jp-content-font-color1, black)));\n",
              "  --sklearn-color-background: var(--sg-background-color, var(--theme-background, var(--jp-layout-color0, white)));\n",
              "  --sklearn-color-border-box: var(--sg-text-color, var(--theme-code-foreground, var(--jp-content-font-color1, black)));\n",
              "  --sklearn-color-icon: #696969;\n",
              "\n",
              "  @media (prefers-color-scheme: dark) {\n",
              "    /* Redefinition of color scheme for dark theme */\n",
              "    --sklearn-color-text-on-default-background: var(--sg-text-color, var(--theme-code-foreground, var(--jp-content-font-color1, white)));\n",
              "    --sklearn-color-background: var(--sg-background-color, var(--theme-background, var(--jp-layout-color0, #111)));\n",
              "    --sklearn-color-border-box: var(--sg-text-color, var(--theme-code-foreground, var(--jp-content-font-color1, white)));\n",
              "    --sklearn-color-icon: #878787;\n",
              "  }\n",
              "}\n",
              "\n",
              "#sk-container-id-1 {\n",
              "  color: var(--sklearn-color-text);\n",
              "}\n",
              "\n",
              "#sk-container-id-1 pre {\n",
              "  padding: 0;\n",
              "}\n",
              "\n",
              "#sk-container-id-1 input.sk-hidden--visually {\n",
              "  border: 0;\n",
              "  clip: rect(1px 1px 1px 1px);\n",
              "  clip: rect(1px, 1px, 1px, 1px);\n",
              "  height: 1px;\n",
              "  margin: -1px;\n",
              "  overflow: hidden;\n",
              "  padding: 0;\n",
              "  position: absolute;\n",
              "  width: 1px;\n",
              "}\n",
              "\n",
              "#sk-container-id-1 div.sk-dashed-wrapped {\n",
              "  border: 1px dashed var(--sklearn-color-line);\n",
              "  margin: 0 0.4em 0.5em 0.4em;\n",
              "  box-sizing: border-box;\n",
              "  padding-bottom: 0.4em;\n",
              "  background-color: var(--sklearn-color-background);\n",
              "}\n",
              "\n",
              "#sk-container-id-1 div.sk-container {\n",
              "  /* jupyter's `normalize.less` sets `[hidden] { display: none; }`\n",
              "     but bootstrap.min.css set `[hidden] { display: none !important; }`\n",
              "     so we also need the `!important` here to be able to override the\n",
              "     default hidden behavior on the sphinx rendered scikit-learn.org.\n",
              "     See: https://github.com/scikit-learn/scikit-learn/issues/21755 */\n",
              "  display: inline-block !important;\n",
              "  position: relative;\n",
              "}\n",
              "\n",
              "#sk-container-id-1 div.sk-text-repr-fallback {\n",
              "  display: none;\n",
              "}\n",
              "\n",
              "div.sk-parallel-item,\n",
              "div.sk-serial,\n",
              "div.sk-item {\n",
              "  /* draw centered vertical line to link estimators */\n",
              "  background-image: linear-gradient(var(--sklearn-color-text-on-default-background), var(--sklearn-color-text-on-default-background));\n",
              "  background-size: 2px 100%;\n",
              "  background-repeat: no-repeat;\n",
              "  background-position: center center;\n",
              "}\n",
              "\n",
              "/* Parallel-specific style estimator block */\n",
              "\n",
              "#sk-container-id-1 div.sk-parallel-item::after {\n",
              "  content: \"\";\n",
              "  width: 100%;\n",
              "  border-bottom: 2px solid var(--sklearn-color-text-on-default-background);\n",
              "  flex-grow: 1;\n",
              "}\n",
              "\n",
              "#sk-container-id-1 div.sk-parallel {\n",
              "  display: flex;\n",
              "  align-items: stretch;\n",
              "  justify-content: center;\n",
              "  background-color: var(--sklearn-color-background);\n",
              "  position: relative;\n",
              "}\n",
              "\n",
              "#sk-container-id-1 div.sk-parallel-item {\n",
              "  display: flex;\n",
              "  flex-direction: column;\n",
              "}\n",
              "\n",
              "#sk-container-id-1 div.sk-parallel-item:first-child::after {\n",
              "  align-self: flex-end;\n",
              "  width: 50%;\n",
              "}\n",
              "\n",
              "#sk-container-id-1 div.sk-parallel-item:last-child::after {\n",
              "  align-self: flex-start;\n",
              "  width: 50%;\n",
              "}\n",
              "\n",
              "#sk-container-id-1 div.sk-parallel-item:only-child::after {\n",
              "  width: 0;\n",
              "}\n",
              "\n",
              "/* Serial-specific style estimator block */\n",
              "\n",
              "#sk-container-id-1 div.sk-serial {\n",
              "  display: flex;\n",
              "  flex-direction: column;\n",
              "  align-items: center;\n",
              "  background-color: var(--sklearn-color-background);\n",
              "  padding-right: 1em;\n",
              "  padding-left: 1em;\n",
              "}\n",
              "\n",
              "\n",
              "/* Toggleable style: style used for estimator/Pipeline/ColumnTransformer box that is\n",
              "clickable and can be expanded/collapsed.\n",
              "- Pipeline and ColumnTransformer use this feature and define the default style\n",
              "- Estimators will overwrite some part of the style using the `sk-estimator` class\n",
              "*/\n",
              "\n",
              "/* Pipeline and ColumnTransformer style (default) */\n",
              "\n",
              "#sk-container-id-1 div.sk-toggleable {\n",
              "  /* Default theme specific background. It is overwritten whether we have a\n",
              "  specific estimator or a Pipeline/ColumnTransformer */\n",
              "  background-color: var(--sklearn-color-background);\n",
              "}\n",
              "\n",
              "/* Toggleable label */\n",
              "#sk-container-id-1 label.sk-toggleable__label {\n",
              "  cursor: pointer;\n",
              "  display: block;\n",
              "  width: 100%;\n",
              "  margin-bottom: 0;\n",
              "  padding: 0.5em;\n",
              "  box-sizing: border-box;\n",
              "  text-align: center;\n",
              "}\n",
              "\n",
              "#sk-container-id-1 label.sk-toggleable__label-arrow:before {\n",
              "  /* Arrow on the left of the label */\n",
              "  content: \"▸\";\n",
              "  float: left;\n",
              "  margin-right: 0.25em;\n",
              "  color: var(--sklearn-color-icon);\n",
              "}\n",
              "\n",
              "#sk-container-id-1 label.sk-toggleable__label-arrow:hover:before {\n",
              "  color: var(--sklearn-color-text);\n",
              "}\n",
              "\n",
              "/* Toggleable content - dropdown */\n",
              "\n",
              "#sk-container-id-1 div.sk-toggleable__content {\n",
              "  max-height: 0;\n",
              "  max-width: 0;\n",
              "  overflow: hidden;\n",
              "  text-align: left;\n",
              "  /* unfitted */\n",
              "  background-color: var(--sklearn-color-unfitted-level-0);\n",
              "}\n",
              "\n",
              "#sk-container-id-1 div.sk-toggleable__content.fitted {\n",
              "  /* fitted */\n",
              "  background-color: var(--sklearn-color-fitted-level-0);\n",
              "}\n",
              "\n",
              "#sk-container-id-1 div.sk-toggleable__content pre {\n",
              "  margin: 0.2em;\n",
              "  border-radius: 0.25em;\n",
              "  color: var(--sklearn-color-text);\n",
              "  /* unfitted */\n",
              "  background-color: var(--sklearn-color-unfitted-level-0);\n",
              "}\n",
              "\n",
              "#sk-container-id-1 div.sk-toggleable__content.fitted pre {\n",
              "  /* unfitted */\n",
              "  background-color: var(--sklearn-color-fitted-level-0);\n",
              "}\n",
              "\n",
              "#sk-container-id-1 input.sk-toggleable__control:checked~div.sk-toggleable__content {\n",
              "  /* Expand drop-down */\n",
              "  max-height: 200px;\n",
              "  max-width: 100%;\n",
              "  overflow: auto;\n",
              "}\n",
              "\n",
              "#sk-container-id-1 input.sk-toggleable__control:checked~label.sk-toggleable__label-arrow:before {\n",
              "  content: \"▾\";\n",
              "}\n",
              "\n",
              "/* Pipeline/ColumnTransformer-specific style */\n",
              "\n",
              "#sk-container-id-1 div.sk-label input.sk-toggleable__control:checked~label.sk-toggleable__label {\n",
              "  color: var(--sklearn-color-text);\n",
              "  background-color: var(--sklearn-color-unfitted-level-2);\n",
              "}\n",
              "\n",
              "#sk-container-id-1 div.sk-label.fitted input.sk-toggleable__control:checked~label.sk-toggleable__label {\n",
              "  background-color: var(--sklearn-color-fitted-level-2);\n",
              "}\n",
              "\n",
              "/* Estimator-specific style */\n",
              "\n",
              "/* Colorize estimator box */\n",
              "#sk-container-id-1 div.sk-estimator input.sk-toggleable__control:checked~label.sk-toggleable__label {\n",
              "  /* unfitted */\n",
              "  background-color: var(--sklearn-color-unfitted-level-2);\n",
              "}\n",
              "\n",
              "#sk-container-id-1 div.sk-estimator.fitted input.sk-toggleable__control:checked~label.sk-toggleable__label {\n",
              "  /* fitted */\n",
              "  background-color: var(--sklearn-color-fitted-level-2);\n",
              "}\n",
              "\n",
              "#sk-container-id-1 div.sk-label label.sk-toggleable__label,\n",
              "#sk-container-id-1 div.sk-label label {\n",
              "  /* The background is the default theme color */\n",
              "  color: var(--sklearn-color-text-on-default-background);\n",
              "}\n",
              "\n",
              "/* On hover, darken the color of the background */\n",
              "#sk-container-id-1 div.sk-label:hover label.sk-toggleable__label {\n",
              "  color: var(--sklearn-color-text);\n",
              "  background-color: var(--sklearn-color-unfitted-level-2);\n",
              "}\n",
              "\n",
              "/* Label box, darken color on hover, fitted */\n",
              "#sk-container-id-1 div.sk-label.fitted:hover label.sk-toggleable__label.fitted {\n",
              "  color: var(--sklearn-color-text);\n",
              "  background-color: var(--sklearn-color-fitted-level-2);\n",
              "}\n",
              "\n",
              "/* Estimator label */\n",
              "\n",
              "#sk-container-id-1 div.sk-label label {\n",
              "  font-family: monospace;\n",
              "  font-weight: bold;\n",
              "  display: inline-block;\n",
              "  line-height: 1.2em;\n",
              "}\n",
              "\n",
              "#sk-container-id-1 div.sk-label-container {\n",
              "  text-align: center;\n",
              "}\n",
              "\n",
              "/* Estimator-specific */\n",
              "#sk-container-id-1 div.sk-estimator {\n",
              "  font-family: monospace;\n",
              "  border: 1px dotted var(--sklearn-color-border-box);\n",
              "  border-radius: 0.25em;\n",
              "  box-sizing: border-box;\n",
              "  margin-bottom: 0.5em;\n",
              "  /* unfitted */\n",
              "  background-color: var(--sklearn-color-unfitted-level-0);\n",
              "}\n",
              "\n",
              "#sk-container-id-1 div.sk-estimator.fitted {\n",
              "  /* fitted */\n",
              "  background-color: var(--sklearn-color-fitted-level-0);\n",
              "}\n",
              "\n",
              "/* on hover */\n",
              "#sk-container-id-1 div.sk-estimator:hover {\n",
              "  /* unfitted */\n",
              "  background-color: var(--sklearn-color-unfitted-level-2);\n",
              "}\n",
              "\n",
              "#sk-container-id-1 div.sk-estimator.fitted:hover {\n",
              "  /* fitted */\n",
              "  background-color: var(--sklearn-color-fitted-level-2);\n",
              "}\n",
              "\n",
              "/* Specification for estimator info (e.g. \"i\" and \"?\") */\n",
              "\n",
              "/* Common style for \"i\" and \"?\" */\n",
              "\n",
              ".sk-estimator-doc-link,\n",
              "a:link.sk-estimator-doc-link,\n",
              "a:visited.sk-estimator-doc-link {\n",
              "  float: right;\n",
              "  font-size: smaller;\n",
              "  line-height: 1em;\n",
              "  font-family: monospace;\n",
              "  background-color: var(--sklearn-color-background);\n",
              "  border-radius: 1em;\n",
              "  height: 1em;\n",
              "  width: 1em;\n",
              "  text-decoration: none !important;\n",
              "  margin-left: 1ex;\n",
              "  /* unfitted */\n",
              "  border: var(--sklearn-color-unfitted-level-1) 1pt solid;\n",
              "  color: var(--sklearn-color-unfitted-level-1);\n",
              "}\n",
              "\n",
              ".sk-estimator-doc-link.fitted,\n",
              "a:link.sk-estimator-doc-link.fitted,\n",
              "a:visited.sk-estimator-doc-link.fitted {\n",
              "  /* fitted */\n",
              "  border: var(--sklearn-color-fitted-level-1) 1pt solid;\n",
              "  color: var(--sklearn-color-fitted-level-1);\n",
              "}\n",
              "\n",
              "/* On hover */\n",
              "div.sk-estimator:hover .sk-estimator-doc-link:hover,\n",
              ".sk-estimator-doc-link:hover,\n",
              "div.sk-label-container:hover .sk-estimator-doc-link:hover,\n",
              ".sk-estimator-doc-link:hover {\n",
              "  /* unfitted */\n",
              "  background-color: var(--sklearn-color-unfitted-level-3);\n",
              "  color: var(--sklearn-color-background);\n",
              "  text-decoration: none;\n",
              "}\n",
              "\n",
              "div.sk-estimator.fitted:hover .sk-estimator-doc-link.fitted:hover,\n",
              ".sk-estimator-doc-link.fitted:hover,\n",
              "div.sk-label-container:hover .sk-estimator-doc-link.fitted:hover,\n",
              ".sk-estimator-doc-link.fitted:hover {\n",
              "  /* fitted */\n",
              "  background-color: var(--sklearn-color-fitted-level-3);\n",
              "  color: var(--sklearn-color-background);\n",
              "  text-decoration: none;\n",
              "}\n",
              "\n",
              "/* Span, style for the box shown on hovering the info icon */\n",
              ".sk-estimator-doc-link span {\n",
              "  display: none;\n",
              "  z-index: 9999;\n",
              "  position: relative;\n",
              "  font-weight: normal;\n",
              "  right: .2ex;\n",
              "  padding: .5ex;\n",
              "  margin: .5ex;\n",
              "  width: min-content;\n",
              "  min-width: 20ex;\n",
              "  max-width: 50ex;\n",
              "  color: var(--sklearn-color-text);\n",
              "  box-shadow: 2pt 2pt 4pt #999;\n",
              "  /* unfitted */\n",
              "  background: var(--sklearn-color-unfitted-level-0);\n",
              "  border: .5pt solid var(--sklearn-color-unfitted-level-3);\n",
              "}\n",
              "\n",
              ".sk-estimator-doc-link.fitted span {\n",
              "  /* fitted */\n",
              "  background: var(--sklearn-color-fitted-level-0);\n",
              "  border: var(--sklearn-color-fitted-level-3);\n",
              "}\n",
              "\n",
              ".sk-estimator-doc-link:hover span {\n",
              "  display: block;\n",
              "}\n",
              "\n",
              "/* \"?\"-specific style due to the `<a>` HTML tag */\n",
              "\n",
              "#sk-container-id-1 a.estimator_doc_link {\n",
              "  float: right;\n",
              "  font-size: 1rem;\n",
              "  line-height: 1em;\n",
              "  font-family: monospace;\n",
              "  background-color: var(--sklearn-color-background);\n",
              "  border-radius: 1rem;\n",
              "  height: 1rem;\n",
              "  width: 1rem;\n",
              "  text-decoration: none;\n",
              "  /* unfitted */\n",
              "  color: var(--sklearn-color-unfitted-level-1);\n",
              "  border: var(--sklearn-color-unfitted-level-1) 1pt solid;\n",
              "}\n",
              "\n",
              "#sk-container-id-1 a.estimator_doc_link.fitted {\n",
              "  /* fitted */\n",
              "  border: var(--sklearn-color-fitted-level-1) 1pt solid;\n",
              "  color: var(--sklearn-color-fitted-level-1);\n",
              "}\n",
              "\n",
              "/* On hover */\n",
              "#sk-container-id-1 a.estimator_doc_link:hover {\n",
              "  /* unfitted */\n",
              "  background-color: var(--sklearn-color-unfitted-level-3);\n",
              "  color: var(--sklearn-color-background);\n",
              "  text-decoration: none;\n",
              "}\n",
              "\n",
              "#sk-container-id-1 a.estimator_doc_link.fitted:hover {\n",
              "  /* fitted */\n",
              "  background-color: var(--sklearn-color-fitted-level-3);\n",
              "}\n",
              "</style><div id=\"sk-container-id-1\" class=\"sk-top-container\"><div class=\"sk-text-repr-fallback\"><pre>RandomForestClassifier()</pre><b>In a Jupyter environment, please rerun this cell to show the HTML representation or trust the notebook. <br />On GitHub, the HTML representation is unable to render, please try loading this page with nbviewer.org.</b></div><div class=\"sk-container\" hidden><div class=\"sk-item\"><div class=\"sk-estimator fitted sk-toggleable\"><input class=\"sk-toggleable__control sk-hidden--visually\" id=\"sk-estimator-id-1\" type=\"checkbox\" checked><label for=\"sk-estimator-id-1\" class=\"sk-toggleable__label fitted sk-toggleable__label-arrow fitted\">&nbsp;&nbsp;RandomForestClassifier<a class=\"sk-estimator-doc-link fitted\" rel=\"noreferrer\" target=\"_blank\" href=\"https://scikit-learn.org/1.5/modules/generated/sklearn.ensemble.RandomForestClassifier.html\">?<span>Documentation for RandomForestClassifier</span></a><span class=\"sk-estimator-doc-link fitted\">i<span>Fitted</span></span></label><div class=\"sk-toggleable__content fitted\"><pre>RandomForestClassifier()</pre></div> </div></div></div></div>"
            ]
          },
          "metadata": {},
          "execution_count": 16
        }
      ]
    },
    {
      "cell_type": "code",
      "source": [
        "train_pred = rfc.predict(X_train)"
      ],
      "metadata": {
        "id": "rPOMV-5ad0i9"
      },
      "execution_count": 17,
      "outputs": []
    },
    {
      "cell_type": "markdown",
      "source": [
        "Measuring baseline model accuracy and perfomance using Confusion Matrix"
      ],
      "metadata": {
        "id": "KMl60l2w6TxQ"
      }
    },
    {
      "cell_type": "code",
      "source": [
        "from sklearn.metrics import accuracy_score, f1_score, precision_recall_curve, roc_auc_score, roc_curve, recall_score, precision_score\n",
        "train_acc = accuracy_score(y_train, train_pred)\n",
        "train_precision = precision_score(y_train, train_pred)\n",
        "train_roc_auc_score = roc_auc_score(y_train, train_pred)\n",
        "train_recall = recall_score(y_train, train_pred)\n",
        "train_f1 = f1_score(y_train, train_pred)\n",
        "train_roc_curve = roc_curve(y_train, train_pred)"
      ],
      "metadata": {
        "id": "5LZp6gpPd3LD"
      },
      "execution_count": 18,
      "outputs": []
    },
    {
      "cell_type": "code",
      "source": [
        "print(f\"The training data accuracy is : {np.round(train_acc, 2)}\")\n",
        "print(f\"The training data precision is : {np.round(train_precision, 2)}\")\n",
        "print(f\"The training data recall is : {np.round(train_recall, 2)}\")\n",
        "print(f\"The training data f1-score is : {np.round(train_f1, 2)}\")\n",
        "print(f\"The training data ROC curve is : {np.round(train_roc_curve, 2)}\")\n",
        "print(f\"The training data ROC-AUC score is : {np.round(train_roc_auc_score, 2)}\")"
      ],
      "metadata": {
        "colab": {
          "base_uri": "https://localhost:8080/"
        },
        "id": "HpecJHyHd5sI",
        "outputId": "7c9adb65-8d4b-49fd-a721-3f8e3f01c2a2"
      },
      "execution_count": 19,
      "outputs": [
        {
          "output_type": "stream",
          "name": "stdout",
          "text": [
            "The training data accuracy is : 1.0\n",
            "The training data precision is : 1.0\n",
            "The training data recall is : 1.0\n",
            "The training data f1-score is : 1.0\n",
            "The training data ROC curve is : [[ 0.  0.  1.]\n",
            " [ 0.  1.  1.]\n",
            " [inf  1.  0.]]\n",
            "The training data ROC-AUC score is : 1.0\n"
          ]
        }
      ]
    },
    {
      "cell_type": "markdown",
      "source": [
        "*   The accuracy of the Random Forest Classifier baseline model is 1.0. However, since the classes are not balanced, accuracy can be a misleading measure. Hence, F1 score and and ROC-AUC score were calculated.\n",
        "\n",
        "*   The F1 score considers both precision and recall into account, and the F1 score of the SVC model (1.0) shows that the rate of false negatives is low.\n",
        "\n",
        "*   The ROC-AUC score on the other hand, evaluates the model performance for the binary classification model. The 1.0 ROC-AUC score means, the model is able to distinguish positive and negative instances 100% of the time which means the model is not making random predictions.\n"
      ],
      "metadata": {
        "id": "9396DAN-qBqL"
      }
    },
    {
      "cell_type": "code",
      "source": [
        "from sklearn.metrics import auc, RocCurveDisplay\n",
        "\n",
        "train_fpr, train_tpr, train_thresholds = roc_curve(y_train, train_pred)\n",
        "train_roc_auc = auc(train_fpr, train_tpr)\n",
        "\n",
        "plt.figure()\n",
        "plt.plot(train_fpr, train_tpr, color='darkorange', lw=2, label=f'ROC curve (area = {train_roc_auc_score:0.2f})')\n",
        "plt.plot([0, 1], [0, 1], color='navy', lw=2, linestyle='--')\n",
        "plt.xlim([0.0, 1.0])\n",
        "plt.ylim([0.0, 1.05])\n",
        "plt.xlabel('False Positive Rate')\n",
        "plt.ylabel('True Positive Rate')\n",
        "plt.title('Receiver Operating Characteristic (ROC) Curve')\n",
        "plt.legend(loc=\"lower right\")\n",
        "plt.show()"
      ],
      "metadata": {
        "colab": {
          "base_uri": "https://localhost:8080/",
          "height": 472
        },
        "id": "zLSEjTrAfopd",
        "outputId": "aa5e8b83-ec2c-408c-f2a6-ffeaefab3260"
      },
      "execution_count": 20,
      "outputs": [
        {
          "output_type": "display_data",
          "data": {
            "text/plain": [
              "<Figure size 640x480 with 1 Axes>"
            ],
            "image/png": "[encoded data removed]"
          },
          "metadata": {}
        }
      ]
    },
    {
      "cell_type": "code",
      "source": [
        "print(\"False Positive Rate: \", train_fpr)\n",
        "print(\"True Positive Rate: \", train_tpr)\n",
        "print(\"Thresholds: \", train_thresholds)\n",
        "print(\"AUC: \", train_roc_auc)"
      ],
      "metadata": {
        "colab": {
          "base_uri": "https://localhost:8080/"
        },
        "id": "QrCjuJqHqcAW",
        "outputId": "40cb6d36-db34-4906-cee7-b33ce79570fb"
      },
      "execution_count": 21,
      "outputs": [
        {
          "output_type": "stream",
          "name": "stdout",
          "text": [
            "False Positive Rate:  [0. 0. 1.]\n",
            "True Positive Rate:  [0. 1. 1.]\n",
            "Thresholds:  [inf  1.  0.]\n",
            "AUC:  1.0\n"
          ]
        }
      ]
    },
    {
      "cell_type": "markdown",
      "source": [
        "* The threshold value goes from infinity to 1 to 0 which means the no positives were predicted at first, then 1 suggests correct prediction but moving to 0 suggests all the instances were predicted positive.\n",
        "\n",
        "* The FPR value goes from 0 to 0 to 1 which suggests no false positives were predicted at first, the second value 1 suggests 0% of the negative samples were misclassified as positive and finally the 1 suggests all negatives were incorrectly classified as positives.\n",
        "\n",
        "* The TPR value goes from 0 to 1 to 1 which suggests no true positives were predicted at first, the second value 1 suggests 100% of the positive samples were classified correctly and finally the 1 suggests all positives were correctly classified as positives.\n",
        "\n"
      ],
      "metadata": {
        "id": "3-GYS_niqdTM"
      }
    },
    {
      "cell_type": "code",
      "source": [
        "from sklearn.metrics import confusion_matrix, ConfusionMatrixDisplay\n",
        "\n",
        "confusion_matrix_va_dt = confusion_matrix(y_train, train_pred)\n",
        "cm_val_dt = ConfusionMatrixDisplay(confusion_matrix_va_dt)\n",
        "\n",
        "cm_val_dt.plot()\n",
        "plt.show()"
      ],
      "metadata": {
        "colab": {
          "base_uri": "https://localhost:8080/",
          "height": 449
        },
        "id": "VAwT7fG8wUNE",
        "outputId": "0caa6e9a-677e-44de-85b7-a731599e732e"
      },
      "execution_count": 22,
      "outputs": [
        {
          "output_type": "display_data",
          "data": {
            "text/plain": [
              "<Figure size 640x480 with 2 Axes>"
            ],
            "image/png": "[encoded data removed]"
          },
          "metadata": {}
        }
      ]
    },
    {
      "cell_type": "markdown",
      "source": [
        "\n",
        "*   The confusion matrix gives us further understanding of best ROC-AUC score of 1.0. None of the negatives have been incorrectly classified as positive. This explains the Random Forest Classifier model trained, is ideal for making correct predictions PD and healthy people.\n",
        "\n",
        "*   However, we will further test it on larger dataset to test the model performance.\n",
        "\n"
      ],
      "metadata": {
        "id": "EMD2_ACNqYKP"
      }
    },
    {
      "cell_type": "markdown",
      "source": [
        "# Predicting validation data on feature selected data"
      ],
      "metadata": {
        "id": "NyLy4D3P6cG8"
      }
    },
    {
      "cell_type": "code",
      "source": [
        "val_preds = rfc.predict(X_val)"
      ],
      "metadata": {
        "id": "5HB6KopXxTqD"
      },
      "execution_count": 23,
      "outputs": []
    },
    {
      "cell_type": "code",
      "source": [
        "val_acc = accuracy_score(y_val, val_preds)\n",
        "val_precision = precision_score(y_val, val_preds)\n",
        "val_roc_auc_score = roc_auc_score(y_val, val_preds)\n",
        "val_recall = recall_score(y_val, val_preds)\n",
        "val_f1 = f1_score(y_val, val_preds)\n",
        "val_roc_curve = roc_curve(y_val, val_preds)"
      ],
      "metadata": {
        "id": "VEoQlQ4uxn5E"
      },
      "execution_count": 24,
      "outputs": []
    },
    {
      "cell_type": "code",
      "source": [
        "print(f\"The test data accuracy is : {np.round(val_acc, 2)}\")\n",
        "print(f\"The test data precision is : {np.round(val_precision, 2)}\")\n",
        "print(f\"The test data recall is : {np.round(val_recall, 2)}\")\n",
        "print(f\"The test data f1-score is : {np.round(val_f1, 2)}\")\n",
        "print(f\"The test data ROC curve is : {np.round(val_roc_curve, 2)}\")\n",
        "print(f\"The test data ROC-AUC score is : {np.round(val_roc_auc_score, 2)}\")"
      ],
      "metadata": {
        "colab": {
          "base_uri": "https://localhost:8080/"
        },
        "id": "BjwFBDwEm4kz",
        "outputId": "c7e31e67-c561-4dd4-d01c-8b9d1b2cf46b"
      },
      "execution_count": 25,
      "outputs": [
        {
          "output_type": "stream",
          "name": "stdout",
          "text": [
            "The test data accuracy is : 0.92\n",
            "The test data precision is : 0.96\n",
            "The test data recall is : 0.88\n",
            "The test data f1-score is : 0.92\n",
            "The test data ROC curve is : [[0.   0.03 1.  ]\n",
            " [0.   0.88 1.  ]\n",
            " [ inf 1.   0.  ]]\n",
            "The test data ROC-AUC score is : 0.92\n"
          ]
        }
      ]
    },
    {
      "cell_type": "markdown",
      "source": [
        "The testing data ROC-AUC score is lower 0.73 which shows the model is not able to differentiate in positive and negative well on new data."
      ],
      "metadata": {
        "id": "sfxPTEGLrh0V"
      }
    },
    {
      "cell_type": "code",
      "source": [
        "confusion_matrix_val_dt = confusion_matrix(y_val, val_preds)\n",
        "cm_val_dt = ConfusionMatrixDisplay(confusion_matrix_val_dt)\n",
        "\n",
        "cm_val_dt.plot()\n",
        "plt.show()"
      ],
      "metadata": {
        "colab": {
          "base_uri": "https://localhost:8080/",
          "height": 455
        },
        "id": "KcoEWlvTxx9Z",
        "outputId": "49f791dd-0b73-4ca8-cfae-619f23ac8f5c"
      },
      "execution_count": 26,
      "outputs": [
        {
          "output_type": "display_data",
          "data": {
            "text/plain": [
              "<Figure size 640x480 with 2 Axes>"
            ],
            "image/png": "[encoded data removed]"
          },
          "metadata": {}
        }
      ]
    },
    {
      "cell_type": "markdown",
      "source": [
        "Testing the trained model on the data suggests the model makes very good prediction to predict the PD patients, predicting 97% correctly, however, it misclassifies 50% of the healthy patients."
      ],
      "metadata": {
        "id": "azJj83zSrzJi"
      }
    },
    {
      "cell_type": "markdown",
      "source": [
        "## RFC with 'entropy' criterion"
      ],
      "metadata": {
        "id": "Z-RbFMYx30-Z"
      }
    },
    {
      "cell_type": "code",
      "source": [
        "rfc2 = RandomForestClassifier(criterion='entropy')\n",
        "rfc2.fit(X_train, y_train)"
      ],
      "metadata": {
        "colab": {
          "base_uri": "https://localhost:8080/",
          "height": 80
        },
        "id": "roi3dxpO2du7",
        "outputId": "bb569878-f3fb-4a85-f275-8243deea76bd"
      },
      "execution_count": 27,
      "outputs": [
        {
          "output_type": "execute_result",
          "data": {
            "text/plain": [
              "RandomForestClassifier(criterion='entropy')"
            ],
            "text/html": [
              "<style>#sk-container-id-2 {\n",
              "  /* Definition of color scheme common for light and dark mode */\n",
              "  --sklearn-color-text: black;\n",
              "  --sklearn-color-line: gray;\n",
              "  /* Definition of color scheme for unfitted estimators */\n",
              "  --sklearn-color-unfitted-level-0: #fff5e6;\n",
              "  --sklearn-color-unfitted-level-1: #f6e4d2;\n",
              "  --sklearn-color-unfitted-level-2: #ffe0b3;\n",
              "  --sklearn-color-unfitted-level-3: chocolate;\n",
              "  /* Definition of color scheme for fitted estimators */\n",
              "  --sklearn-color-fitted-level-0: #f0f8ff;\n",
              "  --sklearn-color-fitted-level-1: #d4ebff;\n",
              "  --sklearn-color-fitted-level-2: #b3dbfd;\n",
              "  --sklearn-color-fitted-level-3: cornflowerblue;\n",
              "\n",
              "  /* Specific color for light theme */\n",
              "  --sklearn-color-text-on-default-background: var(--sg-text-color, var(--theme-code-foreground, var(--jp-content-font-color1, black)));\n",
              "  --sklearn-color-background: var(--sg-background-color, var(--theme-background, var(--jp-layout-color0, white)));\n",
              "  --sklearn-color-border-box: var(--sg-text-color, var(--theme-code-foreground, var(--jp-content-font-color1, black)));\n",
              "  --sklearn-color-icon: #696969;\n",
              "\n",
              "  @media (prefers-color-scheme: dark) {\n",
              "    /* Redefinition of color scheme for dark theme */\n",
              "    --sklearn-color-text-on-default-background: var(--sg-text-color, var(--theme-code-foreground, var(--jp-content-font-color1, white)));\n",
              "    --sklearn-color-background: var(--sg-background-color, var(--theme-background, var(--jp-layout-color0, #111)));\n",
              "    --sklearn-color-border-box: var(--sg-text-color, var(--theme-code-foreground, var(--jp-content-font-color1, white)));\n",
              "    --sklearn-color-icon: #878787;\n",
              "  }\n",
              "}\n",
              "\n",
              "#sk-container-id-2 {\n",
              "  color: var(--sklearn-color-text);\n",
              "}\n",
              "\n",
              "#sk-container-id-2 pre {\n",
              "  padding: 0;\n",
              "}\n",
              "\n",
              "#sk-container-id-2 input.sk-hidden--visually {\n",
              "  border: 0;\n",
              "  clip: rect(1px 1px 1px 1px);\n",
              "  clip: rect(1px, 1px, 1px, 1px);\n",
              "  height: 1px;\n",
              "  margin: -1px;\n",
              "  overflow: hidden;\n",
              "  padding: 0;\n",
              "  position: absolute;\n",
              "  width: 1px;\n",
              "}\n",
              "\n",
              "#sk-container-id-2 div.sk-dashed-wrapped {\n",
              "  border: 1px dashed var(--sklearn-color-line);\n",
              "  margin: 0 0.4em 0.5em 0.4em;\n",
              "  box-sizing: border-box;\n",
              "  padding-bottom: 0.4em;\n",
              "  background-color: var(--sklearn-color-background);\n",
              "}\n",
              "\n",
              "#sk-container-id-2 div.sk-container {\n",
              "  /* jupyter's `normalize.less` sets `[hidden] { display: none; }`\n",
              "     but bootstrap.min.css set `[hidden] { display: none !important; }`\n",
              "     so we also need the `!important` here to be able to override the\n",
              "     default hidden behavior on the sphinx rendered scikit-learn.org.\n",
              "     See: https://github.com/scikit-learn/scikit-learn/issues/21755 */\n",
              "  display: inline-block !important;\n",
              "  position: relative;\n",
              "}\n",
              "\n",
              "#sk-container-id-2 div.sk-text-repr-fallback {\n",
              "  display: none;\n",
              "}\n",
              "\n",
              "div.sk-parallel-item,\n",
              "div.sk-serial,\n",
              "div.sk-item {\n",
              "  /* draw centered vertical line to link estimators */\n",
              "  background-image: linear-gradient(var(--sklearn-color-text-on-default-background), var(--sklearn-color-text-on-default-background));\n",
              "  background-size: 2px 100%;\n",
              "  background-repeat: no-repeat;\n",
              "  background-position: center center;\n",
              "}\n",
              "\n",
              "/* Parallel-specific style estimator block */\n",
              "\n",
              "#sk-container-id-2 div.sk-parallel-item::after {\n",
              "  content: \"\";\n",
              "  width: 100%;\n",
              "  border-bottom: 2px solid var(--sklearn-color-text-on-default-background);\n",
              "  flex-grow: 1;\n",
              "}\n",
              "\n",
              "#sk-container-id-2 div.sk-parallel {\n",
              "  display: flex;\n",
              "  align-items: stretch;\n",
              "  justify-content: center;\n",
              "  background-color: var(--sklearn-color-background);\n",
              "  position: relative;\n",
              "}\n",
              "\n",
              "#sk-container-id-2 div.sk-parallel-item {\n",
              "  display: flex;\n",
              "  flex-direction: column;\n",
              "}\n",
              "\n",
              "#sk-container-id-2 div.sk-parallel-item:first-child::after {\n",
              "  align-self: flex-end;\n",
              "  width: 50%;\n",
              "}\n",
              "\n",
              "#sk-container-id-2 div.sk-parallel-item:last-child::after {\n",
              "  align-self: flex-start;\n",
              "  width: 50%;\n",
              "}\n",
              "\n",
              "#sk-container-id-2 div.sk-parallel-item:only-child::after {\n",
              "  width: 0;\n",
              "}\n",
              "\n",
              "/* Serial-specific style estimator block */\n",
              "\n",
              "#sk-container-id-2 div.sk-serial {\n",
              "  display: flex;\n",
              "  flex-direction: column;\n",
              "  align-items: center;\n",
              "  background-color: var(--sklearn-color-background);\n",
              "  padding-right: 1em;\n",
              "  padding-left: 1em;\n",
              "}\n",
              "\n",
              "\n",
              "/* Toggleable style: style used for estimator/Pipeline/ColumnTransformer box that is\n",
              "clickable and can be expanded/collapsed.\n",
              "- Pipeline and ColumnTransformer use this feature and define the default style\n",
              "- Estimators will overwrite some part of the style using the `sk-estimator` class\n",
              "*/\n",
              "\n",
              "/* Pipeline and ColumnTransformer style (default) */\n",
              "\n",
              "#sk-container-id-2 div.sk-toggleable {\n",
              "  /* Default theme specific background. It is overwritten whether we have a\n",
              "  specific estimator or a Pipeline/ColumnTransformer */\n",
              "  background-color: var(--sklearn-color-background);\n",
              "}\n",
              "\n",
              "/* Toggleable label */\n",
              "#sk-container-id-2 label.sk-toggleable__label {\n",
              "  cursor: pointer;\n",
              "  display: block;\n",
              "  width: 100%;\n",
              "  margin-bottom: 0;\n",
              "  padding: 0.5em;\n",
              "  box-sizing: border-box;\n",
              "  text-align: center;\n",
              "}\n",
              "\n",
              "#sk-container-id-2 label.sk-toggleable__label-arrow:before {\n",
              "  /* Arrow on the left of the label */\n",
              "  content: \"▸\";\n",
              "  float: left;\n",
              "  margin-right: 0.25em;\n",
              "  color: var(--sklearn-color-icon);\n",
              "}\n",
              "\n",
              "#sk-container-id-2 label.sk-toggleable__label-arrow:hover:before {\n",
              "  color: var(--sklearn-color-text);\n",
              "}\n",
              "\n",
              "/* Toggleable content - dropdown */\n",
              "\n",
              "#sk-container-id-2 div.sk-toggleable__content {\n",
              "  max-height: 0;\n",
              "  max-width: 0;\n",
              "  overflow: hidden;\n",
              "  text-align: left;\n",
              "  /* unfitted */\n",
              "  background-color: var(--sklearn-color-unfitted-level-0);\n",
              "}\n",
              "\n",
              "#sk-container-id-2 div.sk-toggleable__content.fitted {\n",
              "  /* fitted */\n",
              "  background-color: var(--sklearn-color-fitted-level-0);\n",
              "}\n",
              "\n",
              "#sk-container-id-2 div.sk-toggleable__content pre {\n",
              "  margin: 0.2em;\n",
              "  border-radius: 0.25em;\n",
              "  color: var(--sklearn-color-text);\n",
              "  /* unfitted */\n",
              "  background-color: var(--sklearn-color-unfitted-level-0);\n",
              "}\n",
              "\n",
              "#sk-container-id-2 div.sk-toggleable__content.fitted pre {\n",
              "  /* unfitted */\n",
              "  background-color: var(--sklearn-color-fitted-level-0);\n",
              "}\n",
              "\n",
              "#sk-container-id-2 input.sk-toggleable__control:checked~div.sk-toggleable__content {\n",
              "  /* Expand drop-down */\n",
              "  max-height: 200px;\n",
              "  max-width: 100%;\n",
              "  overflow: auto;\n",
              "}\n",
              "\n",
              "#sk-container-id-2 input.sk-toggleable__control:checked~label.sk-toggleable__label-arrow:before {\n",
              "  content: \"▾\";\n",
              "}\n",
              "\n",
              "/* Pipeline/ColumnTransformer-specific style */\n",
              "\n",
              "#sk-container-id-2 div.sk-label input.sk-toggleable__control:checked~label.sk-toggleable__label {\n",
              "  color: var(--sklearn-color-text);\n",
              "  background-color: var(--sklearn-color-unfitted-level-2);\n",
              "}\n",
              "\n",
              "#sk-container-id-2 div.sk-label.fitted input.sk-toggleable__control:checked~label.sk-toggleable__label {\n",
              "  background-color: var(--sklearn-color-fitted-level-2);\n",
              "}\n",
              "\n",
              "/* Estimator-specific style */\n",
              "\n",
              "/* Colorize estimator box */\n",
              "#sk-container-id-2 div.sk-estimator input.sk-toggleable__control:checked~label.sk-toggleable__label {\n",
              "  /* unfitted */\n",
              "  background-color: var(--sklearn-color-unfitted-level-2);\n",
              "}\n",
              "\n",
              "#sk-container-id-2 div.sk-estimator.fitted input.sk-toggleable__control:checked~label.sk-toggleable__label {\n",
              "  /* fitted */\n",
              "  background-color: var(--sklearn-color-fitted-level-2);\n",
              "}\n",
              "\n",
              "#sk-container-id-2 div.sk-label label.sk-toggleable__label,\n",
              "#sk-container-id-2 div.sk-label label {\n",
              "  /* The background is the default theme color */\n",
              "  color: var(--sklearn-color-text-on-default-background);\n",
              "}\n",
              "\n",
              "/* On hover, darken the color of the background */\n",
              "#sk-container-id-2 div.sk-label:hover label.sk-toggleable__label {\n",
              "  color: var(--sklearn-color-text);\n",
              "  background-color: var(--sklearn-color-unfitted-level-2);\n",
              "}\n",
              "\n",
              "/* Label box, darken color on hover, fitted */\n",
              "#sk-container-id-2 div.sk-label.fitted:hover label.sk-toggleable__label.fitted {\n",
              "  color: var(--sklearn-color-text);\n",
              "  background-color: var(--sklearn-color-fitted-level-2);\n",
              "}\n",
              "\n",
              "/* Estimator label */\n",
              "\n",
              "#sk-container-id-2 div.sk-label label {\n",
              "  font-family: monospace;\n",
              "  font-weight: bold;\n",
              "  display: inline-block;\n",
              "  line-height: 1.2em;\n",
              "}\n",
              "\n",
              "#sk-container-id-2 div.sk-label-container {\n",
              "  text-align: center;\n",
              "}\n",
              "\n",
              "/* Estimator-specific */\n",
              "#sk-container-id-2 div.sk-estimator {\n",
              "  font-family: monospace;\n",
              "  border: 1px dotted var(--sklearn-color-border-box);\n",
              "  border-radius: 0.25em;\n",
              "  box-sizing: border-box;\n",
              "  margin-bottom: 0.5em;\n",
              "  /* unfitted */\n",
              "  background-color: var(--sklearn-color-unfitted-level-0);\n",
              "}\n",
              "\n",
              "#sk-container-id-2 div.sk-estimator.fitted {\n",
              "  /* fitted */\n",
              "  background-color: var(--sklearn-color-fitted-level-0);\n",
              "}\n",
              "\n",
              "/* on hover */\n",
              "#sk-container-id-2 div.sk-estimator:hover {\n",
              "  /* unfitted */\n",
              "  background-color: var(--sklearn-color-unfitted-level-2);\n",
              "}\n",
              "\n",
              "#sk-container-id-2 div.sk-estimator.fitted:hover {\n",
              "  /* fitted */\n",
              "  background-color: var(--sklearn-color-fitted-level-2);\n",
              "}\n",
              "\n",
              "/* Specification for estimator info (e.g. \"i\" and \"?\") */\n",
              "\n",
              "/* Common style for \"i\" and \"?\" */\n",
              "\n",
              ".sk-estimator-doc-link,\n",
              "a:link.sk-estimator-doc-link,\n",
              "a:visited.sk-estimator-doc-link {\n",
              "  float: right;\n",
              "  font-size: smaller;\n",
              "  line-height: 1em;\n",
              "  font-family: monospace;\n",
              "  background-color: var(--sklearn-color-background);\n",
              "  border-radius: 1em;\n",
              "  height: 1em;\n",
              "  width: 1em;\n",
              "  text-decoration: none !important;\n",
              "  margin-left: 1ex;\n",
              "  /* unfitted */\n",
              "  border: var(--sklearn-color-unfitted-level-1) 1pt solid;\n",
              "  color: var(--sklearn-color-unfitted-level-1);\n",
              "}\n",
              "\n",
              ".sk-estimator-doc-link.fitted,\n",
              "a:link.sk-estimator-doc-link.fitted,\n",
              "a:visited.sk-estimator-doc-link.fitted {\n",
              "  /* fitted */\n",
              "  border: var(--sklearn-color-fitted-level-1) 1pt solid;\n",
              "  color: var(--sklearn-color-fitted-level-1);\n",
              "}\n",
              "\n",
              "/* On hover */\n",
              "div.sk-estimator:hover .sk-estimator-doc-link:hover,\n",
              ".sk-estimator-doc-link:hover,\n",
              "div.sk-label-container:hover .sk-estimator-doc-link:hover,\n",
              ".sk-estimator-doc-link:hover {\n",
              "  /* unfitted */\n",
              "  background-color: var(--sklearn-color-unfitted-level-3);\n",
              "  color: var(--sklearn-color-background);\n",
              "  text-decoration: none;\n",
              "}\n",
              "\n",
              "div.sk-estimator.fitted:hover .sk-estimator-doc-link.fitted:hover,\n",
              ".sk-estimator-doc-link.fitted:hover,\n",
              "div.sk-label-container:hover .sk-estimator-doc-link.fitted:hover,\n",
              ".sk-estimator-doc-link.fitted:hover {\n",
              "  /* fitted */\n",
              "  background-color: var(--sklearn-color-fitted-level-3);\n",
              "  color: var(--sklearn-color-background);\n",
              "  text-decoration: none;\n",
              "}\n",
              "\n",
              "/* Span, style for the box shown on hovering the info icon */\n",
              ".sk-estimator-doc-link span {\n",
              "  display: none;\n",
              "  z-index: 9999;\n",
              "  position: relative;\n",
              "  font-weight: normal;\n",
              "  right: .2ex;\n",
              "  padding: .5ex;\n",
              "  margin: .5ex;\n",
              "  width: min-content;\n",
              "  min-width: 20ex;\n",
              "  max-width: 50ex;\n",
              "  color: var(--sklearn-color-text);\n",
              "  box-shadow: 2pt 2pt 4pt #999;\n",
              "  /* unfitted */\n",
              "  background: var(--sklearn-color-unfitted-level-0);\n",
              "  border: .5pt solid var(--sklearn-color-unfitted-level-3);\n",
              "}\n",
              "\n",
              ".sk-estimator-doc-link.fitted span {\n",
              "  /* fitted */\n",
              "  background: var(--sklearn-color-fitted-level-0);\n",
              "  border: var(--sklearn-color-fitted-level-3);\n",
              "}\n",
              "\n",
              ".sk-estimator-doc-link:hover span {\n",
              "  display: block;\n",
              "}\n",
              "\n",
              "/* \"?\"-specific style due to the `<a>` HTML tag */\n",
              "\n",
              "#sk-container-id-2 a.estimator_doc_link {\n",
              "  float: right;\n",
              "  font-size: 1rem;\n",
              "  line-height: 1em;\n",
              "  font-family: monospace;\n",
              "  background-color: var(--sklearn-color-background);\n",
              "  border-radius: 1rem;\n",
              "  height: 1rem;\n",
              "  width: 1rem;\n",
              "  text-decoration: none;\n",
              "  /* unfitted */\n",
              "  color: var(--sklearn-color-unfitted-level-1);\n",
              "  border: var(--sklearn-color-unfitted-level-1) 1pt solid;\n",
              "}\n",
              "\n",
              "#sk-container-id-2 a.estimator_doc_link.fitted {\n",
              "  /* fitted */\n",
              "  border: var(--sklearn-color-fitted-level-1) 1pt solid;\n",
              "  color: var(--sklearn-color-fitted-level-1);\n",
              "}\n",
              "\n",
              "/* On hover */\n",
              "#sk-container-id-2 a.estimator_doc_link:hover {\n",
              "  /* unfitted */\n",
              "  background-color: var(--sklearn-color-unfitted-level-3);\n",
              "  color: var(--sklearn-color-background);\n",
              "  text-decoration: none;\n",
              "}\n",
              "\n",
              "#sk-container-id-2 a.estimator_doc_link.fitted:hover {\n",
              "  /* fitted */\n",
              "  background-color: var(--sklearn-color-fitted-level-3);\n",
              "}\n",
              "</style><div id=\"sk-container-id-2\" class=\"sk-top-container\"><div class=\"sk-text-repr-fallback\"><pre>RandomForestClassifier(criterion=&#x27;entropy&#x27;)</pre><b>In a Jupyter environment, please rerun this cell to show the HTML representation or trust the notebook. <br />On GitHub, the HTML representation is unable to render, please try loading this page with nbviewer.org.</b></div><div class=\"sk-container\" hidden><div class=\"sk-item\"><div class=\"sk-estimator fitted sk-toggleable\"><input class=\"sk-toggleable__control sk-hidden--visually\" id=\"sk-estimator-id-2\" type=\"checkbox\" checked><label for=\"sk-estimator-id-2\" class=\"sk-toggleable__label fitted sk-toggleable__label-arrow fitted\">&nbsp;&nbsp;RandomForestClassifier<a class=\"sk-estimator-doc-link fitted\" rel=\"noreferrer\" target=\"_blank\" href=\"https://scikit-learn.org/1.5/modules/generated/sklearn.ensemble.RandomForestClassifier.html\">?<span>Documentation for RandomForestClassifier</span></a><span class=\"sk-estimator-doc-link fitted\">i<span>Fitted</span></span></label><div class=\"sk-toggleable__content fitted\"><pre>RandomForestClassifier(criterion=&#x27;entropy&#x27;)</pre></div> </div></div></div></div>"
            ]
          },
          "metadata": {},
          "execution_count": 27
        }
      ]
    },
    {
      "cell_type": "code",
      "source": [
        "train_preds2 = rfc2.predict(X_train)"
      ],
      "metadata": {
        "id": "_izFt_f4200y"
      },
      "execution_count": 28,
      "outputs": []
    },
    {
      "cell_type": "code",
      "source": [
        "train_acc2 = accuracy_score(y_train, train_preds2)\n",
        "train_precision2 = precision_score(y_train, train_preds2)\n",
        "train_roc_auc_score2 = roc_auc_score(y_train, train_preds2)\n",
        "train_recall2 = recall_score(y_train, train_preds2)\n",
        "train_f1_2 = f1_score(y_train, train_preds2)\n",
        "train_roc_curve2 = roc_curve(y_train, train_preds2)"
      ],
      "metadata": {
        "id": "HZxNSjxw2697"
      },
      "execution_count": 29,
      "outputs": []
    },
    {
      "cell_type": "code",
      "source": [
        "print(f\"The training data accuracy is : {np.round(train_acc2, 2)}\")\n",
        "print(f\"The training data precision is : {np.round(train_precision2, 2)}\")\n",
        "print(f\"The training data recall is : {np.round(train_recall2, 2)}\")\n",
        "print(f\"The training data f1-score is : {np.round(train_f1_2, 2)}\")\n",
        "print(f\"The training data ROC curve is : {np.round(train_roc_curve2, 2)}\")\n",
        "print(f\"The training data ROC-AUC score is : {np.round(train_roc_auc_score2, 2)}\")"
      ],
      "metadata": {
        "colab": {
          "base_uri": "https://localhost:8080/"
        },
        "id": "xPKD5JuF3ELB",
        "outputId": "0463a998-6205-46a0-a7e4-b8dc8efc544d"
      },
      "execution_count": 30,
      "outputs": [
        {
          "output_type": "stream",
          "name": "stdout",
          "text": [
            "The training data accuracy is : 1.0\n",
            "The training data precision is : 1.0\n",
            "The training data recall is : 1.0\n",
            "The training data f1-score is : 1.0\n",
            "The training data ROC curve is : [[ 0.  0.  1.]\n",
            " [ 0.  1.  1.]\n",
            " [inf  1.  0.]]\n",
            "The training data ROC-AUC score is : 1.0\n"
          ]
        }
      ]
    },
    {
      "cell_type": "code",
      "source": [
        "from sklearn.metrics import confusion_matrix, ConfusionMatrixDisplay\n",
        "\n",
        "confusion_matrix_train_dt2 = confusion_matrix(y_train, train_preds2)\n",
        "cm_train_dt2 = ConfusionMatrixDisplay(confusion_matrix_train_dt2)\n",
        "\n",
        "cm_train_dt2.plot()\n",
        "plt.show()"
      ],
      "metadata": {
        "colab": {
          "base_uri": "https://localhost:8080/",
          "height": 449
        },
        "id": "5M5EGDfu3K7g",
        "outputId": "c6154dcb-8f82-4f7b-ae30-0eb90beca20d"
      },
      "execution_count": 31,
      "outputs": [
        {
          "output_type": "display_data",
          "data": {
            "text/plain": [
              "<Figure size 640x480 with 2 Axes>"
            ],
            "image/png": "[encoded data removed]"
          },
          "metadata": {}
        }
      ]
    },
    {
      "cell_type": "code",
      "source": [
        "val_preds2 = rfc2.predict(X_val)"
      ],
      "metadata": {
        "id": "9Ss82ZPH3ZNP"
      },
      "execution_count": 32,
      "outputs": []
    },
    {
      "cell_type": "code",
      "source": [
        "val_acc2 = accuracy_score(y_val, val_preds2)\n",
        "val_precision2 = precision_score(y_val, val_preds2)\n",
        "val_roc_auc_score2 = roc_auc_score(y_val, val_preds2)\n",
        "val_recall2 = recall_score(y_val, val_preds2)\n",
        "val_f1_2 = f1_score(y_val, val_preds2)\n",
        "val_roc_curve2 = roc_curve(y_val, val_preds2)"
      ],
      "metadata": {
        "id": "IKb_9D4E3fPH"
      },
      "execution_count": 33,
      "outputs": []
    },
    {
      "cell_type": "code",
      "source": [
        "print(f\"The test data accuracy is : {np.round(val_acc2, 2)}\")\n",
        "print(f\"The test data precision is : {np.round(val_precision2, 2)}\")\n",
        "print(f\"The test data recall is : {np.round(val_recall2, 2)}\")\n",
        "print(f\"The test data f1-score is : {np.round(val_f1_2, 2)}\")\n",
        "print(f\"The test data ROC curve is : {np.round(val_roc_curve2, 2)}\")\n",
        "print(f\"The test data ROC-AUC score is : {np.round(val_roc_auc_score2, 2)}\")"
      ],
      "metadata": {
        "colab": {
          "base_uri": "https://localhost:8080/"
        },
        "id": "zwfd2V5w3rBV",
        "outputId": "15ea4ea1-b36b-4188-85f0-51aa49e708f6"
      },
      "execution_count": 34,
      "outputs": [
        {
          "output_type": "stream",
          "name": "stdout",
          "text": [
            "The test data accuracy is : 0.93\n",
            "The test data precision is : 0.95\n",
            "The test data recall is : 0.91\n",
            "The test data f1-score is : 0.93\n",
            "The test data ROC curve is : [[0.   0.04 1.  ]\n",
            " [0.   0.91 1.  ]\n",
            " [ inf 1.   0.  ]]\n",
            "The test data ROC-AUC score is : 0.93\n"
          ]
        }
      ]
    },
    {
      "cell_type": "markdown",
      "source": [
        "* The threshold value goes from infinity to 1 to 0 which means the no positives were predicted at first, then 1 suggests correct prediction but moving to 0 suggests all the instances were predicted positive.\n",
        "\n",
        "* The FPR value goes from 0 to 0.55 to 1 which suggests no false positives were predicted at first, the second value 1 suggests 55% of the negative samples were misclassified as positive and finally the 1 suggests all negatives were incorrectly classified as positives.\n",
        "\n",
        "* The TPR value goes from 0 to 0.97 to 1 which suggests no true positives were predicted at first, the second value 1 suggests 97% of the positive samples were classified correctly and finally the 1 suggests all positives were correctly classified as positives.\n",
        "\n"
      ],
      "metadata": {
        "id": "hnjEFq0OnZOq"
      }
    },
    {
      "cell_type": "code",
      "source": [
        "confusion_matrix_val_dt2 = confusion_matrix(y_val, val_preds2)\n",
        "cm_val_dt2 = ConfusionMatrixDisplay(confusion_matrix_val_dt2)\n",
        "\n",
        "cm_val_dt2.plot()\n",
        "plt.show()"
      ],
      "metadata": {
        "colab": {
          "base_uri": "https://localhost:8080/",
          "height": 449
        },
        "id": "TDfbV1Ou3wFq",
        "outputId": "0c31094d-e4ef-4e97-ce01-3785c9921f16"
      },
      "execution_count": 35,
      "outputs": [
        {
          "output_type": "display_data",
          "data": {
            "text/plain": [
              "<Figure size 640x480 with 2 Axes>"
            ],
            "image/png": "[encoded data removed]"
          },
          "metadata": {}
        }
      ]
    },
    {
      "cell_type": "markdown",
      "source": [
        "Testing the trained model on the data suggests the model makes very good prediction to predict the PD patients, predicting 97% correctly, however, it misclassifies more than 50% of the healthy patients."
      ],
      "metadata": {
        "id": "pQ1Uh0nXoA4x"
      }
    },
    {
      "cell_type": "markdown",
      "source": [
        "## Updating the class_weight to balance the imbalanced data with 'entropy'"
      ],
      "metadata": {
        "id": "i3grGUtr36Cw"
      }
    },
    {
      "cell_type": "code",
      "source": [
        "rfc3 = RandomForestClassifier(criterion='entropy', class_weight='balanced')\n",
        "rfc3.fit(X_train, y_train)"
      ],
      "metadata": {
        "colab": {
          "base_uri": "https://localhost:8080/",
          "height": 80
        },
        "id": "xsgmf4uL6KRH",
        "outputId": "142ee1e8-a0a3-400d-fc56-c70373d5726d"
      },
      "execution_count": 36,
      "outputs": [
        {
          "output_type": "execute_result",
          "data": {
            "text/plain": [
              "RandomForestClassifier(class_weight='balanced', criterion='entropy')"
            ],
            "text/html": [
              "<style>#sk-container-id-3 {\n",
              "  /* Definition of color scheme common for light and dark mode */\n",
              "  --sklearn-color-text: black;\n",
              "  --sklearn-color-line: gray;\n",
              "  /* Definition of color scheme for unfitted estimators */\n",
              "  --sklearn-color-unfitted-level-0: #fff5e6;\n",
              "  --sklearn-color-unfitted-level-1: #f6e4d2;\n",
              "  --sklearn-color-unfitted-level-2: #ffe0b3;\n",
              "  --sklearn-color-unfitted-level-3: chocolate;\n",
              "  /* Definition of color scheme for fitted estimators */\n",
              "  --sklearn-color-fitted-level-0: #f0f8ff;\n",
              "  --sklearn-color-fitted-level-1: #d4ebff;\n",
              "  --sklearn-color-fitted-level-2: #b3dbfd;\n",
              "  --sklearn-color-fitted-level-3: cornflowerblue;\n",
              "\n",
              "  /* Specific color for light theme */\n",
              "  --sklearn-color-text-on-default-background: var(--sg-text-color, var(--theme-code-foreground, var(--jp-content-font-color1, black)));\n",
              "  --sklearn-color-background: var(--sg-background-color, var(--theme-background, var(--jp-layout-color0, white)));\n",
              "  --sklearn-color-border-box: var(--sg-text-color, var(--theme-code-foreground, var(--jp-content-font-color1, black)));\n",
              "  --sklearn-color-icon: #696969;\n",
              "\n",
              "  @media (prefers-color-scheme: dark) {\n",
              "    /* Redefinition of color scheme for dark theme */\n",
              "    --sklearn-color-text-on-default-background: var(--sg-text-color, var(--theme-code-foreground, var(--jp-content-font-color1, white)));\n",
              "    --sklearn-color-background: var(--sg-background-color, var(--theme-background, var(--jp-layout-color0, #111)));\n",
              "    --sklearn-color-border-box: var(--sg-text-color, var(--theme-code-foreground, var(--jp-content-font-color1, white)));\n",
              "    --sklearn-color-icon: #878787;\n",
              "  }\n",
              "}\n",
              "\n",
              "#sk-container-id-3 {\n",
              "  color: var(--sklearn-color-text);\n",
              "}\n",
              "\n",
              "#sk-container-id-3 pre {\n",
              "  padding: 0;\n",
              "}\n",
              "\n",
              "#sk-container-id-3 input.sk-hidden--visually {\n",
              "  border: 0;\n",
              "  clip: rect(1px 1px 1px 1px);\n",
              "  clip: rect(1px, 1px, 1px, 1px);\n",
              "  height: 1px;\n",
              "  margin: -1px;\n",
              "  overflow: hidden;\n",
              "  padding: 0;\n",
              "  position: absolute;\n",
              "  width: 1px;\n",
              "}\n",
              "\n",
              "#sk-container-id-3 div.sk-dashed-wrapped {\n",
              "  border: 1px dashed var(--sklearn-color-line);\n",
              "  margin: 0 0.4em 0.5em 0.4em;\n",
              "  box-sizing: border-box;\n",
              "  padding-bottom: 0.4em;\n",
              "  background-color: var(--sklearn-color-background);\n",
              "}\n",
              "\n",
              "#sk-container-id-3 div.sk-container {\n",
              "  /* jupyter's `normalize.less` sets `[hidden] { display: none; }`\n",
              "     but bootstrap.min.css set `[hidden] { display: none !important; }`\n",
              "     so we also need the `!important` here to be able to override the\n",
              "     default hidden behavior on the sphinx rendered scikit-learn.org.\n",
              "     See: https://github.com/scikit-learn/scikit-learn/issues/21755 */\n",
              "  display: inline-block !important;\n",
              "  position: relative;\n",
              "}\n",
              "\n",
              "#sk-container-id-3 div.sk-text-repr-fallback {\n",
              "  display: none;\n",
              "}\n",
              "\n",
              "div.sk-parallel-item,\n",
              "div.sk-serial,\n",
              "div.sk-item {\n",
              "  /* draw centered vertical line to link estimators */\n",
              "  background-image: linear-gradient(var(--sklearn-color-text-on-default-background), var(--sklearn-color-text-on-default-background));\n",
              "  background-size: 2px 100%;\n",
              "  background-repeat: no-repeat;\n",
              "  background-position: center center;\n",
              "}\n",
              "\n",
              "/* Parallel-specific style estimator block */\n",
              "\n",
              "#sk-container-id-3 div.sk-parallel-item::after {\n",
              "  content: \"\";\n",
              "  width: 100%;\n",
              "  border-bottom: 2px solid var(--sklearn-color-text-on-default-background);\n",
              "  flex-grow: 1;\n",
              "}\n",
              "\n",
              "#sk-container-id-3 div.sk-parallel {\n",
              "  display: flex;\n",
              "  align-items: stretch;\n",
              "  justify-content: center;\n",
              "  background-color: var(--sklearn-color-background);\n",
              "  position: relative;\n",
              "}\n",
              "\n",
              "#sk-container-id-3 div.sk-parallel-item {\n",
              "  display: flex;\n",
              "  flex-direction: column;\n",
              "}\n",
              "\n",
              "#sk-container-id-3 div.sk-parallel-item:first-child::after {\n",
              "  align-self: flex-end;\n",
              "  width: 50%;\n",
              "}\n",
              "\n",
              "#sk-container-id-3 div.sk-parallel-item:last-child::after {\n",
              "  align-self: flex-start;\n",
              "  width: 50%;\n",
              "}\n",
              "\n",
              "#sk-container-id-3 div.sk-parallel-item:only-child::after {\n",
              "  width: 0;\n",
              "}\n",
              "\n",
              "/* Serial-specific style estimator block */\n",
              "\n",
              "#sk-container-id-3 div.sk-serial {\n",
              "  display: flex;\n",
              "  flex-direction: column;\n",
              "  align-items: center;\n",
              "  background-color: var(--sklearn-color-background);\n",
              "  padding-right: 1em;\n",
              "  padding-left: 1em;\n",
              "}\n",
              "\n",
              "\n",
              "/* Toggleable style: style used for estimator/Pipeline/ColumnTransformer box that is\n",
              "clickable and can be expanded/collapsed.\n",
              "- Pipeline and ColumnTransformer use this feature and define the default style\n",
              "- Estimators will overwrite some part of the style using the `sk-estimator` class\n",
              "*/\n",
              "\n",
              "/* Pipeline and ColumnTransformer style (default) */\n",
              "\n",
              "#sk-container-id-3 div.sk-toggleable {\n",
              "  /* Default theme specific background. It is overwritten whether we have a\n",
              "  specific estimator or a Pipeline/ColumnTransformer */\n",
              "  background-color: var(--sklearn-color-background);\n",
              "}\n",
              "\n",
              "/* Toggleable label */\n",
              "#sk-container-id-3 label.sk-toggleable__label {\n",
              "  cursor: pointer;\n",
              "  display: block;\n",
              "  width: 100%;\n",
              "  margin-bottom: 0;\n",
              "  padding: 0.5em;\n",
              "  box-sizing: border-box;\n",
              "  text-align: center;\n",
              "}\n",
              "\n",
              "#sk-container-id-3 label.sk-toggleable__label-arrow:before {\n",
              "  /* Arrow on the left of the label */\n",
              "  content: \"▸\";\n",
              "  float: left;\n",
              "  margin-right: 0.25em;\n",
              "  color: var(--sklearn-color-icon);\n",
              "}\n",
              "\n",
              "#sk-container-id-3 label.sk-toggleable__label-arrow:hover:before {\n",
              "  color: var(--sklearn-color-text);\n",
              "}\n",
              "\n",
              "/* Toggleable content - dropdown */\n",
              "\n",
              "#sk-container-id-3 div.sk-toggleable__content {\n",
              "  max-height: 0;\n",
              "  max-width: 0;\n",
              "  overflow: hidden;\n",
              "  text-align: left;\n",
              "  /* unfitted */\n",
              "  background-color: var(--sklearn-color-unfitted-level-0);\n",
              "}\n",
              "\n",
              "#sk-container-id-3 div.sk-toggleable__content.fitted {\n",
              "  /* fitted */\n",
              "  background-color: var(--sklearn-color-fitted-level-0);\n",
              "}\n",
              "\n",
              "#sk-container-id-3 div.sk-toggleable__content pre {\n",
              "  margin: 0.2em;\n",
              "  border-radius: 0.25em;\n",
              "  color: var(--sklearn-color-text);\n",
              "  /* unfitted */\n",
              "  background-color: var(--sklearn-color-unfitted-level-0);\n",
              "}\n",
              "\n",
              "#sk-container-id-3 div.sk-toggleable__content.fitted pre {\n",
              "  /* unfitted */\n",
              "  background-color: var(--sklearn-color-fitted-level-0);\n",
              "}\n",
              "\n",
              "#sk-container-id-3 input.sk-toggleable__control:checked~div.sk-toggleable__content {\n",
              "  /* Expand drop-down */\n",
              "  max-height: 200px;\n",
              "  max-width: 100%;\n",
              "  overflow: auto;\n",
              "}\n",
              "\n",
              "#sk-container-id-3 input.sk-toggleable__control:checked~label.sk-toggleable__label-arrow:before {\n",
              "  content: \"▾\";\n",
              "}\n",
              "\n",
              "/* Pipeline/ColumnTransformer-specific style */\n",
              "\n",
              "#sk-container-id-3 div.sk-label input.sk-toggleable__control:checked~label.sk-toggleable__label {\n",
              "  color: var(--sklearn-color-text);\n",
              "  background-color: var(--sklearn-color-unfitted-level-2);\n",
              "}\n",
              "\n",
              "#sk-container-id-3 div.sk-label.fitted input.sk-toggleable__control:checked~label.sk-toggleable__label {\n",
              "  background-color: var(--sklearn-color-fitted-level-2);\n",
              "}\n",
              "\n",
              "/* Estimator-specific style */\n",
              "\n",
              "/* Colorize estimator box */\n",
              "#sk-container-id-3 div.sk-estimator input.sk-toggleable__control:checked~label.sk-toggleable__label {\n",
              "  /* unfitted */\n",
              "  background-color: var(--sklearn-color-unfitted-level-2);\n",
              "}\n",
              "\n",
              "#sk-container-id-3 div.sk-estimator.fitted input.sk-toggleable__control:checked~label.sk-toggleable__label {\n",
              "  /* fitted */\n",
              "  background-color: var(--sklearn-color-fitted-level-2);\n",
              "}\n",
              "\n",
              "#sk-container-id-3 div.sk-label label.sk-toggleable__label,\n",
              "#sk-container-id-3 div.sk-label label {\n",
              "  /* The background is the default theme color */\n",
              "  color: var(--sklearn-color-text-on-default-background);\n",
              "}\n",
              "\n",
              "/* On hover, darken the color of the background */\n",
              "#sk-container-id-3 div.sk-label:hover label.sk-toggleable__label {\n",
              "  color: var(--sklearn-color-text);\n",
              "  background-color: var(--sklearn-color-unfitted-level-2);\n",
              "}\n",
              "\n",
              "/* Label box, darken color on hover, fitted */\n",
              "#sk-container-id-3 div.sk-label.fitted:hover label.sk-toggleable__label.fitted {\n",
              "  color: var(--sklearn-color-text);\n",
              "  background-color: var(--sklearn-color-fitted-level-2);\n",
              "}\n",
              "\n",
              "/* Estimator label */\n",
              "\n",
              "#sk-container-id-3 div.sk-label label {\n",
              "  font-family: monospace;\n",
              "  font-weight: bold;\n",
              "  display: inline-block;\n",
              "  line-height: 1.2em;\n",
              "}\n",
              "\n",
              "#sk-container-id-3 div.sk-label-container {\n",
              "  text-align: center;\n",
              "}\n",
              "\n",
              "/* Estimator-specific */\n",
              "#sk-container-id-3 div.sk-estimator {\n",
              "  font-family: monospace;\n",
              "  border: 1px dotted var(--sklearn-color-border-box);\n",
              "  border-radius: 0.25em;\n",
              "  box-sizing: border-box;\n",
              "  margin-bottom: 0.5em;\n",
              "  /* unfitted */\n",
              "  background-color: var(--sklearn-color-unfitted-level-0);\n",
              "}\n",
              "\n",
              "#sk-container-id-3 div.sk-estimator.fitted {\n",
              "  /* fitted */\n",
              "  background-color: var(--sklearn-color-fitted-level-0);\n",
              "}\n",
              "\n",
              "/* on hover */\n",
              "#sk-container-id-3 div.sk-estimator:hover {\n",
              "  /* unfitted */\n",
              "  background-color: var(--sklearn-color-unfitted-level-2);\n",
              "}\n",
              "\n",
              "#sk-container-id-3 div.sk-estimator.fitted:hover {\n",
              "  /* fitted */\n",
              "  background-color: var(--sklearn-color-fitted-level-2);\n",
              "}\n",
              "\n",
              "/* Specification for estimator info (e.g. \"i\" and \"?\") */\n",
              "\n",
              "/* Common style for \"i\" and \"?\" */\n",
              "\n",
              ".sk-estimator-doc-link,\n",
              "a:link.sk-estimator-doc-link,\n",
              "a:visited.sk-estimator-doc-link {\n",
              "  float: right;\n",
              "  font-size: smaller;\n",
              "  line-height: 1em;\n",
              "  font-family: monospace;\n",
              "  background-color: var(--sklearn-color-background);\n",
              "  border-radius: 1em;\n",
              "  height: 1em;\n",
              "  width: 1em;\n",
              "  text-decoration: none !important;\n",
              "  margin-left: 1ex;\n",
              "  /* unfitted */\n",
              "  border: var(--sklearn-color-unfitted-level-1) 1pt solid;\n",
              "  color: var(--sklearn-color-unfitted-level-1);\n",
              "}\n",
              "\n",
              ".sk-estimator-doc-link.fitted,\n",
              "a:link.sk-estimator-doc-link.fitted,\n",
              "a:visited.sk-estimator-doc-link.fitted {\n",
              "  /* fitted */\n",
              "  border: var(--sklearn-color-fitted-level-1) 1pt solid;\n",
              "  color: var(--sklearn-color-fitted-level-1);\n",
              "}\n",
              "\n",
              "/* On hover */\n",
              "div.sk-estimator:hover .sk-estimator-doc-link:hover,\n",
              ".sk-estimator-doc-link:hover,\n",
              "div.sk-label-container:hover .sk-estimator-doc-link:hover,\n",
              ".sk-estimator-doc-link:hover {\n",
              "  /* unfitted */\n",
              "  background-color: var(--sklearn-color-unfitted-level-3);\n",
              "  color: var(--sklearn-color-background);\n",
              "  text-decoration: none;\n",
              "}\n",
              "\n",
              "div.sk-estimator.fitted:hover .sk-estimator-doc-link.fitted:hover,\n",
              ".sk-estimator-doc-link.fitted:hover,\n",
              "div.sk-label-container:hover .sk-estimator-doc-link.fitted:hover,\n",
              ".sk-estimator-doc-link.fitted:hover {\n",
              "  /* fitted */\n",
              "  background-color: var(--sklearn-color-fitted-level-3);\n",
              "  color: var(--sklearn-color-background);\n",
              "  text-decoration: none;\n",
              "}\n",
              "\n",
              "/* Span, style for the box shown on hovering the info icon */\n",
              ".sk-estimator-doc-link span {\n",
              "  display: none;\n",
              "  z-index: 9999;\n",
              "  position: relative;\n",
              "  font-weight: normal;\n",
              "  right: .2ex;\n",
              "  padding: .5ex;\n",
              "  margin: .5ex;\n",
              "  width: min-content;\n",
              "  min-width: 20ex;\n",
              "  max-width: 50ex;\n",
              "  color: var(--sklearn-color-text);\n",
              "  box-shadow: 2pt 2pt 4pt #999;\n",
              "  /* unfitted */\n",
              "  background: var(--sklearn-color-unfitted-level-0);\n",
              "  border: .5pt solid var(--sklearn-color-unfitted-level-3);\n",
              "}\n",
              "\n",
              ".sk-estimator-doc-link.fitted span {\n",
              "  /* fitted */\n",
              "  background: var(--sklearn-color-fitted-level-0);\n",
              "  border: var(--sklearn-color-fitted-level-3);\n",
              "}\n",
              "\n",
              ".sk-estimator-doc-link:hover span {\n",
              "  display: block;\n",
              "}\n",
              "\n",
              "/* \"?\"-specific style due to the `<a>` HTML tag */\n",
              "\n",
              "#sk-container-id-3 a.estimator_doc_link {\n",
              "  float: right;\n",
              "  font-size: 1rem;\n",
              "  line-height: 1em;\n",
              "  font-family: monospace;\n",
              "  background-color: var(--sklearn-color-background);\n",
              "  border-radius: 1rem;\n",
              "  height: 1rem;\n",
              "  width: 1rem;\n",
              "  text-decoration: none;\n",
              "  /* unfitted */\n",
              "  color: var(--sklearn-color-unfitted-level-1);\n",
              "  border: var(--sklearn-color-unfitted-level-1) 1pt solid;\n",
              "}\n",
              "\n",
              "#sk-container-id-3 a.estimator_doc_link.fitted {\n",
              "  /* fitted */\n",
              "  border: var(--sklearn-color-fitted-level-1) 1pt solid;\n",
              "  color: var(--sklearn-color-fitted-level-1);\n",
              "}\n",
              "\n",
              "/* On hover */\n",
              "#sk-container-id-3 a.estimator_doc_link:hover {\n",
              "  /* unfitted */\n",
              "  background-color: var(--sklearn-color-unfitted-level-3);\n",
              "  color: var(--sklearn-color-background);\n",
              "  text-decoration: none;\n",
              "}\n",
              "\n",
              "#sk-container-id-3 a.estimator_doc_link.fitted:hover {\n",
              "  /* fitted */\n",
              "  background-color: var(--sklearn-color-fitted-level-3);\n",
              "}\n",
              "</style><div id=\"sk-container-id-3\" class=\"sk-top-container\"><div class=\"sk-text-repr-fallback\"><pre>RandomForestClassifier(class_weight=&#x27;balanced&#x27;, criterion=&#x27;entropy&#x27;)</pre><b>In a Jupyter environment, please rerun this cell to show the HTML representation or trust the notebook. <br />On GitHub, the HTML representation is unable to render, please try loading this page with nbviewer.org.</b></div><div class=\"sk-container\" hidden><div class=\"sk-item\"><div class=\"sk-estimator fitted sk-toggleable\"><input class=\"sk-toggleable__control sk-hidden--visually\" id=\"sk-estimator-id-3\" type=\"checkbox\" checked><label for=\"sk-estimator-id-3\" class=\"sk-toggleable__label fitted sk-toggleable__label-arrow fitted\">&nbsp;&nbsp;RandomForestClassifier<a class=\"sk-estimator-doc-link fitted\" rel=\"noreferrer\" target=\"_blank\" href=\"https://scikit-learn.org/1.5/modules/generated/sklearn.ensemble.RandomForestClassifier.html\">?<span>Documentation for RandomForestClassifier</span></a><span class=\"sk-estimator-doc-link fitted\">i<span>Fitted</span></span></label><div class=\"sk-toggleable__content fitted\"><pre>RandomForestClassifier(class_weight=&#x27;balanced&#x27;, criterion=&#x27;entropy&#x27;)</pre></div> </div></div></div></div>"
            ]
          },
          "metadata": {},
          "execution_count": 36
        }
      ]
    },
    {
      "cell_type": "code",
      "source": [
        "train_preds3 = rfc3.predict(X_train)"
      ],
      "metadata": {
        "id": "j30rkl_e6jjQ"
      },
      "execution_count": 37,
      "outputs": []
    },
    {
      "cell_type": "code",
      "source": [
        "train_acc3 = accuracy_score(y_train, train_preds3)\n",
        "train_precision3 = precision_score(y_train, train_preds3)\n",
        "train_roc_auc_score3 = roc_auc_score(y_train, train_preds3)\n",
        "train_recall3 = recall_score(y_train, train_preds3)\n",
        "train_f1_3 = f1_score(y_train, train_preds3)\n",
        "train_roc_curve3 = roc_curve(y_train, train_preds3)"
      ],
      "metadata": {
        "id": "M7abJm1_6sqp"
      },
      "execution_count": 38,
      "outputs": []
    },
    {
      "cell_type": "code",
      "source": [
        "print(f\"The training data accuracy is : {np.round(train_acc3, 2)}\")\n",
        "print(f\"The training data precision is : {np.round(train_precision3, 2)}\")\n",
        "print(f\"The training data recall is : {np.round(train_recall3, 2)}\")\n",
        "print(f\"The training data f1-score is : {np.round(train_f1_3, 2)}\")\n",
        "print(f\"The training data ROC curve is : {np.round(train_roc_curve3, 2)}\")\n",
        "print(f\"The training data ROC-AUC score is : {np.round(train_roc_auc_score3, 2)}\")"
      ],
      "metadata": {
        "colab": {
          "base_uri": "https://localhost:8080/"
        },
        "id": "7KZsPW9463Gr",
        "outputId": "ea2a762f-0b27-495f-8150-cf3b9a7b4f4e"
      },
      "execution_count": 39,
      "outputs": [
        {
          "output_type": "stream",
          "name": "stdout",
          "text": [
            "The training data accuracy is : 1.0\n",
            "The training data precision is : 1.0\n",
            "The training data recall is : 1.0\n",
            "The training data f1-score is : 1.0\n",
            "The training data ROC curve is : [[ 0.  0.  1.]\n",
            " [ 0.  1.  1.]\n",
            " [inf  1.  0.]]\n",
            "The training data ROC-AUC score is : 1.0\n"
          ]
        }
      ]
    },
    {
      "cell_type": "code",
      "source": [
        "confusion_matrix_train_dt3 = confusion_matrix(y_train, train_preds3)\n",
        "cm_train_dt3 = ConfusionMatrixDisplay(confusion_matrix_train_dt3)\n",
        "\n",
        "cm_train_dt3.plot()\n",
        "plt.show()"
      ],
      "metadata": {
        "colab": {
          "base_uri": "https://localhost:8080/",
          "height": 449
        },
        "id": "o_DrZOXE69ig",
        "outputId": "39f97893-fc6c-460b-b058-6b8b5281ec0e"
      },
      "execution_count": 40,
      "outputs": [
        {
          "output_type": "display_data",
          "data": {
            "text/plain": [
              "<Figure size 640x480 with 2 Axes>"
            ],
            "image/png": "[encoded data removed]"
          },
          "metadata": {}
        }
      ]
    },
    {
      "cell_type": "code",
      "source": [
        "val_preds3 = rfc3.predict(X_val)"
      ],
      "metadata": {
        "id": "2vefssrD98Na"
      },
      "execution_count": 41,
      "outputs": []
    },
    {
      "cell_type": "code",
      "source": [
        "val_acc3 = accuracy_score(y_val, val_preds3)\n",
        "val_precision3 = precision_score(y_val, val_preds3)\n",
        "val_roc_auc_score3 = roc_auc_score(y_val, val_preds3)\n",
        "val_recall3 = recall_score(y_val, val_preds3)\n",
        "val_f1_3 = f1_score(y_val, val_preds3)\n",
        "val_roc_curve3 = roc_curve(y_val, val_preds3)"
      ],
      "metadata": {
        "id": "_AyNwyKj-GOk"
      },
      "execution_count": 42,
      "outputs": []
    },
    {
      "cell_type": "code",
      "source": [
        "print(f\"The test data accuracy is : {np.round(val_acc3, 2)}\")\n",
        "print(f\"The test data precision is : {np.round(val_precision3, 2)}\")\n",
        "print(f\"The test data recall is : {np.round(val_recall3, 2)}\")\n",
        "print(f\"The test data f1-score is : {np.round(val_f1_3, 2)}\")\n",
        "print(f\"The test data ROC curve is : {np.round(val_roc_curve3, 2)}\")\n",
        "print(f\"The test data ROC-AUC score is : {np.round(val_roc_auc_score3, 2)}\")"
      ],
      "metadata": {
        "colab": {
          "base_uri": "https://localhost:8080/"
        },
        "id": "C60C3Bl7-k4f",
        "outputId": "07a4aab8-5c67-447a-b6e9-b5143609fefa"
      },
      "execution_count": 43,
      "outputs": [
        {
          "output_type": "stream",
          "name": "stdout",
          "text": [
            "The test data accuracy is : 0.94\n",
            "The test data precision is : 0.99\n",
            "The test data recall is : 0.89\n",
            "The test data f1-score is : 0.93\n",
            "The test data ROC curve is : [[0.   0.01 1.  ]\n",
            " [0.   0.89 1.  ]\n",
            " [ inf 1.   0.  ]]\n",
            "The test data ROC-AUC score is : 0.94\n"
          ]
        }
      ]
    },
    {
      "cell_type": "markdown",
      "source": [
        "* The threshold value goes from infinity to 1 to 0 which means the no positives were predicted at first, then 1 suggests correct prediction but moving to 0 suggests all the instances were predicted positive.\n",
        "\n",
        "* The FPR value goes from 0 to 0.58 to 1 which suggests no false positives were predicted at first, the second value 1 suggests 58% of the negative samples were misclassified as positive and finally the 1 suggests all negatives were incorrectly classified as positives.\n",
        "\n",
        "* The TPR value goes from 0 to 0.99 to 1 which suggests no true positives were predicted at first, the second value 1 suggests 99% of the positive samples were classified correctly and finally the 1 suggests all positives were correctly classified as positives.\n",
        "\n"
      ],
      "metadata": {
        "id": "0ykdoJ4YoHhd"
      }
    },
    {
      "cell_type": "code",
      "source": [
        "confusion_matrix_val_dt3 = confusion_matrix(y_val, val_preds3)\n",
        "cm_val_dt3 = ConfusionMatrixDisplay(confusion_matrix_val_dt3)\n",
        "\n",
        "cm_val_dt3.plot()\n",
        "plt.show()"
      ],
      "metadata": {
        "colab": {
          "base_uri": "https://localhost:8080/",
          "height": 449
        },
        "id": "5EkHc7n6-tDX",
        "outputId": "e9a3bbbd-ef48-471f-c82e-55a983cb140f"
      },
      "execution_count": 44,
      "outputs": [
        {
          "output_type": "display_data",
          "data": {
            "text/plain": [
              "<Figure size 640x480 with 2 Axes>"
            ],
            "image/png": "[encoded data removed]"
          },
          "metadata": {}
        }
      ]
    },
    {
      "cell_type": "markdown",
      "source": [
        "Testing the trained model on the data suggests the model makes very good prediction to predict the PD patients, predicting 99% correctly, however, it misclassifies more than 50% of the healthy patients."
      ],
      "metadata": {
        "id": "Z34-qZxaoVbd"
      }
    },
    {
      "cell_type": "code",
      "source": [
        "rfc4 = RandomForestClassifier(n_estimators=150, criterion='entropy', class_weight='balanced')"
      ],
      "metadata": {
        "id": "o35XURoXMzvL"
      },
      "execution_count": 45,
      "outputs": []
    },
    {
      "cell_type": "code",
      "source": [
        "rfc4.fit(X_train, y_train)"
      ],
      "metadata": {
        "colab": {
          "base_uri": "https://localhost:8080/",
          "height": 97
        },
        "id": "HS5QVOTSM-RQ",
        "outputId": "ca643ec0-3d7b-4594-ac07-3f3cd780b464"
      },
      "execution_count": 46,
      "outputs": [
        {
          "output_type": "execute_result",
          "data": {
            "text/plain": [
              "RandomForestClassifier(class_weight='balanced', criterion='entropy',\n",
              "                       n_estimators=150)"
            ],
            "text/html": [
              "<style>#sk-container-id-4 {\n",
              "  /* Definition of color scheme common for light and dark mode */\n",
              "  --sklearn-color-text: black;\n",
              "  --sklearn-color-line: gray;\n",
              "  /* Definition of color scheme for unfitted estimators */\n",
              "  --sklearn-color-unfitted-level-0: #fff5e6;\n",
              "  --sklearn-color-unfitted-level-1: #f6e4d2;\n",
              "  --sklearn-color-unfitted-level-2: #ffe0b3;\n",
              "  --sklearn-color-unfitted-level-3: chocolate;\n",
              "  /* Definition of color scheme for fitted estimators */\n",
              "  --sklearn-color-fitted-level-0: #f0f8ff;\n",
              "  --sklearn-color-fitted-level-1: #d4ebff;\n",
              "  --sklearn-color-fitted-level-2: #b3dbfd;\n",
              "  --sklearn-color-fitted-level-3: cornflowerblue;\n",
              "\n",
              "  /* Specific color for light theme */\n",
              "  --sklearn-color-text-on-default-background: var(--sg-text-color, var(--theme-code-foreground, var(--jp-content-font-color1, black)));\n",
              "  --sklearn-color-background: var(--sg-background-color, var(--theme-background, var(--jp-layout-color0, white)));\n",
              "  --sklearn-color-border-box: var(--sg-text-color, var(--theme-code-foreground, var(--jp-content-font-color1, black)));\n",
              "  --sklearn-color-icon: #696969;\n",
              "\n",
              "  @media (prefers-color-scheme: dark) {\n",
              "    /* Redefinition of color scheme for dark theme */\n",
              "    --sklearn-color-text-on-default-background: var(--sg-text-color, var(--theme-code-foreground, var(--jp-content-font-color1, white)));\n",
              "    --sklearn-color-background: var(--sg-background-color, var(--theme-background, var(--jp-layout-color0, #111)));\n",
              "    --sklearn-color-border-box: var(--sg-text-color, var(--theme-code-foreground, var(--jp-content-font-color1, white)));\n",
              "    --sklearn-color-icon: #878787;\n",
              "  }\n",
              "}\n",
              "\n",
              "#sk-container-id-4 {\n",
              "  color: var(--sklearn-color-text);\n",
              "}\n",
              "\n",
              "#sk-container-id-4 pre {\n",
              "  padding: 0;\n",
              "}\n",
              "\n",
              "#sk-container-id-4 input.sk-hidden--visually {\n",
              "  border: 0;\n",
              "  clip: rect(1px 1px 1px 1px);\n",
              "  clip: rect(1px, 1px, 1px, 1px);\n",
              "  height: 1px;\n",
              "  margin: -1px;\n",
              "  overflow: hidden;\n",
              "  padding: 0;\n",
              "  position: absolute;\n",
              "  width: 1px;\n",
              "}\n",
              "\n",
              "#sk-container-id-4 div.sk-dashed-wrapped {\n",
              "  border: 1px dashed var(--sklearn-color-line);\n",
              "  margin: 0 0.4em 0.5em 0.4em;\n",
              "  box-sizing: border-box;\n",
              "  padding-bottom: 0.4em;\n",
              "  background-color: var(--sklearn-color-background);\n",
              "}\n",
              "\n",
              "#sk-container-id-4 div.sk-container {\n",
              "  /* jupyter's `normalize.less` sets `[hidden] { display: none; }`\n",
              "     but bootstrap.min.css set `[hidden] { display: none !important; }`\n",
              "     so we also need the `!important` here to be able to override the\n",
              "     default hidden behavior on the sphinx rendered scikit-learn.org.\n",
              "     See: https://github.com/scikit-learn/scikit-learn/issues/21755 */\n",
              "  display: inline-block !important;\n",
              "  position: relative;\n",
              "}\n",
              "\n",
              "#sk-container-id-4 div.sk-text-repr-fallback {\n",
              "  display: none;\n",
              "}\n",
              "\n",
              "div.sk-parallel-item,\n",
              "div.sk-serial,\n",
              "div.sk-item {\n",
              "  /* draw centered vertical line to link estimators */\n",
              "  background-image: linear-gradient(var(--sklearn-color-text-on-default-background), var(--sklearn-color-text-on-default-background));\n",
              "  background-size: 2px 100%;\n",
              "  background-repeat: no-repeat;\n",
              "  background-position: center center;\n",
              "}\n",
              "\n",
              "/* Parallel-specific style estimator block */\n",
              "\n",
              "#sk-container-id-4 div.sk-parallel-item::after {\n",
              "  content: \"\";\n",
              "  width: 100%;\n",
              "  border-bottom: 2px solid var(--sklearn-color-text-on-default-background);\n",
              "  flex-grow: 1;\n",
              "}\n",
              "\n",
              "#sk-container-id-4 div.sk-parallel {\n",
              "  display: flex;\n",
              "  align-items: stretch;\n",
              "  justify-content: center;\n",
              "  background-color: var(--sklearn-color-background);\n",
              "  position: relative;\n",
              "}\n",
              "\n",
              "#sk-container-id-4 div.sk-parallel-item {\n",
              "  display: flex;\n",
              "  flex-direction: column;\n",
              "}\n",
              "\n",
              "#sk-container-id-4 div.sk-parallel-item:first-child::after {\n",
              "  align-self: flex-end;\n",
              "  width: 50%;\n",
              "}\n",
              "\n",
              "#sk-container-id-4 div.sk-parallel-item:last-child::after {\n",
              "  align-self: flex-start;\n",
              "  width: 50%;\n",
              "}\n",
              "\n",
              "#sk-container-id-4 div.sk-parallel-item:only-child::after {\n",
              "  width: 0;\n",
              "}\n",
              "\n",
              "/* Serial-specific style estimator block */\n",
              "\n",
              "#sk-container-id-4 div.sk-serial {\n",
              "  display: flex;\n",
              "  flex-direction: column;\n",
              "  align-items: center;\n",
              "  background-color: var(--sklearn-color-background);\n",
              "  padding-right: 1em;\n",
              "  padding-left: 1em;\n",
              "}\n",
              "\n",
              "\n",
              "/* Toggleable style: style used for estimator/Pipeline/ColumnTransformer box that is\n",
              "clickable and can be expanded/collapsed.\n",
              "- Pipeline and ColumnTransformer use this feature and define the default style\n",
              "- Estimators will overwrite some part of the style using the `sk-estimator` class\n",
              "*/\n",
              "\n",
              "/* Pipeline and ColumnTransformer style (default) */\n",
              "\n",
              "#sk-container-id-4 div.sk-toggleable {\n",
              "  /* Default theme specific background. It is overwritten whether we have a\n",
              "  specific estimator or a Pipeline/ColumnTransformer */\n",
              "  background-color: var(--sklearn-color-background);\n",
              "}\n",
              "\n",
              "/* Toggleable label */\n",
              "#sk-container-id-4 label.sk-toggleable__label {\n",
              "  cursor: pointer;\n",
              "  display: block;\n",
              "  width: 100%;\n",
              "  margin-bottom: 0;\n",
              "  padding: 0.5em;\n",
              "  box-sizing: border-box;\n",
              "  text-align: center;\n",
              "}\n",
              "\n",
              "#sk-container-id-4 label.sk-toggleable__label-arrow:before {\n",
              "  /* Arrow on the left of the label */\n",
              "  content: \"▸\";\n",
              "  float: left;\n",
              "  margin-right: 0.25em;\n",
              "  color: var(--sklearn-color-icon);\n",
              "}\n",
              "\n",
              "#sk-container-id-4 label.sk-toggleable__label-arrow:hover:before {\n",
              "  color: var(--sklearn-color-text);\n",
              "}\n",
              "\n",
              "/* Toggleable content - dropdown */\n",
              "\n",
              "#sk-container-id-4 div.sk-toggleable__content {\n",
              "  max-height: 0;\n",
              "  max-width: 0;\n",
              "  overflow: hidden;\n",
              "  text-align: left;\n",
              "  /* unfitted */\n",
              "  background-color: var(--sklearn-color-unfitted-level-0);\n",
              "}\n",
              "\n",
              "#sk-container-id-4 div.sk-toggleable__content.fitted {\n",
              "  /* fitted */\n",
              "  background-color: var(--sklearn-color-fitted-level-0);\n",
              "}\n",
              "\n",
              "#sk-container-id-4 div.sk-toggleable__content pre {\n",
              "  margin: 0.2em;\n",
              "  border-radius: 0.25em;\n",
              "  color: var(--sklearn-color-text);\n",
              "  /* unfitted */\n",
              "  background-color: var(--sklearn-color-unfitted-level-0);\n",
              "}\n",
              "\n",
              "#sk-container-id-4 div.sk-toggleable__content.fitted pre {\n",
              "  /* unfitted */\n",
              "  background-color: var(--sklearn-color-fitted-level-0);\n",
              "}\n",
              "\n",
              "#sk-container-id-4 input.sk-toggleable__control:checked~div.sk-toggleable__content {\n",
              "  /* Expand drop-down */\n",
              "  max-height: 200px;\n",
              "  max-width: 100%;\n",
              "  overflow: auto;\n",
              "}\n",
              "\n",
              "#sk-container-id-4 input.sk-toggleable__control:checked~label.sk-toggleable__label-arrow:before {\n",
              "  content: \"▾\";\n",
              "}\n",
              "\n",
              "/* Pipeline/ColumnTransformer-specific style */\n",
              "\n",
              "#sk-container-id-4 div.sk-label input.sk-toggleable__control:checked~label.sk-toggleable__label {\n",
              "  color: var(--sklearn-color-text);\n",
              "  background-color: var(--sklearn-color-unfitted-level-2);\n",
              "}\n",
              "\n",
              "#sk-container-id-4 div.sk-label.fitted input.sk-toggleable__control:checked~label.sk-toggleable__label {\n",
              "  background-color: var(--sklearn-color-fitted-level-2);\n",
              "}\n",
              "\n",
              "/* Estimator-specific style */\n",
              "\n",
              "/* Colorize estimator box */\n",
              "#sk-container-id-4 div.sk-estimator input.sk-toggleable__control:checked~label.sk-toggleable__label {\n",
              "  /* unfitted */\n",
              "  background-color: var(--sklearn-color-unfitted-level-2);\n",
              "}\n",
              "\n",
              "#sk-container-id-4 div.sk-estimator.fitted input.sk-toggleable__control:checked~label.sk-toggleable__label {\n",
              "  /* fitted */\n",
              "  background-color: var(--sklearn-color-fitted-level-2);\n",
              "}\n",
              "\n",
              "#sk-container-id-4 div.sk-label label.sk-toggleable__label,\n",
              "#sk-container-id-4 div.sk-label label {\n",
              "  /* The background is the default theme color */\n",
              "  color: var(--sklearn-color-text-on-default-background);\n",
              "}\n",
              "\n",
              "/* On hover, darken the color of the background */\n",
              "#sk-container-id-4 div.sk-label:hover label.sk-toggleable__label {\n",
              "  color: var(--sklearn-color-text);\n",
              "  background-color: var(--sklearn-color-unfitted-level-2);\n",
              "}\n",
              "\n",
              "/* Label box, darken color on hover, fitted */\n",
              "#sk-container-id-4 div.sk-label.fitted:hover label.sk-toggleable__label.fitted {\n",
              "  color: var(--sklearn-color-text);\n",
              "  background-color: var(--sklearn-color-fitted-level-2);\n",
              "}\n",
              "\n",
              "/* Estimator label */\n",
              "\n",
              "#sk-container-id-4 div.sk-label label {\n",
              "  font-family: monospace;\n",
              "  font-weight: bold;\n",
              "  display: inline-block;\n",
              "  line-height: 1.2em;\n",
              "}\n",
              "\n",
              "#sk-container-id-4 div.sk-label-container {\n",
              "  text-align: center;\n",
              "}\n",
              "\n",
              "/* Estimator-specific */\n",
              "#sk-container-id-4 div.sk-estimator {\n",
              "  font-family: monospace;\n",
              "  border: 1px dotted var(--sklearn-color-border-box);\n",
              "  border-radius: 0.25em;\n",
              "  box-sizing: border-box;\n",
              "  margin-bottom: 0.5em;\n",
              "  /* unfitted */\n",
              "  background-color: var(--sklearn-color-unfitted-level-0);\n",
              "}\n",
              "\n",
              "#sk-container-id-4 div.sk-estimator.fitted {\n",
              "  /* fitted */\n",
              "  background-color: var(--sklearn-color-fitted-level-0);\n",
              "}\n",
              "\n",
              "/* on hover */\n",
              "#sk-container-id-4 div.sk-estimator:hover {\n",
              "  /* unfitted */\n",
              "  background-color: var(--sklearn-color-unfitted-level-2);\n",
              "}\n",
              "\n",
              "#sk-container-id-4 div.sk-estimator.fitted:hover {\n",
              "  /* fitted */\n",
              "  background-color: var(--sklearn-color-fitted-level-2);\n",
              "}\n",
              "\n",
              "/* Specification for estimator info (e.g. \"i\" and \"?\") */\n",
              "\n",
              "/* Common style for \"i\" and \"?\" */\n",
              "\n",
              ".sk-estimator-doc-link,\n",
              "a:link.sk-estimator-doc-link,\n",
              "a:visited.sk-estimator-doc-link {\n",
              "  float: right;\n",
              "  font-size: smaller;\n",
              "  line-height: 1em;\n",
              "  font-family: monospace;\n",
              "  background-color: var(--sklearn-color-background);\n",
              "  border-radius: 1em;\n",
              "  height: 1em;\n",
              "  width: 1em;\n",
              "  text-decoration: none !important;\n",
              "  margin-left: 1ex;\n",
              "  /* unfitted */\n",
              "  border: var(--sklearn-color-unfitted-level-1) 1pt solid;\n",
              "  color: var(--sklearn-color-unfitted-level-1);\n",
              "}\n",
              "\n",
              ".sk-estimator-doc-link.fitted,\n",
              "a:link.sk-estimator-doc-link.fitted,\n",
              "a:visited.sk-estimator-doc-link.fitted {\n",
              "  /* fitted */\n",
              "  border: var(--sklearn-color-fitted-level-1) 1pt solid;\n",
              "  color: var(--sklearn-color-fitted-level-1);\n",
              "}\n",
              "\n",
              "/* On hover */\n",
              "div.sk-estimator:hover .sk-estimator-doc-link:hover,\n",
              ".sk-estimator-doc-link:hover,\n",
              "div.sk-label-container:hover .sk-estimator-doc-link:hover,\n",
              ".sk-estimator-doc-link:hover {\n",
              "  /* unfitted */\n",
              "  background-color: var(--sklearn-color-unfitted-level-3);\n",
              "  color: var(--sklearn-color-background);\n",
              "  text-decoration: none;\n",
              "}\n",
              "\n",
              "div.sk-estimator.fitted:hover .sk-estimator-doc-link.fitted:hover,\n",
              ".sk-estimator-doc-link.fitted:hover,\n",
              "div.sk-label-container:hover .sk-estimator-doc-link.fitted:hover,\n",
              ".sk-estimator-doc-link.fitted:hover {\n",
              "  /* fitted */\n",
              "  background-color: var(--sklearn-color-fitted-level-3);\n",
              "  color: var(--sklearn-color-background);\n",
              "  text-decoration: none;\n",
              "}\n",
              "\n",
              "/* Span, style for the box shown on hovering the info icon */\n",
              ".sk-estimator-doc-link span {\n",
              "  display: none;\n",
              "  z-index: 9999;\n",
              "  position: relative;\n",
              "  font-weight: normal;\n",
              "  right: .2ex;\n",
              "  padding: .5ex;\n",
              "  margin: .5ex;\n",
              "  width: min-content;\n",
              "  min-width: 20ex;\n",
              "  max-width: 50ex;\n",
              "  color: var(--sklearn-color-text);\n",
              "  box-shadow: 2pt 2pt 4pt #999;\n",
              "  /* unfitted */\n",
              "  background: var(--sklearn-color-unfitted-level-0);\n",
              "  border: .5pt solid var(--sklearn-color-unfitted-level-3);\n",
              "}\n",
              "\n",
              ".sk-estimator-doc-link.fitted span {\n",
              "  /* fitted */\n",
              "  background: var(--sklearn-color-fitted-level-0);\n",
              "  border: var(--sklearn-color-fitted-level-3);\n",
              "}\n",
              "\n",
              ".sk-estimator-doc-link:hover span {\n",
              "  display: block;\n",
              "}\n",
              "\n",
              "/* \"?\"-specific style due to the `<a>` HTML tag */\n",
              "\n",
              "#sk-container-id-4 a.estimator_doc_link {\n",
              "  float: right;\n",
              "  font-size: 1rem;\n",
              "  line-height: 1em;\n",
              "  font-family: monospace;\n",
              "  background-color: var(--sklearn-color-background);\n",
              "  border-radius: 1rem;\n",
              "  height: 1rem;\n",
              "  width: 1rem;\n",
              "  text-decoration: none;\n",
              "  /* unfitted */\n",
              "  color: var(--sklearn-color-unfitted-level-1);\n",
              "  border: var(--sklearn-color-unfitted-level-1) 1pt solid;\n",
              "}\n",
              "\n",
              "#sk-container-id-4 a.estimator_doc_link.fitted {\n",
              "  /* fitted */\n",
              "  border: var(--sklearn-color-fitted-level-1) 1pt solid;\n",
              "  color: var(--sklearn-color-fitted-level-1);\n",
              "}\n",
              "\n",
              "/* On hover */\n",
              "#sk-container-id-4 a.estimator_doc_link:hover {\n",
              "  /* unfitted */\n",
              "  background-color: var(--sklearn-color-unfitted-level-3);\n",
              "  color: var(--sklearn-color-background);\n",
              "  text-decoration: none;\n",
              "}\n",
              "\n",
              "#sk-container-id-4 a.estimator_doc_link.fitted:hover {\n",
              "  /* fitted */\n",
              "  background-color: var(--sklearn-color-fitted-level-3);\n",
              "}\n",
              "</style><div id=\"sk-container-id-4\" class=\"sk-top-container\"><div class=\"sk-text-repr-fallback\"><pre>RandomForestClassifier(class_weight=&#x27;balanced&#x27;, criterion=&#x27;entropy&#x27;,\n",
              "                       n_estimators=150)</pre><b>In a Jupyter environment, please rerun this cell to show the HTML representation or trust the notebook. <br />On GitHub, the HTML representation is unable to render, please try loading this page with nbviewer.org.</b></div><div class=\"sk-container\" hidden><div class=\"sk-item\"><div class=\"sk-estimator fitted sk-toggleable\"><input class=\"sk-toggleable__control sk-hidden--visually\" id=\"sk-estimator-id-4\" type=\"checkbox\" checked><label for=\"sk-estimator-id-4\" class=\"sk-toggleable__label fitted sk-toggleable__label-arrow fitted\">&nbsp;&nbsp;RandomForestClassifier<a class=\"sk-estimator-doc-link fitted\" rel=\"noreferrer\" target=\"_blank\" href=\"https://scikit-learn.org/1.5/modules/generated/sklearn.ensemble.RandomForestClassifier.html\">?<span>Documentation for RandomForestClassifier</span></a><span class=\"sk-estimator-doc-link fitted\">i<span>Fitted</span></span></label><div class=\"sk-toggleable__content fitted\"><pre>RandomForestClassifier(class_weight=&#x27;balanced&#x27;, criterion=&#x27;entropy&#x27;,\n",
              "                       n_estimators=150)</pre></div> </div></div></div></div>"
            ]
          },
          "metadata": {},
          "execution_count": 46
        }
      ]
    },
    {
      "cell_type": "code",
      "source": [
        "train_preds4 = rfc4.predict(X_train)"
      ],
      "metadata": {
        "id": "zsKPHhfYNEae"
      },
      "execution_count": 47,
      "outputs": []
    },
    {
      "cell_type": "code",
      "source": [
        "train_acc4 = accuracy_score(y_train, train_preds4)\n",
        "train_precision4 = precision_score(y_train, train_preds4)\n",
        "train_roc_auc_score4 = roc_auc_score(y_train, train_preds4)\n",
        "train_recall4 = recall_score(y_train, train_preds4)\n",
        "train_f1_4 = f1_score(y_train, train_preds4)\n",
        "train_roc_curve4 = roc_curve(y_train, train_preds4)"
      ],
      "metadata": {
        "id": "QM9tshYvNNKa"
      },
      "execution_count": 48,
      "outputs": []
    },
    {
      "cell_type": "code",
      "source": [
        "print(f\"The training data accuracy is : {np.round(train_acc4, 2)}\")\n",
        "print(f\"The training data precision is : {np.round(train_precision4, 2)}\")\n",
        "print(f\"The training data recall is : {np.round(train_recall4, 2)}\")\n",
        "print(f\"The training data f1-score is : {np.round(train_f1_4, 2)}\")\n",
        "print(f\"The training data ROC curve is : {np.round(train_roc_curve4, 2)}\")\n",
        "print(f\"The training data ROC-AUC score is : {np.round(train_roc_auc_score4, 2)}\")"
      ],
      "metadata": {
        "colab": {
          "base_uri": "https://localhost:8080/"
        },
        "id": "Cakj80wVNP1B",
        "outputId": "09eb5d6c-6bf2-4dd2-b6a7-d9278eaffc0f"
      },
      "execution_count": 49,
      "outputs": [
        {
          "output_type": "stream",
          "name": "stdout",
          "text": [
            "The training data accuracy is : 1.0\n",
            "The training data precision is : 1.0\n",
            "The training data recall is : 1.0\n",
            "The training data f1-score is : 1.0\n",
            "The training data ROC curve is : [[ 0.  0.  1.]\n",
            " [ 0.  1.  1.]\n",
            " [inf  1.  0.]]\n",
            "The training data ROC-AUC score is : 1.0\n"
          ]
        }
      ]
    },
    {
      "cell_type": "code",
      "source": [
        "confusion_matrix_train_dt4 = confusion_matrix(y_train, train_preds4)\n",
        "cm_train_dt4 = ConfusionMatrixDisplay(confusion_matrix_train_dt4)\n",
        "\n",
        "cm_train_dt4.plot()\n",
        "plt.show()"
      ],
      "metadata": {
        "colab": {
          "base_uri": "https://localhost:8080/",
          "height": 449
        },
        "id": "U1Yds6baNSMd",
        "outputId": "b8bae1a5-5828-43f0-bc69-2a4f9754ef81"
      },
      "execution_count": 50,
      "outputs": [
        {
          "output_type": "display_data",
          "data": {
            "text/plain": [
              "<Figure size 640x480 with 2 Axes>"
            ],
            "image/png": "[encoded data removed]"
          },
          "metadata": {}
        }
      ]
    },
    {
      "cell_type": "code",
      "source": [
        "val_preds4 = rfc4.predict(X_val)"
      ],
      "metadata": {
        "id": "BDr_aJ2BNt0k"
      },
      "execution_count": 51,
      "outputs": []
    },
    {
      "cell_type": "code",
      "source": [
        "val_acc4 = accuracy_score(y_val, val_preds4)\n",
        "val_precision4 = precision_score(y_val, val_preds4)\n",
        "val_roc_auc_score4 = roc_auc_score(y_val, val_preds4)\n",
        "val_recall4 = recall_score(y_val, val_preds4)\n",
        "val_f1_4 = f1_score(y_val, val_preds4)\n",
        "val_roc_curve4 = roc_curve(y_val, val_preds4)"
      ],
      "metadata": {
        "id": "b9PrAcfRN2LC"
      },
      "execution_count": 52,
      "outputs": []
    },
    {
      "cell_type": "code",
      "source": [
        "print(f\"The validation data accuracy is : {np.round(val_acc4, 2)}\")\n",
        "print(f\"The validation data precision is : {np.round(val_precision4, 2)}\")\n",
        "print(f\"The validation data recall is : {np.round(val_recall4, 2)}\")\n",
        "print(f\"The validation data f1-score is : {np.round(val_f1_4, 2)}\")\n",
        "print(f\"The validation data ROC curve is : {np.round(val_roc_curve4, 2)}\")\n",
        "print(f\"The validation data ROC-AUC score is : {np.round(val_roc_auc_score4, 2)}\")"
      ],
      "metadata": {
        "colab": {
          "base_uri": "https://localhost:8080/"
        },
        "id": "BGfl9wbCN7Gw",
        "outputId": "7c56f9bf-437e-4b62-c5b1-30a2a1eeffcc"
      },
      "execution_count": 53,
      "outputs": [
        {
          "output_type": "stream",
          "name": "stdout",
          "text": [
            "The validation data accuracy is : 0.94\n",
            "The validation data precision is : 0.99\n",
            "The validation data recall is : 0.89\n",
            "The validation data f1-score is : 0.93\n",
            "The validation data ROC curve is : [[0.   0.01 1.  ]\n",
            " [0.   0.89 1.  ]\n",
            " [ inf 1.   0.  ]]\n",
            "The validation data ROC-AUC score is : 0.94\n"
          ]
        }
      ]
    },
    {
      "cell_type": "code",
      "source": [
        "confusion_matrix_val_dt4 = confusion_matrix(y_val, val_preds4)\n",
        "cm_val_dt4 = ConfusionMatrixDisplay(confusion_matrix_val_dt4)\n",
        "\n",
        "cm_val_dt4.plot()\n",
        "plt.show()"
      ],
      "metadata": {
        "colab": {
          "base_uri": "https://localhost:8080/",
          "height": 449
        },
        "id": "8xh09sn5N8pB",
        "outputId": "ea39c439-cd7e-4d0b-afa0-c6e0139bf806"
      },
      "execution_count": 54,
      "outputs": [
        {
          "output_type": "display_data",
          "data": {
            "text/plain": [
              "<Figure size 640x480 with 2 Axes>"
            ],
            "image/png": "[encoded data removed]"
          },
          "metadata": {}
        }
      ]
    }
  ]
}