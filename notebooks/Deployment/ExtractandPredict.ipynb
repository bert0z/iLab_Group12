{
 "cells": [
  {
   "cell_type": "code",
   "execution_count": 1,
   "metadata": {},
   "outputs": [],
   "source": [
    "#pip install antropy"
   ]
  },
  {
   "cell_type": "code",
   "execution_count": 2,
   "metadata": {},
   "outputs": [],
   "source": [
    "import parselmouth\n",
    "import numpy as np\n",
    "import librosa\n",
    "import nolds\n",
    "import pandas as pd\n",
    "import joblib\n",
    "import antropy as ant"
   ]
  },
  {
   "cell_type": "code",
   "execution_count": 3,
   "metadata": {},
   "outputs": [],
   "source": [
    "def extract_features(audio_path):\n",
    "    # Load audio\n",
    "    sound = parselmouth.Sound(audio_path)\n",
    "    y, sr = librosa.load(audio_path)\n",
    "\n",
    "    # 1. MDVP:Fo(Hz), MDVP:Fhi(Hz), MDVP:Flo(Hz)\n",
    "    pitch = sound.to_pitch()\n",
    "    fo = pitch.selected_array['frequency']\n",
    "    MDVP_Fo = np.mean(fo[fo > 0])  # Mean fundamental frequency\n",
    "    MDVP_Fhi = np.max(fo)           # Max fundamental frequency\n",
    "    MDVP_Flo = np.min(fo[fo > 0])   # Min fundamental frequency\n",
    "\n",
    "    # 2. NHR and HNR\n",
    "    harmonicity = sound.to_harmonicity()\n",
    "    HNR = harmonicity.values[harmonicity.values != -200].mean()\n",
    "    NHR = 1 / HNR if HNR != 0 else 0\n",
    "\n",
    "    # 3. RPDE (Recurrence Period Density Entropy)\n",
    "    RPDE = ant.perm_entropy(fo, normalize=True)    # or use a different signal for better accuracy\n",
    "\n",
    "    # 4. DFA (Detrended Fluctuation Analysis)\n",
    "    DFA = nolds.dfa(y)\n",
    "\n",
    "    # 5. Spread2\n",
    "    spread = librosa.feature.spectral_bandwidth(y=y, sr=sr)\n",
    "    Spread2 = spread.mean() / (sr / 2)\n",
    "\n",
    "    # 6. D2 (Correlation Dimension)\n",
    "    D2 = nolds.corr_dim(fo, emb_dim=25)  # Adjust emb_dim for accuracy, perhaps check paper\n",
    "\n",
    "    # 7. PPE (Pitch Period Entropy)\n",
    "    PPE = ant.app_entropy(fo)\n",
    "\n",
    "    # Consolidate into dictionary\n",
    "    features = {\n",
    "        \"MDVP:Fo(Hz)\": MDVP_Fo,\n",
    "        \"MDVP:Fhi(Hz)\": MDVP_Fhi,\n",
    "        \"MDVP:Flo(Hz)\": MDVP_Flo,\n",
    "        \"NHR\": NHR,\n",
    "        \"HNR\": HNR,\n",
    "        \"RPDE\": RPDE,\n",
    "        \"DFA\": DFA,\n",
    "        \"Spread2\": Spread2,\n",
    "        \"D2\": D2,\n",
    "        \"PPE\": PPE\n",
    "    }\n",
    "    \n",
    "    return features"
   ]
  },
  {
   "cell_type": "code",
   "execution_count": 4,
   "metadata": {},
   "outputs": [
    {
     "name": "stdout",
     "output_type": "stream",
     "text": [
      "{'MDVP:Fo(Hz)': 128.20022909789762, 'MDVP:Fhi(Hz)': 198.78304100698804, 'MDVP:Flo(Hz)': 110.53636449125997, 'NHR': 0.06680996455476186, 'HNR': 14.967827129744006, 'RPDE': 0.7067980206076252, 'DFA': 0.5236775708533682, 'Spread2': 0.1956654099691866, 'D2': 0.777186218208257, 'PPE': 0.08720967544633418}\n"
     ]
    }
   ],
   "source": [
    "#audio_file = '../data/raw/HC_AH/AH_5.wav'\n",
    "audio_file = '../data/raw/test.wav'\n",
    "features = extract_features(audio_file)\n",
    "print(features)"
   ]
  },
  {
   "cell_type": "code",
   "execution_count": 5,
   "metadata": {},
   "outputs": [],
   "source": [
    "feature_df = pd.DataFrame(columns=[\n",
    "    \"MDVP:Fo(Hz)\", \"MDVP:Fhi(Hz)\", \"MDVP:Flo(Hz)\", \"NHR\", \"HNR\", \n",
    "    \"RPDE\", \"DFA\", \"Spread2\", \"D2\", \"PPE\"\n",
    "])"
   ]
  },
  {
   "cell_type": "code",
   "execution_count": 6,
   "metadata": {},
   "outputs": [
    {
     "name": "stderr",
     "output_type": "stream",
     "text": [
      "C:\\Users\\bert_\\AppData\\Local\\Temp\\ipykernel_3356\\1364591689.py:1: FutureWarning: The behavior of DataFrame concatenation with empty or all-NA entries is deprecated. In a future version, this will no longer exclude empty or all-NA columns when determining the result dtypes. To retain the old behavior, exclude the relevant entries before the concat operation.\n",
      "  feature_df = pd.concat([feature_df, pd.DataFrame([features])], ignore_index=True)\n"
     ]
    }
   ],
   "source": [
    "feature_df = pd.concat([feature_df, pd.DataFrame([features])], ignore_index=True)"
   ]
  },
  {
   "cell_type": "code",
   "execution_count": 7,
   "metadata": {},
   "outputs": [
    {
     "data": {
      "text/html": [
       "<div>\n",
       "<style scoped>\n",
       "    .dataframe tbody tr th:only-of-type {\n",
       "        vertical-align: middle;\n",
       "    }\n",
       "\n",
       "    .dataframe tbody tr th {\n",
       "        vertical-align: top;\n",
       "    }\n",
       "\n",
       "    .dataframe thead th {\n",
       "        text-align: right;\n",
       "    }\n",
       "</style>\n",
       "<table border=\"1\" class=\"dataframe\">\n",
       "  <thead>\n",
       "    <tr style=\"text-align: right;\">\n",
       "      <th></th>\n",
       "      <th>MDVP:Fo(Hz)</th>\n",
       "      <th>MDVP:Fhi(Hz)</th>\n",
       "      <th>MDVP:Flo(Hz)</th>\n",
       "      <th>NHR</th>\n",
       "      <th>HNR</th>\n",
       "      <th>RPDE</th>\n",
       "      <th>DFA</th>\n",
       "      <th>Spread2</th>\n",
       "      <th>D2</th>\n",
       "      <th>PPE</th>\n",
       "    </tr>\n",
       "  </thead>\n",
       "  <tbody>\n",
       "    <tr>\n",
       "      <th>0</th>\n",
       "      <td>128.200229</td>\n",
       "      <td>198.783041</td>\n",
       "      <td>110.536364</td>\n",
       "      <td>0.06681</td>\n",
       "      <td>14.967827</td>\n",
       "      <td>0.706798</td>\n",
       "      <td>0.523678</td>\n",
       "      <td>0.195665</td>\n",
       "      <td>0.777186</td>\n",
       "      <td>0.08721</td>\n",
       "    </tr>\n",
       "  </tbody>\n",
       "</table>\n",
       "</div>"
      ],
      "text/plain": [
       "   MDVP:Fo(Hz)  MDVP:Fhi(Hz)  MDVP:Flo(Hz)      NHR        HNR      RPDE  \\\n",
       "0   128.200229    198.783041    110.536364  0.06681  14.967827  0.706798   \n",
       "\n",
       "        DFA   Spread2        D2      PPE  \n",
       "0  0.523678  0.195665  0.777186  0.08721  "
      ]
     },
     "execution_count": 7,
     "metadata": {},
     "output_type": "execute_result"
    }
   ],
   "source": [
    "feature_df.head()"
   ]
  },
  {
   "cell_type": "code",
   "execution_count": 8,
   "metadata": {},
   "outputs": [],
   "source": [
    "test_model = joblib.load(\"../models/Custom_model.joblib\")"
   ]
  },
  {
   "cell_type": "code",
   "execution_count": 9,
   "metadata": {},
   "outputs": [],
   "source": [
    "prediction = test_model.predict(feature_df)"
   ]
  },
  {
   "cell_type": "code",
   "execution_count": 10,
   "metadata": {},
   "outputs": [
    {
     "name": "stdout",
     "output_type": "stream",
     "text": [
      "Predictions: [1]\n"
     ]
    }
   ],
   "source": [
    "print(\"Predictions:\", prediction)"
   ]
  },
  {
   "cell_type": "code",
   "execution_count": 11,
   "metadata": {},
   "outputs": [
    {
     "name": "stdout",
     "output_type": "stream",
     "text": [
      "[[0.1238243 0.8761757]]\n"
     ]
    }
   ],
   "source": [
    "# Predict probabilities for each class\n",
    "y_proba = test_model.predict_proba(feature_df)\n",
    "\n",
    "# Example: Look at probabilities for the first few samples\n",
    "print(y_proba[:5])"
   ]
  }
 ],
 "metadata": {
  "kernelspec": {
   "display_name": ".venv",
   "language": "python",
   "name": "python3"
  },
  "language_info": {
   "codemirror_mode": {
    "name": "ipython",
    "version": 3
   },
   "file_extension": ".py",
   "mimetype": "text/x-python",
   "name": "python",
   "nbconvert_exporter": "python",
   "pygments_lexer": "ipython3",
   "version": "3.11.4"
  }
 },
 "nbformat": 4,
 "nbformat_minor": 2
}
