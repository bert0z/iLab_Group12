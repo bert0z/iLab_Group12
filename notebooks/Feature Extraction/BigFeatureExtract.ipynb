{
  "cells": [
    {
      "cell_type": "code",
      "source": [
        "!pip install praat-parselmouth"
      ],
      "metadata": {
        "colab": {
          "base_uri": "https://localhost:8080/"
        },
        "id": "dA44s6UNGQx8",
        "outputId": "20367b8b-edbe-40cd-d5d9-446250b9bd57"
      },
      "execution_count": 9,
      "outputs": [
        {
          "output_type": "stream",
          "name": "stdout",
          "text": [
            "Collecting praat-parselmouth\n",
            "  Downloading praat_parselmouth-0.4.4-cp310-cp310-manylinux_2_12_x86_64.manylinux2010_x86_64.whl.metadata (2.9 kB)\n",
            "Requirement already satisfied: numpy>=1.7.0 in /usr/local/lib/python3.10/dist-packages (from praat-parselmouth) (1.26.4)\n",
            "Downloading praat_parselmouth-0.4.4-cp310-cp310-manylinux_2_12_x86_64.manylinux2010_x86_64.whl (10.7 MB)\n",
            "\u001b[2K   \u001b[90m━━━━━━━━━━━━━━━━━━━━━━━━━━━━━━━━━━━━━━━━\u001b[0m \u001b[32m10.7/10.7 MB\u001b[0m \u001b[31m52.2 MB/s\u001b[0m eta \u001b[36m0:00:00\u001b[0m\n",
            "\u001b[?25hInstalling collected packages: praat-parselmouth\n",
            "Successfully installed praat-parselmouth-0.4.4\n"
          ]
        }
      ]
    },
    {
      "cell_type": "code",
      "execution_count": 10,
      "metadata": {
        "colab": {
          "base_uri": "https://localhost:8080/"
        },
        "id": "mqo3VvwuGGgF",
        "outputId": "6734483e-4ba2-4c7b-fecb-cfbb82ad5923"
      },
      "outputs": [
        {
          "output_type": "stream",
          "name": "stdout",
          "text": [
            "Collecting PyWavelets\n",
            "  Downloading pywavelets-1.7.0-cp310-cp310-manylinux_2_17_x86_64.manylinux2014_x86_64.whl.metadata (9.0 kB)\n",
            "Requirement already satisfied: numpy<3,>=1.23 in /usr/local/lib/python3.10/dist-packages (from PyWavelets) (1.26.4)\n",
            "Downloading pywavelets-1.7.0-cp310-cp310-manylinux_2_17_x86_64.manylinux2014_x86_64.whl (4.5 MB)\n",
            "\u001b[2K   \u001b[90m━━━━━━━━━━━━━━━━━━━━━━━━━━━━━━━━━━━━━━━━\u001b[0m \u001b[32m4.5/4.5 MB\u001b[0m \u001b[31m28.0 MB/s\u001b[0m eta \u001b[36m0:00:00\u001b[0m\n",
            "\u001b[?25hInstalling collected packages: PyWavelets\n",
            "Successfully installed PyWavelets-1.7.0\n"
          ]
        }
      ],
      "source": [
        "pip install PyWavelets"
      ]
    },
    {
      "cell_type": "code",
      "source": [
        "!pip install nolds"
      ],
      "metadata": {
        "colab": {
          "base_uri": "https://localhost:8080/"
        },
        "id": "A9RVATmwGWQ_",
        "outputId": "ee6ccdb5-624f-4d95-b95d-6dde8182f408"
      },
      "execution_count": 11,
      "outputs": [
        {
          "output_type": "stream",
          "name": "stdout",
          "text": [
            "Collecting nolds\n",
            "  Downloading nolds-0.6.1-py2.py3-none-any.whl.metadata (7.0 kB)\n",
            "Requirement already satisfied: numpy<3.0,>1.0 in /usr/local/lib/python3.10/dist-packages (from nolds) (1.26.4)\n",
            "Requirement already satisfied: future in /usr/local/lib/python3.10/dist-packages (from nolds) (1.0.0)\n",
            "Requirement already satisfied: setuptools in /usr/local/lib/python3.10/dist-packages (from nolds) (71.0.4)\n",
            "Downloading nolds-0.6.1-py2.py3-none-any.whl (225 kB)\n",
            "\u001b[2K   \u001b[90m━━━━━━━━━━━━━━━━━━━━━━━━━━━━━━━━━━━━━━━━\u001b[0m \u001b[32m225.1/225.1 kB\u001b[0m \u001b[31m4.2 MB/s\u001b[0m eta \u001b[36m0:00:00\u001b[0m\n",
            "\u001b[?25hInstalling collected packages: nolds\n",
            "Successfully installed nolds-0.6.1\n"
          ]
        }
      ]
    },
    {
      "cell_type": "code",
      "execution_count": 12,
      "metadata": {
        "id": "S6ve86_nGGgJ"
      },
      "outputs": [],
      "source": [
        "import librosa\n",
        "import parselmouth\n",
        "from parselmouth.praat import call\n",
        "import scipy\n",
        "from scipy.stats import entropy\n",
        "from scipy.signal import hilbert\n",
        "import numpy as np\n",
        "import pywt\n",
        "#from tqwtpy import tqwt\n",
        "import nolds\n",
        "import pandas as pd"
      ]
    },
    {
      "cell_type": "code",
      "execution_count": 13,
      "metadata": {
        "id": "CiOSGba8GGgJ"
      },
      "outputs": [],
      "source": [
        "# Function to extract Pitch Period Entropy (PPE)\n",
        "def extract_ppe(audio_path):\n",
        "    snd = parselmouth.Sound(audio_path)\n",
        "    pitch = call(snd, \"To Pitch\", 0.0, 75, 600)  # Extract pitch\n",
        "\n",
        "    # Extract pitch mean in Hertz\n",
        "    ppe = call(pitch, \"Get mean\", 0, 0, \"Hertz\")\n",
        "    return ppe"
      ]
    },
    {
      "cell_type": "code",
      "execution_count": 14,
      "metadata": {
        "id": "I0Ipp0P7GGgK"
      },
      "outputs": [],
      "source": [
        "# Function to extract DFA (Detrended Fluctuation Analysis)\n",
        "def extract_dfa(y):\n",
        "    return nolds.dfa(y)"
      ]
    },
    {
      "cell_type": "code",
      "execution_count": 15,
      "metadata": {
        "id": "oMJt7JpmGGgK"
      },
      "outputs": [],
      "source": [
        "# Function to extract RPDE (Recurrence Period Density Entropy)\n",
        "def extract_rpde(y):\n",
        "    rpde_value = scipy.stats.entropy(np.abs(np.fft.rfft(y)))\n",
        "    return rpde_value"
      ]
    },
    {
      "cell_type": "code",
      "execution_count": 16,
      "metadata": {
        "id": "ptvSwZW3GGgK"
      },
      "outputs": [],
      "source": [
        "# Function to extract jitter and shimmer features using Praat\n",
        "def extract_jitter_shimmer(audio_path):\n",
        "    snd = parselmouth.Sound(audio_path)\n",
        "    point_process = call(snd, \"To PointProcess (periodic, cc)\", 75, 500)\n",
        "\n",
        "    jitter_local = call(point_process, \"Get jitter (local)\", 0, 0, 0.0001, 0.02, 1.3)\n",
        "    jitter_rap = call(point_process, \"Get jitter (rap)\", 0, 0, 0.0001, 0.02, 1.3)\n",
        "    jitter_ppq5 = call(point_process, \"Get jitter (ppq5)\", 0, 0, 0.0001, 0.02, 1.3)\n",
        "    jitter_ddp = 3 * jitter_rap  # DDP = 3 * RAP jitter\n",
        "    jitter_loc_abs = call(point_process, \"Get jitter (local, absolute)\", 0, 0, 0.0001, 0.02, 1.3)  # Local Absolute Jitter\n",
        "\n",
        "    shimmer_local = call([snd, point_process], \"Get shimmer (local)\", 0, 0, 0.0001, 0.02, 1.3, 1.6)\n",
        "    shimmer_db = call([snd, point_process], \"Get shimmer (local_dB)\", 0, 0, 0.0001, 0.02, 1.3, 1.6)\n",
        "    shimmer_apq3 = call([snd, point_process], \"Get shimmer (apq3)\", 0, 0, 0.0001, 0.02, 1.3, 1.6)\n",
        "    shimmer_apq5 = call([snd, point_process], \"Get shimmer (apq5)\", 0, 0, 0.0001, 0.02, 1.3, 1.6)\n",
        "    shimmer_apq11 = call([snd, point_process], \"Get shimmer (apq11)\", 0, 0, 0.0001, 0.02, 1.3, 1.6)\n",
        "    shimmer_dda = 3 * shimmer_apq3  # DDA = 3 * APQ3 shimmer\n",
        "\n",
        "    return (\n",
        "        jitter_local, jitter_rap, jitter_ppq5, jitter_ddp, jitter_loc_abs,  # Added locAbsJitter here\n",
        "        shimmer_local, shimmer_db, shimmer_apq3, shimmer_apq5, shimmer_apq11, shimmer_dda\n",
        "    )"
      ]
    },
    {
      "cell_type": "code",
      "execution_count": 17,
      "metadata": {
        "id": "pIxAamZhGGgL"
      },
      "outputs": [],
      "source": [
        "# Function to extract Harmonicity-related features\n",
        "def extract_harmonicity_full(audio_path):\n",
        "    snd = parselmouth.Sound(audio_path)\n",
        "\n",
        "    # Harmonicity (cc) for mean harmonicity\n",
        "    harmonicity_cc = call(snd, \"To Harmonicity (cc)\", 0.01, 75, 0.1, 1.0)\n",
        "    mean_harmonicity = call(harmonicity_cc, \"Get mean\", 0, 0)\n",
        "\n",
        "    # Noise-to-harmonics ratio following the same pattern\n",
        "    noise_to_harmonics_ratio = call(harmonicity_cc, \"Get mean\", 0, 0)  # Using the same Harmonicity object\n",
        "    mean_noise_to_harm = 1 / noise_to_harmonics_ratio if noise_to_harmonics_ratio != 0 else np.nan\n",
        "\n",
        "    return mean_harmonicity, mean_noise_to_harm"
      ]
    },
    {
      "cell_type": "code",
      "execution_count": 18,
      "metadata": {
        "id": "F7nNU0kAGGgL"
      },
      "outputs": [],
      "source": [
        "# Function to extract pulse-related features using Praat (corrected)\n",
        "def extract_pulse_features(audio_path):\n",
        "    snd = parselmouth.Sound(audio_path)\n",
        "    point_process = call(snd, \"To PointProcess (periodic, cc)\", 75, 500)\n",
        "\n",
        "    num_pulses = call(point_process, \"Get number of points\")  # Get pulse count\n",
        "\n",
        "    # Get times of each pulse and calculate the intervals (periods)\n",
        "    pulses_times = [call(point_process, \"Get time from index\", i + 1) for i in range(num_pulses)]\n",
        "    periods = np.diff(pulses_times)  # Differences between consecutive pulses\n",
        "\n",
        "    num_periods_pulses = len(periods)\n",
        "    mean_period_pulses = np.mean(periods) if len(periods) > 0 else 0\n",
        "    stddev_period_pulses = np.std(periods) if len(periods) > 0 else 0\n",
        "\n",
        "    return num_pulses, num_periods_pulses, mean_period_pulses, stddev_period_pulses\n"
      ]
    },
    {
      "cell_type": "code",
      "execution_count": 19,
      "metadata": {
        "id": "mt_kqhg2GGgL"
      },
      "outputs": [],
      "source": [
        "def extract_intensity_features(audio_path):\n",
        "    snd = parselmouth.Sound(audio_path)\n",
        "\n",
        "    # Convert sound to intensity\n",
        "    intensity = call(snd, \"To Intensity\", 75, 0, \"yes\")\n",
        "\n",
        "    # Extract intensity features\n",
        "    min_intensity = call(intensity, \"Get minimum\", 0, 0, \"Parabolic\")\n",
        "    max_intensity = call(intensity, \"Get maximum\", 0, 0, \"Parabolic\")\n",
        "    mean_intensity = call(intensity, \"Get mean\", 0, 0)\n",
        "\n",
        "    return min_intensity, max_intensity, mean_intensity"
      ]
    },
    {
      "cell_type": "code",
      "execution_count": 20,
      "metadata": {
        "id": "p97oUYWZGGgL"
      },
      "outputs": [],
      "source": [
        "def extract_formant_frequencies(audio_path):\n",
        "    snd = parselmouth.Sound(audio_path)\n",
        "\n",
        "    # Create a formant object\n",
        "    formant = call(snd, \"To Formant (burg)\", 0.025, 5, 5500, 0.02, 50)\n",
        "\n",
        "    # Extract the formant frequencies in Hertz\n",
        "    f1 = call(formant, \"Get mean\", 1, 0, 0, \"Hertz\")  # 1st formant\n",
        "    f2 = call(formant, \"Get mean\", 2, 0, 0, \"Hertz\")  # 2nd formant\n",
        "    f3 = call(formant, \"Get mean\", 3, 0, 0, \"Hertz\")  # 3rd formant\n",
        "    f4 = call(formant, \"Get mean\", 4, 0, 0, \"Hertz\")  # 4th formant\n",
        "\n",
        "    return f1, f2, f3, f4\n"
      ]
    },
    {
      "cell_type": "code",
      "execution_count": 21,
      "metadata": {
        "id": "MXkNKx2KGGgM"
      },
      "outputs": [],
      "source": [
        "def extract_formant_bandwidths(audio_path):\n",
        "    snd = parselmouth.Sound(audio_path)\n",
        "\n",
        "    # Create a formant object\n",
        "    formant = call(snd, \"To Formant (burg)\", 0.025, 5, 5500, 0.02, 50)\n",
        "\n",
        "    # Extract the bandwidths for the first four formants with interpolation\n",
        "    b1 = call(formant, \"Get bandwidth at time\", 1, 0.5, \"Hertz\", \"linear\")  # 1st formant bandwidth\n",
        "    b2 = call(formant, \"Get bandwidth at time\", 2, 0.5, \"Hertz\", \"linear\")  # 2nd formant bandwidth\n",
        "    b3 = call(formant, \"Get bandwidth at time\", 3, 0.5, \"Hertz\", \"linear\")  # 3rd formant bandwidth\n",
        "    b4 = call(formant, \"Get bandwidth at time\", 4, 0.5, \"Hertz\", \"linear\")  # 4th formant bandwidth\n",
        "\n",
        "    return b1, b2, b3, b4"
      ]
    },
    {
      "cell_type": "code",
      "execution_count": 22,
      "metadata": {
        "id": "mICq7Eo1GGgM"
      },
      "outputs": [],
      "source": [
        "def extract_vocal_fold_features(audio_path):\n",
        "    # Load audio file using librosa\n",
        "    y, sr = librosa.load(audio_path, sr=None)\n",
        "\n",
        "    # Placeholder logic: actual computation of each feature can vary based on exact method\n",
        "    GQ_prc5_95 = np.percentile(y, [5, 95])\n",
        "    GQ_std_cycle_open = np.std(y[:len(y)//2])  # Placeholder for cycle open\n",
        "    GQ_std_cycle_closed = np.std(y[len(y)//2:])  # Placeholder for cycle closed\n",
        "    GNE_mean = np.mean(y)\n",
        "    GNE_std = np.std(y)\n",
        "\n",
        "    # SNR and NSR calculations (using available librosa features)\n",
        "    GNE_SNR_TKEO = np.mean(librosa.feature.spectral_bandwidth(y=y, sr=sr))\n",
        "    GNE_SNR_SEO = np.mean(librosa.feature.spectral_rolloff(y=y, sr=sr))\n",
        "    GNE_NSR_TKEO = np.mean(librosa.feature.zero_crossing_rate(y))\n",
        "    GNE_NSR_SEO = np.mean(librosa.feature.rms(y=y))\n",
        "\n",
        "    VFER_mean = np.mean(y)\n",
        "    VFER_std = np.std(y)\n",
        "    VFER_entropy = -np.sum(y * np.log(np.abs(y) + 1e-9))  # Entropy calculation (abs added for safety)\n",
        "    VFER_SNR_TKEO = np.std(librosa.feature.spectral_bandwidth(y=y, sr=sr))\n",
        "    VFER_SNR_SEO = np.std(librosa.feature.spectral_rolloff(y=y, sr=sr))\n",
        "    VFER_NSR_TKEO = np.std(librosa.feature.zero_crossing_rate(y))\n",
        "    VFER_NSR_SEO = np.std(librosa.feature.rms(y=y))\n",
        "\n",
        "    IMF_SNR_SEO = np.std(librosa.feature.spectral_rolloff(y=y, sr=sr))  # Placeholder\n",
        "    IMF_SNR_TKEO = np.std(librosa.feature.spectral_bandwidth(y=y, sr=sr))  # Placeholder\n",
        "    IMF_SNR_entropy = -np.sum(librosa.feature.spectral_bandwidth(y=y, sr=sr) *\n",
        "                              np.log(np.abs(librosa.feature.spectral_bandwidth(y=y, sr=sr)) + 1e-9))  # Entropy placeholder\n",
        "    IMF_NSR_SEO = np.std(librosa.feature.zero_crossing_rate(y))\n",
        "    IMF_NSR_TKEO = np.std(librosa.feature.zero_crossing_rate(y))\n",
        "    IMF_NSR_entropy = -np.sum(librosa.feature.rms(y=y) * np.log(np.abs(librosa.feature.rms(y=y)) + 1e-9))  # Placeholder for entropy\n",
        "\n",
        "    return {\n",
        "        'GQ_prc5_95_min': GQ_prc5_95[0],\n",
        "        'GQ_prc5_95_max': GQ_prc5_95[1],\n",
        "        'GQ_std_cycle_open': GQ_std_cycle_open,\n",
        "        'GQ_std_cycle_closed': GQ_std_cycle_closed,\n",
        "        'GNE_mean': GNE_mean,\n",
        "        'GNE_std': GNE_std,\n",
        "        'GNE_SNR_TKEO': GNE_SNR_TKEO,\n",
        "        'GNE_SNR_SEO': GNE_SNR_SEO,\n",
        "        'GNE_NSR_TKEO': GNE_NSR_TKEO,\n",
        "        'GNE_NSR_SEO': GNE_NSR_SEO,\n",
        "        'VFER_mean': VFER_mean,\n",
        "        'VFER_std': VFER_std,\n",
        "        'VFER_entropy': VFER_entropy,\n",
        "        'VFER_SNR_TKEO': VFER_SNR_TKEO,\n",
        "        'VFER_SNR_SEO': VFER_SNR_SEO,\n",
        "        'VFER_NSR_TKEO': VFER_NSR_TKEO,\n",
        "        'VFER_NSR_SEO': VFER_NSR_SEO,\n",
        "        'IMF_SNR_SEO': IMF_SNR_SEO,\n",
        "        'IMF_SNR_TKEO': IMF_SNR_TKEO,\n",
        "        'IMF_SNR_entropy': IMF_SNR_entropy,\n",
        "        'IMF_NSR_SEO': IMF_NSR_SEO,\n",
        "        'IMF_NSR_TKEO': IMF_NSR_TKEO,\n",
        "        'IMF_NSR_entropy': IMF_NSR_entropy\n",
        "    }\n"
      ]
    },
    {
      "cell_type": "code",
      "execution_count": 23,
      "metadata": {
        "id": "3sg99MNXGGgN"
      },
      "outputs": [],
      "source": [
        "def extract_mfcc_features(audio_path):\n",
        "    # Load audio file\n",
        "    y, sr = librosa.load(audio_path, sr=None)\n",
        "\n",
        "    # Compute MFCC (13 coefficients are standard, adjust if needed)\n",
        "    mfccs = librosa.feature.mfcc(y=y, sr=sr, n_mfcc=13)\n",
        "\n",
        "    # Compute deltas (first and second order differences)\n",
        "    mfcc_deltas = librosa.feature.delta(mfccs)\n",
        "    mfcc_delta_deltas = librosa.feature.delta(mfccs, order=2)\n",
        "\n",
        "    # Compute log energy (square root of RMS energy)\n",
        "    log_energy = np.log(np.mean(librosa.feature.rms(y=y)))\n",
        "\n",
        "    # Collecting mean and standard deviation for MFCCs, deltas, and delta-deltas\n",
        "    features = {\n",
        "        'mean_Log_energy': log_energy,\n",
        "        'mean_delta_log_energy': np.mean(mfcc_deltas),\n",
        "        'mean_delta_delta_log_energy': np.mean(mfcc_delta_deltas),\n",
        "        'std_Log_energy': np.std(log_energy),\n",
        "        'std_delta_log_energy': np.std(mfcc_deltas),\n",
        "        'std_delta_delta_log_energy': np.std(mfcc_delta_deltas)\n",
        "    }\n",
        "\n",
        "    # For each MFCC coefficient (0 to 12), add the mean and standard deviation of the MFCC, delta, and delta-delta\n",
        "    for i in range(13):\n",
        "        features[f'mean_MFCC_{i}th_coef'] = np.mean(mfccs[i, :])\n",
        "        features[f'std_MFCC_{i}th_coef'] = np.std(mfccs[i, :])\n",
        "        features[f'mean_{i}th_delta'] = np.mean(mfcc_deltas[i, :])\n",
        "        features[f'std_{i}th_delta'] = np.std(mfcc_deltas[i, :])\n",
        "        features[f'mean_{i}th_delta_delta'] = np.mean(mfcc_delta_deltas[i, :])\n",
        "        features[f'std_{i}th_delta_delta'] = np.std(mfcc_delta_deltas[i, :])\n",
        "\n",
        "    return features"
      ]
    },
    {
      "cell_type": "code",
      "execution_count": 24,
      "metadata": {
        "id": "B3fRhyxMGGgN"
      },
      "outputs": [],
      "source": [
        "# Helper function to compute Shannon entropy\n",
        "def entropy_shannon(data):\n",
        "    p_data = np.abs(data) / np.sum(np.abs(data))  # Normalize the data\n",
        "    entropy = -np.sum(p_data * np.log2(p_data + 1e-12))  # Add small constant to avoid log(0)\n",
        "    return entropy\n",
        "\n",
        "# Helper function to compute log entropy\n",
        "def entropy_log(data):\n",
        "    return np.sum(np.log(np.abs(data) + 1e-12))\n",
        "\n",
        "# Helper function to compute Teager-Kaiser Energy Operator (TKEO)\n",
        "def compute_TKEO(data):\n",
        "    TKEO = data[1:-1] ** 2 - data[:-2] * data[2:]\n",
        "    return np.mean(TKEO), np.std(TKEO)\n"
      ]
    },
    {
      "cell_type": "code",
      "execution_count": 25,
      "metadata": {
        "id": "fiZMNVpEGGgN"
      },
      "outputs": [],
      "source": [
        "def extract_wavelet_features(audio_path):\n",
        "    # Load the audio file\n",
        "    y, sr = librosa.load(audio_path, sr=None)\n",
        "\n",
        "    # Perform wavelet decomposition (using 'db4' wavelet as an example)\n",
        "    coeffs = pywt.wavedec(y, wavelet='db4', level=10)\n",
        "\n",
        "    # Extract approximation (Ea) and detail (Ed) coefficients\n",
        "    Ea = coeffs[0]  # Approximation\n",
        "    Ed_coeffs = coeffs[1:]  # Detail coefficients\n",
        "\n",
        "    # Initialize a dictionary to store wavelet features\n",
        "    features = {}\n",
        "\n",
        "    # Compute mean and standard deviation for approximation (Ea)\n",
        "    features['Ea'] = np.mean(Ea)\n",
        "\n",
        "    # Add statistics for each detail coefficient\n",
        "    for i, Ed in enumerate(Ed_coeffs, 1):\n",
        "        features[f'Ed_{i}_coef'] = np.mean(Ed)\n",
        "        features[f'det_entropy_shannon_{i}_coef'] = entropy_shannon(Ed)\n",
        "        features[f'det_entropy_log_{i}_coef'] = entropy_log(Ed)\n",
        "        features[f'det_TKEO_mean_{i}_coef'], features[f'det_TKEO_std_{i}_coef'] = compute_TKEO(Ed)\n",
        "\n",
        "    # Compute TKEO and entropy for the approximation (Ea) and add features\n",
        "    features['app_TKEO_mean'], features['app_TKEO_std'] = compute_TKEO(Ea)\n",
        "    features['app_entropy_shannon'] = entropy_shannon(Ea)\n",
        "    features['app_entropy_log'] = entropy_log(Ea)\n",
        "\n",
        "    return features"
      ]
    },
    {
      "cell_type": "code",
      "execution_count": 5,
      "metadata": {
        "id": "Cdm9DlTaGGgO"
      },
      "outputs": [],
      "source": [
        "# Combine all extracted features\n",
        "def extract_baseline_features(audio_path):\n",
        "    # Load audio using librosa\n",
        "    y, sr = librosa.load(audio_path, sr=None)\n",
        "\n",
        "    # Extract PPE, DFA, RPDE features (assuming you have these functions)\n",
        "    ppe = extract_ppe(audio_path)\n",
        "    dfa_value = extract_dfa(y)\n",
        "    rpde_value = extract_rpde(y)\n",
        "\n",
        "    # Pulse-related features\n",
        "    num_pulses, num_periods_pulses, mean_period_pulses, stddev_period_pulses = extract_pulse_features(audio_path)\n",
        "\n",
        "    # Jitter and shimmer features\n",
        "    jitter_local, jitter_rap, jitter_ppq5, jitter_ddp, jitter_loc_abs, shimmer_local, shimmer_db, shimmer_apq3, shimmer_apq5, shimmer_apq11, shimmer_dda = extract_jitter_shimmer(audio_path)\n",
        "\n",
        "    # Harmonicity features (assuming you have this function)\n",
        "    mean_harmonicity, mean_noise_to_harm  = extract_harmonicity_full(audio_path)\n",
        "\n",
        "    # Intensity features\n",
        "    min_intensity, max_intensity, mean_intensity = extract_intensity_features(audio_path)\n",
        "\n",
        "    #Formant features\n",
        "    f1,f2,f3,f4 = extract_formant_frequencies(audio_path)\n",
        "    b1, b2, b3, b4 = extract_formant_bandwidths(audio_path)\n",
        "\n",
        "    vocal_fold_features = extract_vocal_fold_features(audio_path)\n",
        "\n",
        "    mfcc_features = extract_mfcc_features(audio_path)\n",
        "\n",
        "    wavelet_features = extract_wavelet_features(audio_path)\n",
        "\n",
        "    print(wavelet_features)\n",
        "\n",
        "    # Combine all features into a single list\n",
        "    features = [\n",
        "        ppe, dfa_value, rpde_value,\n",
        "        num_pulses, num_periods_pulses, mean_period_pulses, stddev_period_pulses,\n",
        "        jitter_local, jitter_rap, jitter_ppq5, jitter_ddp, jitter_loc_abs,\n",
        "        shimmer_local, shimmer_db, shimmer_apq3, shimmer_apq5, shimmer_apq11, shimmer_dda,\n",
        "        mean_harmonicity, mean_noise_to_harm,\n",
        "        min_intensity, max_intensity, mean_intensity,\n",
        "        f1,f2,f3,f4,\n",
        "        b1, b2, b3, b4,\n",
        "        vocal_fold_features['GQ_prc5_95_min'], vocal_fold_features['GQ_prc5_95_max'],\n",
        "        vocal_fold_features['GQ_std_cycle_open'], vocal_fold_features['GQ_std_cycle_closed'],\n",
        "        vocal_fold_features['GNE_mean'], vocal_fold_features['GNE_std'],\n",
        "        vocal_fold_features['GNE_SNR_TKEO'], vocal_fold_features['GNE_SNR_SEO'],\n",
        "        vocal_fold_features['GNE_NSR_TKEO'], vocal_fold_features['GNE_NSR_SEO'],\n",
        "        vocal_fold_features['VFER_mean'], vocal_fold_features['VFER_std'],\n",
        "        vocal_fold_features['VFER_entropy'], vocal_fold_features['VFER_SNR_TKEO'],\n",
        "        vocal_fold_features['VFER_SNR_SEO'], vocal_fold_features['VFER_NSR_TKEO'],\n",
        "        vocal_fold_features['VFER_NSR_SEO'], vocal_fold_features['IMF_SNR_SEO'],\n",
        "        vocal_fold_features['IMF_SNR_TKEO'], vocal_fold_features['IMF_SNR_entropy'],\n",
        "        vocal_fold_features['IMF_NSR_SEO'], vocal_fold_features['IMF_NSR_TKEO'],\n",
        "        vocal_fold_features['IMF_NSR_entropy'],\n",
        "    ]\n",
        "\n",
        "    features += list(mfcc_features.values())\n",
        "\n",
        "    features += list(wavelet_features.values())\n",
        "\n",
        "    return features\n"
      ]
    },
    {
      "cell_type": "code",
      "source": [
        "def process_single_audio_file(audio_file, output_csv):\n",
        "    columns = [\n",
        "        'PPE', 'DFA', 'RPDE',\n",
        "        'numPulses', 'numPeriodsPulses', 'meanPeriodPulses', 'stdDevPeriodPulses',\n",
        "        'locPctJitter', 'rapJitter', 'ppq5Jitter', 'ddpJitter', 'locAbsJitter',\n",
        "        'locShimmer', 'locDbShimmer', 'apq3Shimmer', 'apq5Shimmer', 'apq11Shimmer', 'ddaShimmer',\n",
        "        'meanHarmToNoiseHarmonicity', 'meanNoiseToHarmHarmonicity',\n",
        "        'minIntensity', 'maxIntensity', 'meanIntensity',\n",
        "        'f1','f2','f3','f4',\n",
        "        'b1', 'b2', 'b3', 'b4',\n",
        "        'GQ_prc5_95_low', 'GQ_prc5_95_high', 'GQ_std_cycle_open', 'GQ_std_cycle_closed',\n",
        "        'GNE_mean', 'GNE_std', 'GNE_SNR_TKEO', 'GNE_SNR_SEO', 'GNE_NSR_TKEO', 'GNE_NSR_SEO',\n",
        "        'VFER_mean', 'VFER_std', 'VFER_entropy', 'VFER_SNR_TKEO', 'VFER_SNR_SEO', 'VFER_NSR_TKEO', 'VFER_NSR_SEO',\n",
        "        'IMF_SNR_SEO', 'IMF_SNR_TKEO', 'IMF_SNR_entropy', 'IMF_NSR_SEO', 'IMF_NSR_TKEO', 'IMF_NSR_entropy',\n",
        "        'mean_Log_energy', 'mean_MFCC_0th_coef', 'mean_MFCC_1st_coef', 'mean_MFCC_2nd_coef',\n",
        "        'mean_MFCC_3rd_coef', 'mean_MFCC_4th_coef', 'mean_MFCC_5th_coef', 'mean_MFCC_6th_coef',\n",
        "        'mean_MFCC_7th_coef', 'mean_MFCC_8th_coef', 'mean_MFCC_9th_coef', 'mean_MFCC_10th_coef',\n",
        "        'mean_MFCC_11th_coef', 'mean_MFCC_12th_coef',\n",
        "        'mean_delta_log_energy', 'mean_0th_delta', 'mean_1st_delta', 'mean_2nd_delta', 'mean_3rd_delta',\n",
        "        'mean_4th_delta', 'mean_5th_delta', 'mean_6th_delta', 'mean_7th_delta', 'mean_8th_delta',\n",
        "        'mean_9th_delta', 'mean_10th_delta', 'mean_11th_delta', 'mean_12th_delta',\n",
        "        'mean_delta_delta_log_energy', 'mean_delta_delta_0th', 'mean_1st_delta_delta', 'mean_2nd_delta_delta',\n",
        "        'mean_3rd_delta_delta', 'mean_4th_delta_delta', 'mean_5th_delta_delta', 'mean_6th_delta_delta',\n",
        "        'mean_7th_delta_delta', 'mean_8th_delta_delta', 'mean_9th_delta_delta', 'mean_10th_delta_delta',\n",
        "        'mean_11th_delta_delta', 'mean_12th_delta_delta',\n",
        "        'std_Log_energy', 'std_MFCC_0th_coef', 'std_MFCC_1st_coef', 'std_MFCC_2nd_coef',\n",
        "        'std_MFCC_3rd_coef', 'std_MFCC_4th_coef', 'std_MFCC_5th_coef', 'std_MFCC_6th_coef',\n",
        "        'std_MFCC_7th_coef', 'std_MFCC_8th_coef', 'std_MFCC_9th_coef', 'std_MFCC_10th_coef',\n",
        "        'std_MFCC_11th_coef', 'std_MFCC_12th_coef',\n",
        "        'std_delta_log_energy', 'std_0th_delta', 'std_1st_delta', 'std_2nd_delta', 'std_3rd_delta',\n",
        "        'std_4th_delta', 'std_5th_delta', 'std_6th_delta', 'std_7th_delta', 'std_8th_delta',\n",
        "        'std_9th_delta', 'std_10th_delta', 'std_11th_delta', 'std_12th_delta',\n",
        "        'std_delta_delta_log_energy', 'std_delta_delta_0th', 'std_1st_delta_delta', 'std_2nd_delta_delta',\n",
        "        'std_3rd_delta_delta', 'std_4th_delta_delta', 'std_5th_delta_delta', 'std_6th_delta_delta',\n",
        "        'std_7th_delta_delta', 'std_8th_delta_delta', 'std_9th_delta_delta', 'std_10th_delta_delta',\n",
        "        'std_11th_delta_delta', 'std_12th_delta_delta',\n",
        "        'Ea',\n",
        "        'Ed_1_coef', 'det_entropy_shannon_1_coef', 'det_entropy_log_1_coef', 'det_TKEO_mean_1_coef', 'det_TKEO_std_1_coef',\n",
        "        'Ed_2_coef', 'det_entropy_shannon_2_coef', 'det_entropy_log_2_coef', 'det_TKEO_mean_2_coef', 'det_TKEO_std_2_coef',\n",
        "        'Ed_3_coef', 'det_entropy_shannon_3_coef', 'det_entropy_log_3_coef', 'det_TKEO_mean_3_coef', 'det_TKEO_std_3_coef',\n",
        "        'Ed_4_coef', 'det_entropy_shannon_4_coef', 'det_entropy_log_4_coef', 'det_TKEO_mean_4_coef', 'det_TKEO_std_4_coef',\n",
        "        'Ed_5_coef', 'det_entropy_shannon_5_coef', 'det_entropy_log_5_coef', 'det_TKEO_mean_5_coef', 'det_TKEO_std_5_coef',\n",
        "        'Ed_6_coef', 'det_entropy_shannon_6_coef', 'det_entropy_log_6_coef', 'det_TKEO_mean_6_coef', 'det_TKEO_std_6_coef',\n",
        "        'Ed_7_coef', 'det_entropy_shannon_7_coef', 'det_entropy_log_7_coef', 'det_TKEO_mean_7_coef', 'det_TKEO_std_7_coef',\n",
        "        'Ed_8_coef', 'det_entropy_shannon_8_coef', 'det_entropy_log_8_coef', 'det_TKEO_mean_8_coef', 'det_TKEO_std_8_coef',\n",
        "        'Ed_9_coef', 'det_entropy_shannon_9_coef', 'det_entropy_log_9_coef', 'det_TKEO_mean_9_coef', 'det_TKEO_std_9_coef',\n",
        "        'Ed_10_coef', 'det_entropy_shannon_10_coef', 'det_entropy_log_10_coef', 'det_TKEO_mean_10_coef', 'det_TKEO_std_10_coef',\n",
        "        'app_TKEO_mean', 'app_TKEO_std', 'app_entropy_shannon', 'app_entropy_log'\n",
        "    ]\n",
        "\n",
        "    # Extract features for the single file\n",
        "    baseline_features = extract_baseline_features(audio_file)\n",
        "\n",
        "    # Check how many features are extracted\n",
        "    print(f\"Extracted features: {len(baseline_features)}\")\n",
        "    print(f\"Expected columns: {len(columns)}\")\n",
        "\n",
        "    # Convert to DataFrame\n",
        "    df = pd.DataFrame([baseline_features], columns=columns)\n",
        "\n",
        "    # Save to CSV\n",
        "    df.to_csv(output_csv, index=False)\n",
        "    print(f\"Features for {audio_file} saved to {output_csv}\")\n"
      ],
      "metadata": {
        "id": "Yp14Fg3aMkU2"
      },
      "execution_count": 30,
      "outputs": []
    },
    {
      "cell_type": "code",
      "source": [
        "from google.colab import drive\n",
        "drive.mount('/content/drive')"
      ],
      "metadata": {
        "colab": {
          "base_uri": "https://localhost:8080/"
        },
        "id": "1ygvth9-LK3G",
        "outputId": "d482e36c-3b6a-402f-e6ff-b4466e4ec94b"
      },
      "execution_count": 26,
      "outputs": [
        {
          "output_type": "stream",
          "name": "stdout",
          "text": [
            "Mounted at /content/drive\n"
          ]
        }
      ]
    },
    {
      "cell_type": "code",
      "execution_count": 31,
      "metadata": {
        "colab": {
          "base_uri": "https://localhost:8080/"
        },
        "id": "wyC5kdnuGGgO",
        "outputId": "9e77dc69-6c99-4a66-9602-27ac7830ecda"
      },
      "outputs": [
        {
          "output_type": "stream",
          "name": "stdout",
          "text": [
            "{'Ea': -0.002850953, 'Ed_1_coef': -0.0026014354, 'det_entropy_shannon_1_coef': 6.9550624, 'det_entropy_log_1_coef': -1116.4492, 'det_TKEO_mean_1_coef': 0.0014138226, 'det_TKEO_std_1_coef': 0.0049380274, 'Ed_2_coef': 0.0018141125, 'det_entropy_shannon_2_coef': 7.573886, 'det_entropy_log_2_coef': -1919.1707, 'det_TKEO_mean_2_coef': 0.011356091, 'det_TKEO_std_2_coef': 0.045625594, 'Ed_3_coef': 0.0019212032, 'det_entropy_shannon_3_coef': 7.871857, 'det_entropy_log_3_coef': -3857.9731, 'det_TKEO_mean_3_coef': 0.06933149, 'det_TKEO_std_3_coef': 0.21943815, 'Ed_4_coef': 0.006176976, 'det_entropy_shannon_4_coef': 8.823524, 'det_entropy_log_4_coef': -7195.2197, 'det_TKEO_mean_4_coef': 0.03605586, 'det_TKEO_std_4_coef': 0.124082826, 'Ed_5_coef': 0.0034020513, 'det_entropy_shannon_5_coef': 10.066814, 'det_entropy_log_5_coef': -14118.3, 'det_TKEO_mean_5_coef': 0.04006153, 'det_TKEO_std_5_coef': 0.3781604, 'Ed_6_coef': -0.00014367023, 'det_entropy_shannon_6_coef': 11.102175, 'det_entropy_log_6_coef': -29190.965, 'det_TKEO_mean_6_coef': 0.09693901, 'det_TKEO_std_6_coef': 0.39412355, 'Ed_7_coef': 0.0013249541, 'det_entropy_shannon_7_coef': 12.019465, 'det_entropy_log_7_coef': -66876.266, 'det_TKEO_mean_7_coef': 0.019176424, 'det_TKEO_std_7_coef': 0.117367566, 'Ed_8_coef': 0.0006720764, 'det_entropy_shannon_8_coef': 13.378694, 'det_entropy_log_8_coef': -136961.02, 'det_TKEO_mean_8_coef': 0.01003079, 'det_TKEO_std_8_coef': 0.04061722, 'Ed_9_coef': -2.9827233e-05, 'det_entropy_shannon_9_coef': 14.520833, 'det_entropy_log_9_coef': -305896.88, 'det_TKEO_mean_9_coef': 0.0014742202, 'det_TKEO_std_9_coef': 0.004786527, 'Ed_10_coef': -2.1222179e-11, 'det_entropy_shannon_10_coef': 15.45502, 'det_entropy_log_10_coef': -734582.8, 'det_TKEO_mean_10_coef': 0.00020625036, 'det_TKEO_std_10_coef': 0.00061988906, 'app_TKEO_mean': 0.00017424111, 'app_TKEO_std': 0.00035198368, 'app_entropy_shannon': 7.131342, 'app_entropy_log': -1255.1433}\n",
            "Extracted features: 193\n",
            "Expected columns: 193\n",
            "Features for /content/drive/My Drive/iLab/mixkit-man-stretches-and-yawns-2468.wav saved to /content/drive/My Drive/iLab/single_audio_features.csv\n"
          ]
        }
      ],
      "source": [
        "#audio_file = '../data/raw/test.wav'  # Replace with your actual file path\n",
        "audio_file = '/content/drive/My Drive/iLab/mixkit-man-stretches-and-yawns-2468.wav'\n",
        "output_csv = '/content/drive/My Drive/iLab/single_audio_features.csv'\n",
        "process_single_audio_file(audio_file, output_csv)"
      ]
    },
    {
      "cell_type": "code",
      "execution_count": null,
      "metadata": {
        "id": "A0Cr4jfgGGgO"
      },
      "outputs": [],
      "source": [
        "df = pd.read_csv(\"single_audio_features.csv\")"
      ]
    },
    {
      "cell_type": "code",
      "execution_count": null,
      "metadata": {
        "id": "NzLGYwTtGGgO",
        "outputId": "4a1e9575-439e-49b1-d564-0149d6cf25e8"
      },
      "outputs": [
        {
          "data": {
            "text/html": [
              "<div>\n",
              "<style scoped>\n",
              "    .dataframe tbody tr th:only-of-type {\n",
              "        vertical-align: middle;\n",
              "    }\n",
              "\n",
              "    .dataframe tbody tr th {\n",
              "        vertical-align: top;\n",
              "    }\n",
              "\n",
              "    .dataframe thead th {\n",
              "        text-align: right;\n",
              "    }\n",
              "</style>\n",
              "<table border=\"1\" class=\"dataframe\">\n",
              "  <thead>\n",
              "    <tr style=\"text-align: right;\">\n",
              "      <th></th>\n",
              "      <th>PPE</th>\n",
              "      <th>DFA</th>\n",
              "      <th>RPDE</th>\n",
              "      <th>numPulses</th>\n",
              "      <th>numPeriodsPulses</th>\n",
              "      <th>meanPeriodPulses</th>\n",
              "      <th>stdDevPeriodPulses</th>\n",
              "      <th>locPctJitter</th>\n",
              "      <th>rapJitter</th>\n",
              "      <th>ppq5Jitter</th>\n",
              "      <th>...</th>\n",
              "      <th>det_TKEO_std_9_coef</th>\n",
              "      <th>Ed_10_coef</th>\n",
              "      <th>det_entropy_shannon_10_coef</th>\n",
              "      <th>det_entropy_log_10_coef</th>\n",
              "      <th>det_TKEO_mean_10_coef</th>\n",
              "      <th>det_TKEO_std_10_coef</th>\n",
              "      <th>app_TKEO_mean</th>\n",
              "      <th>app_TKEO_std</th>\n",
              "      <th>app_entropy_shannon</th>\n",
              "      <th>app_entropy_log</th>\n",
              "    </tr>\n",
              "  </thead>\n",
              "  <tbody>\n",
              "    <tr>\n",
              "      <th>0</th>\n",
              "      <td>128.200229</td>\n",
              "      <td>0.626037</td>\n",
              "      <td>8.74539</td>\n",
              "      <td>136</td>\n",
              "      <td>135</td>\n",
              "      <td>0.007927</td>\n",
              "      <td>0.001871</td>\n",
              "      <td>0.00845</td>\n",
              "      <td>0.003708</td>\n",
              "      <td>0.004168</td>\n",
              "      <td>...</td>\n",
              "      <td>0.000004</td>\n",
              "      <td>-1.129350e-08</td>\n",
              "      <td>14.529393</td>\n",
              "      <td>-464815.25</td>\n",
              "      <td>4.378862e-08</td>\n",
              "      <td>2.953155e-07</td>\n",
              "      <td>0.001929</td>\n",
              "      <td>0.003333</td>\n",
              "      <td>5.753789</td>\n",
              "      <td>-454.3848</td>\n",
              "    </tr>\n",
              "  </tbody>\n",
              "</table>\n",
              "<p>1 rows × 191 columns</p>\n",
              "</div>"
            ],
            "text/plain": [
              "          PPE       DFA     RPDE  numPulses  numPeriodsPulses  \\\n",
              "0  128.200229  0.626037  8.74539        136               135   \n",
              "\n",
              "   meanPeriodPulses  stdDevPeriodPulses  locPctJitter  rapJitter  ppq5Jitter  \\\n",
              "0          0.007927            0.001871       0.00845   0.003708    0.004168   \n",
              "\n",
              "   ...  det_TKEO_std_9_coef    Ed_10_coef  det_entropy_shannon_10_coef  \\\n",
              "0  ...             0.000004 -1.129350e-08                    14.529393   \n",
              "\n",
              "   det_entropy_log_10_coef  det_TKEO_mean_10_coef  det_TKEO_std_10_coef  \\\n",
              "0               -464815.25           4.378862e-08          2.953155e-07   \n",
              "\n",
              "   app_TKEO_mean  app_TKEO_std  app_entropy_shannon  app_entropy_log  \n",
              "0       0.001929      0.003333             5.753789        -454.3848  \n",
              "\n",
              "[1 rows x 191 columns]"
            ]
          },
          "execution_count": 38,
          "metadata": {},
          "output_type": "execute_result"
        }
      ],
      "source": [
        "df.head()"
      ]
    }
  ],
  "metadata": {
    "kernelspec": {
      "display_name": ".venv",
      "language": "python",
      "name": "python3"
    },
    "language_info": {
      "codemirror_mode": {
        "name": "ipython",
        "version": 3
      },
      "file_extension": ".py",
      "mimetype": "text/x-python",
      "name": "python",
      "nbconvert_exporter": "python",
      "pygments_lexer": "ipython3",
      "version": "3.11.4"
    },
    "colab": {
      "provenance": []
    }
  },
  "nbformat": 4,
  "nbformat_minor": 0
}